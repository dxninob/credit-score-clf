{
  "cells": [
    {
      "cell_type": "markdown",
      "id": "4Q_sHZvFlhzj",
      "metadata": {
        "id": "4Q_sHZvFlhzj"
      },
      "source": [
        "# Proyecto Integrador 2023-2"
      ]
    },
    {
      "cell_type": "markdown",
      "id": "t19OfXoelsJH",
      "metadata": {
        "id": "t19OfXoelsJH"
      },
      "source": [
        "Estudiantes :\n",
        "\n",
        "* Juan Felipe Cardona Arango\n",
        "* Juan Sebastian Sanin Villareal\n",
        "* Samuel Ceballos Posada\n",
        "* Daniela Ximena Niño Barbosa\n",
        "\n"
      ]
    },
    {
      "cell_type": "markdown",
      "id": "6Vq3QJ2UhRNk",
      "metadata": {
        "id": "6Vq3QJ2UhRNk"
      },
      "source": [
        "# Fase I. Business Understanding\n",
        "Definición de necesidades del cliente (comprensión del negocio)"
      ]
    },
    {
      "cell_type": "markdown",
      "id": "CujszEFAxftS",
      "metadata": {
        "id": "CujszEFAxftS"
      },
      "source": [
        "## Contexto del negocio"
      ]
    },
    {
      "cell_type": "markdown",
      "id": "IvVEMUbPhU8T",
      "metadata": {
        "id": "IvVEMUbPhU8T"
      },
      "source": [
        "El mercado de otorgar créditos financieros a personas es un mercado competitivo en el que las instituciones financieras compiten por captar clientes y generar ingresos. Las instituciones financieras que participan en este mercado deben tomar decisiones informadas sobre quién debe recibir un crédito y en qué condiciones.\n",
        "\n",
        "Información Relacionada con la Toma de Decisiones:\n",
        "\n",
        "* Datos del Solicitante: Las instituciones financieras recopilan información sobre los solicitantes de crédito, incluyendo sus ingresos, gastos, deudas existentes, historial crediticio y propósito del crédito. Esta información se utiliza para evaluar el riesgo crediticio del solicitante.\n",
        "* Modelos de Crédito: Las instituciones financieras utilizan modelos de crédito para evaluar el riesgo crediticio de los solicitantes. Estos modelos utilizan datos históricos para predecir la probabilidad de que un solicitante de crédito incumpla.\n",
        "* Reglas del Negocio: Las instituciones financieras tienen reglas del negocio que deben seguir al otorgar créditos. Estas reglas están diseñadas para proteger a las instituciones financieras del riesgo crediticio.\n",
        "\n",
        "Decisiones Clave:\n",
        "\n",
        "* Decisión de otorgar crédito: La decisión más importante que deben tomar las instituciones financieras es si otorgar o rechazar un crédito. Esta decisión se basa en la evaluación del riesgo crediticio del solicitante.\n",
        "* Condiciones del crédito: Una vez que la institución financiera decide otorgar un crédito, debe negociar las condiciones del crédito con el solicitante. Estas condiciones incluyen el monto del crédito, el plazo del crédito, la tasa de interés y las garantías.\n",
        "\n",
        "Optimizaciones:\n",
        "\n",
        "* Automatización: Las instituciones financieras pueden utilizar la automatización para mejorar la eficiencia de su proceso de aprobación de crédito. Esto puede ayudar a reducir los costos y aumentar la velocidad de respuesta.\n",
        "* Modelos de Crédito: Las instituciones financieras pueden utilizar modelos de crédito más avanzados para mejorar la precisión de sus evaluaciones de riesgo crediticio.\n",
        "* Análisis de datos: Las instituciones financieras pueden utilizar el análisis de datos para identificar patrones y tendencias que pueden ser útiles para la toma de decisiones de crédito."
      ]
    },
    {
      "cell_type": "markdown",
      "id": "7jz0Y08lxmMz",
      "metadata": {
        "id": "7jz0Y08lxmMz"
      },
      "source": [
        "## Pregunta de negocio"
      ]
    },
    {
      "cell_type": "markdown",
      "id": "x9Gf0N-khYHb",
      "metadata": {
        "id": "x9Gf0N-khYHb"
      },
      "source": [
        "El objetivo es responder a la siguiente pregunta de negocio:\n",
        "\n",
        "*XXXXXXX*"
      ]
    },
    {
      "cell_type": "markdown",
      "id": "y4g4nxsbxqa6",
      "metadata": {
        "id": "y4g4nxsbxqa6"
      },
      "source": [
        "## Reglas de negocio"
      ]
    },
    {
      "cell_type": "markdown",
      "id": "W3LiEHiZhdev",
      "metadata": {
        "id": "W3LiEHiZhdev"
      },
      "source": [
        "Las reglas del negocio para otorgar o rechazar un crédito financiero son las siguientes:\n",
        "\n",
        "* Capacidad de pago: El solicitante debe tener la capacidad de pagar el crédito, incluyendo los intereses y comisiones. Esto se puede evaluar considerando los ingresos, gastos, deudas existentes y otros compromisos financieros del solicitante.\n",
        "* Historial crediticio: El solicitante debe tener un historial crediticio positivo. Esto se puede verificar en las centrales de riesgo.\n",
        "* Propósito del crédito: El propósito del crédito debe ser legítimo y estar respaldado por un plan de negocios o personal claro.\n",
        "* Garantías: El solicitante puede ofrecer garantías para respaldar el crédito. Esto puede incluir bienes inmuebles, vehículos o activos comerciales.\n"
      ]
    },
    {
      "cell_type": "markdown",
      "id": "goL32rZoVp0R",
      "metadata": {
        "id": "goL32rZoVp0R"
      },
      "source": [
        "# Fase II. Data Understanding\n",
        "Estudio y comprensión de los datos"
      ]
    },
    {
      "cell_type": "markdown",
      "id": "_ZOiqA63-pta",
      "metadata": {
        "id": "_ZOiqA63-pta"
      },
      "source": [
        "## Librerías y lectura del dataset"
      ]
    },
    {
      "cell_type": "code",
      "execution_count": 1,
      "id": "j7NaUcrX8iH4",
      "metadata": {
        "id": "j7NaUcrX8iH4"
      },
      "outputs": [],
      "source": [
        "import numpy as np\n",
        "import pandas as pd\n",
        "import matplotlib.pyplot as plt\n",
        "import seaborn as sns\n",
        "import statistics\n",
        "\n",
        "import scipy.stats as stats\n",
        "from sklearn.metrics import *\n",
        "from sklearn.preprocessing import StandardScaler\n",
        "from sklearn.model_selection import GridSearchCV\n",
        "# Modelos\n",
        "from sklearn.linear_model import LogisticRegression\n",
        "from sklearn.neighbors import KNeighborsClassifier\n",
        "from sklearn.discriminant_analysis import LinearDiscriminantAnalysis, QuadraticDiscriminantAnalysis\n",
        "from sklearn.naive_bayes import GaussianNB\n",
        "random_state = 42"
      ]
    },
    {
      "cell_type": "code",
      "execution_count": 2,
      "id": "6BjPcdmF-AUt",
      "metadata": {
        "colab": {
          "base_uri": "https://localhost:8080/"
        },
        "id": "6BjPcdmF-AUt",
        "outputId": "85126467-88c4-4556-cc28-b783289e7344"
      },
      "outputs": [],
      "source": [
        "# # Access to Drive\n",
        "# from google.colab import drive\n",
        "# drive.mount('/content/drive')"
      ]
    },
    {
      "cell_type": "code",
      "execution_count": 3,
      "id": "TXrvVwuL-B_f",
      "metadata": {
        "colab": {
          "base_uri": "https://localhost:8080/",
          "height": 0
        },
        "id": "TXrvVwuL-B_f",
        "outputId": "babc4114-e6c7-4a5e-ade6-0505db78b7bc"
      },
      "outputs": [
        {
          "name": "stderr",
          "output_type": "stream",
          "text": [
            "C:\\Users\\Daniela\\AppData\\Local\\Temp\\ipykernel_8300\\2400898023.py:2: DtypeWarning: Columns (26) have mixed types. Specify dtype option on import or set low_memory=False.\n",
            "  df = pd.read_csv('C:/Users/Daniela/Downloads/train.csv')\n"
          ]
        },
        {
          "data": {
            "text/html": [
              "<div>\n",
              "<style scoped>\n",
              "    .dataframe tbody tr th:only-of-type {\n",
              "        vertical-align: middle;\n",
              "    }\n",
              "\n",
              "    .dataframe tbody tr th {\n",
              "        vertical-align: top;\n",
              "    }\n",
              "\n",
              "    .dataframe thead th {\n",
              "        text-align: right;\n",
              "    }\n",
              "</style>\n",
              "<table border=\"1\" class=\"dataframe\">\n",
              "  <thead>\n",
              "    <tr style=\"text-align: right;\">\n",
              "      <th></th>\n",
              "      <th>ID</th>\n",
              "      <th>Customer_ID</th>\n",
              "      <th>Month</th>\n",
              "      <th>Name</th>\n",
              "      <th>Age</th>\n",
              "      <th>SSN</th>\n",
              "      <th>Occupation</th>\n",
              "      <th>Annual_Income</th>\n",
              "      <th>Monthly_Inhand_Salary</th>\n",
              "      <th>Num_Bank_Accounts</th>\n",
              "      <th>...</th>\n",
              "      <th>Credit_Mix</th>\n",
              "      <th>Outstanding_Debt</th>\n",
              "      <th>Credit_Utilization_Ratio</th>\n",
              "      <th>Credit_History_Age</th>\n",
              "      <th>Payment_of_Min_Amount</th>\n",
              "      <th>Total_EMI_per_month</th>\n",
              "      <th>Amount_invested_monthly</th>\n",
              "      <th>Payment_Behaviour</th>\n",
              "      <th>Monthly_Balance</th>\n",
              "      <th>Credit_Score</th>\n",
              "    </tr>\n",
              "  </thead>\n",
              "  <tbody>\n",
              "    <tr>\n",
              "      <th>0</th>\n",
              "      <td>0x1602</td>\n",
              "      <td>CUS_0xd40</td>\n",
              "      <td>January</td>\n",
              "      <td>Aaron Maashoh</td>\n",
              "      <td>23</td>\n",
              "      <td>821-00-0265</td>\n",
              "      <td>Scientist</td>\n",
              "      <td>19114.12</td>\n",
              "      <td>1824.843333</td>\n",
              "      <td>3</td>\n",
              "      <td>...</td>\n",
              "      <td>_</td>\n",
              "      <td>809.98</td>\n",
              "      <td>26.822620</td>\n",
              "      <td>22 Years and 1 Months</td>\n",
              "      <td>No</td>\n",
              "      <td>49.574949</td>\n",
              "      <td>80.41529543900253</td>\n",
              "      <td>High_spent_Small_value_payments</td>\n",
              "      <td>312.49408867943663</td>\n",
              "      <td>Good</td>\n",
              "    </tr>\n",
              "    <tr>\n",
              "      <th>1</th>\n",
              "      <td>0x1603</td>\n",
              "      <td>CUS_0xd40</td>\n",
              "      <td>February</td>\n",
              "      <td>Aaron Maashoh</td>\n",
              "      <td>23</td>\n",
              "      <td>821-00-0265</td>\n",
              "      <td>Scientist</td>\n",
              "      <td>19114.12</td>\n",
              "      <td>NaN</td>\n",
              "      <td>3</td>\n",
              "      <td>...</td>\n",
              "      <td>Good</td>\n",
              "      <td>809.98</td>\n",
              "      <td>31.944960</td>\n",
              "      <td>NaN</td>\n",
              "      <td>No</td>\n",
              "      <td>49.574949</td>\n",
              "      <td>118.28022162236736</td>\n",
              "      <td>Low_spent_Large_value_payments</td>\n",
              "      <td>284.62916249607184</td>\n",
              "      <td>Good</td>\n",
              "    </tr>\n",
              "    <tr>\n",
              "      <th>2</th>\n",
              "      <td>0x1604</td>\n",
              "      <td>CUS_0xd40</td>\n",
              "      <td>March</td>\n",
              "      <td>Aaron Maashoh</td>\n",
              "      <td>-500</td>\n",
              "      <td>821-00-0265</td>\n",
              "      <td>Scientist</td>\n",
              "      <td>19114.12</td>\n",
              "      <td>NaN</td>\n",
              "      <td>3</td>\n",
              "      <td>...</td>\n",
              "      <td>Good</td>\n",
              "      <td>809.98</td>\n",
              "      <td>28.609352</td>\n",
              "      <td>22 Years and 3 Months</td>\n",
              "      <td>No</td>\n",
              "      <td>49.574949</td>\n",
              "      <td>81.699521264648</td>\n",
              "      <td>Low_spent_Medium_value_payments</td>\n",
              "      <td>331.2098628537912</td>\n",
              "      <td>Good</td>\n",
              "    </tr>\n",
              "    <tr>\n",
              "      <th>3</th>\n",
              "      <td>0x1605</td>\n",
              "      <td>CUS_0xd40</td>\n",
              "      <td>April</td>\n",
              "      <td>Aaron Maashoh</td>\n",
              "      <td>23</td>\n",
              "      <td>821-00-0265</td>\n",
              "      <td>Scientist</td>\n",
              "      <td>19114.12</td>\n",
              "      <td>NaN</td>\n",
              "      <td>3</td>\n",
              "      <td>...</td>\n",
              "      <td>Good</td>\n",
              "      <td>809.98</td>\n",
              "      <td>31.377862</td>\n",
              "      <td>22 Years and 4 Months</td>\n",
              "      <td>No</td>\n",
              "      <td>49.574949</td>\n",
              "      <td>199.4580743910713</td>\n",
              "      <td>Low_spent_Small_value_payments</td>\n",
              "      <td>223.45130972736786</td>\n",
              "      <td>Good</td>\n",
              "    </tr>\n",
              "    <tr>\n",
              "      <th>4</th>\n",
              "      <td>0x1606</td>\n",
              "      <td>CUS_0xd40</td>\n",
              "      <td>May</td>\n",
              "      <td>Aaron Maashoh</td>\n",
              "      <td>23</td>\n",
              "      <td>821-00-0265</td>\n",
              "      <td>Scientist</td>\n",
              "      <td>19114.12</td>\n",
              "      <td>1824.843333</td>\n",
              "      <td>3</td>\n",
              "      <td>...</td>\n",
              "      <td>Good</td>\n",
              "      <td>809.98</td>\n",
              "      <td>24.797347</td>\n",
              "      <td>22 Years and 5 Months</td>\n",
              "      <td>No</td>\n",
              "      <td>49.574949</td>\n",
              "      <td>41.420153086217326</td>\n",
              "      <td>High_spent_Medium_value_payments</td>\n",
              "      <td>341.48923103222177</td>\n",
              "      <td>Good</td>\n",
              "    </tr>\n",
              "    <tr>\n",
              "      <th>...</th>\n",
              "      <td>...</td>\n",
              "      <td>...</td>\n",
              "      <td>...</td>\n",
              "      <td>...</td>\n",
              "      <td>...</td>\n",
              "      <td>...</td>\n",
              "      <td>...</td>\n",
              "      <td>...</td>\n",
              "      <td>...</td>\n",
              "      <td>...</td>\n",
              "      <td>...</td>\n",
              "      <td>...</td>\n",
              "      <td>...</td>\n",
              "      <td>...</td>\n",
              "      <td>...</td>\n",
              "      <td>...</td>\n",
              "      <td>...</td>\n",
              "      <td>...</td>\n",
              "      <td>...</td>\n",
              "      <td>...</td>\n",
              "      <td>...</td>\n",
              "    </tr>\n",
              "    <tr>\n",
              "      <th>99995</th>\n",
              "      <td>0x25fe9</td>\n",
              "      <td>CUS_0x942c</td>\n",
              "      <td>April</td>\n",
              "      <td>Nicks</td>\n",
              "      <td>25</td>\n",
              "      <td>078-73-5990</td>\n",
              "      <td>Mechanic</td>\n",
              "      <td>39628.99</td>\n",
              "      <td>3359.415833</td>\n",
              "      <td>4</td>\n",
              "      <td>...</td>\n",
              "      <td>_</td>\n",
              "      <td>502.38</td>\n",
              "      <td>34.663572</td>\n",
              "      <td>31 Years and 6 Months</td>\n",
              "      <td>No</td>\n",
              "      <td>35.104023</td>\n",
              "      <td>60.97133255718485</td>\n",
              "      <td>High_spent_Large_value_payments</td>\n",
              "      <td>479.866228</td>\n",
              "      <td>Poor</td>\n",
              "    </tr>\n",
              "    <tr>\n",
              "      <th>99996</th>\n",
              "      <td>0x25fea</td>\n",
              "      <td>CUS_0x942c</td>\n",
              "      <td>May</td>\n",
              "      <td>Nicks</td>\n",
              "      <td>25</td>\n",
              "      <td>078-73-5990</td>\n",
              "      <td>Mechanic</td>\n",
              "      <td>39628.99</td>\n",
              "      <td>3359.415833</td>\n",
              "      <td>4</td>\n",
              "      <td>...</td>\n",
              "      <td>_</td>\n",
              "      <td>502.38</td>\n",
              "      <td>40.565631</td>\n",
              "      <td>31 Years and 7 Months</td>\n",
              "      <td>No</td>\n",
              "      <td>35.104023</td>\n",
              "      <td>54.18595028760385</td>\n",
              "      <td>High_spent_Medium_value_payments</td>\n",
              "      <td>496.65161</td>\n",
              "      <td>Poor</td>\n",
              "    </tr>\n",
              "    <tr>\n",
              "      <th>99997</th>\n",
              "      <td>0x25feb</td>\n",
              "      <td>CUS_0x942c</td>\n",
              "      <td>June</td>\n",
              "      <td>Nicks</td>\n",
              "      <td>25</td>\n",
              "      <td>078-73-5990</td>\n",
              "      <td>Mechanic</td>\n",
              "      <td>39628.99</td>\n",
              "      <td>3359.415833</td>\n",
              "      <td>4</td>\n",
              "      <td>...</td>\n",
              "      <td>Good</td>\n",
              "      <td>502.38</td>\n",
              "      <td>41.255522</td>\n",
              "      <td>31 Years and 8 Months</td>\n",
              "      <td>No</td>\n",
              "      <td>35.104023</td>\n",
              "      <td>24.02847744864441</td>\n",
              "      <td>High_spent_Large_value_payments</td>\n",
              "      <td>516.809083</td>\n",
              "      <td>Poor</td>\n",
              "    </tr>\n",
              "    <tr>\n",
              "      <th>99998</th>\n",
              "      <td>0x25fec</td>\n",
              "      <td>CUS_0x942c</td>\n",
              "      <td>July</td>\n",
              "      <td>Nicks</td>\n",
              "      <td>25</td>\n",
              "      <td>078-73-5990</td>\n",
              "      <td>Mechanic</td>\n",
              "      <td>39628.99</td>\n",
              "      <td>3359.415833</td>\n",
              "      <td>4</td>\n",
              "      <td>...</td>\n",
              "      <td>Good</td>\n",
              "      <td>502.38</td>\n",
              "      <td>33.638208</td>\n",
              "      <td>31 Years and 9 Months</td>\n",
              "      <td>No</td>\n",
              "      <td>35.104023</td>\n",
              "      <td>251.67258219721603</td>\n",
              "      <td>Low_spent_Large_value_payments</td>\n",
              "      <td>319.164979</td>\n",
              "      <td>Standard</td>\n",
              "    </tr>\n",
              "    <tr>\n",
              "      <th>99999</th>\n",
              "      <td>0x25fed</td>\n",
              "      <td>CUS_0x942c</td>\n",
              "      <td>August</td>\n",
              "      <td>Nicks</td>\n",
              "      <td>25</td>\n",
              "      <td>078-73-5990</td>\n",
              "      <td>Mechanic</td>\n",
              "      <td>39628.99_</td>\n",
              "      <td>3359.415833</td>\n",
              "      <td>4</td>\n",
              "      <td>...</td>\n",
              "      <td>Good</td>\n",
              "      <td>502.38</td>\n",
              "      <td>34.192463</td>\n",
              "      <td>31 Years and 10 Months</td>\n",
              "      <td>No</td>\n",
              "      <td>35.104023</td>\n",
              "      <td>167.1638651610451</td>\n",
              "      <td>!@9#%8</td>\n",
              "      <td>393.673696</td>\n",
              "      <td>Poor</td>\n",
              "    </tr>\n",
              "  </tbody>\n",
              "</table>\n",
              "<p>100000 rows × 28 columns</p>\n",
              "</div>"
            ],
            "text/plain": [
              "            ID Customer_ID     Month           Name   Age          SSN  \\\n",
              "0       0x1602   CUS_0xd40   January  Aaron Maashoh    23  821-00-0265   \n",
              "1       0x1603   CUS_0xd40  February  Aaron Maashoh    23  821-00-0265   \n",
              "2       0x1604   CUS_0xd40     March  Aaron Maashoh  -500  821-00-0265   \n",
              "3       0x1605   CUS_0xd40     April  Aaron Maashoh    23  821-00-0265   \n",
              "4       0x1606   CUS_0xd40       May  Aaron Maashoh    23  821-00-0265   \n",
              "...        ...         ...       ...            ...   ...          ...   \n",
              "99995  0x25fe9  CUS_0x942c     April          Nicks    25  078-73-5990   \n",
              "99996  0x25fea  CUS_0x942c       May          Nicks    25  078-73-5990   \n",
              "99997  0x25feb  CUS_0x942c      June          Nicks    25  078-73-5990   \n",
              "99998  0x25fec  CUS_0x942c      July          Nicks    25  078-73-5990   \n",
              "99999  0x25fed  CUS_0x942c    August          Nicks    25  078-73-5990   \n",
              "\n",
              "      Occupation Annual_Income  Monthly_Inhand_Salary  Num_Bank_Accounts  ...  \\\n",
              "0      Scientist      19114.12            1824.843333                  3  ...   \n",
              "1      Scientist      19114.12                    NaN                  3  ...   \n",
              "2      Scientist      19114.12                    NaN                  3  ...   \n",
              "3      Scientist      19114.12                    NaN                  3  ...   \n",
              "4      Scientist      19114.12            1824.843333                  3  ...   \n",
              "...          ...           ...                    ...                ...  ...   \n",
              "99995   Mechanic      39628.99            3359.415833                  4  ...   \n",
              "99996   Mechanic      39628.99            3359.415833                  4  ...   \n",
              "99997   Mechanic      39628.99            3359.415833                  4  ...   \n",
              "99998   Mechanic      39628.99            3359.415833                  4  ...   \n",
              "99999   Mechanic     39628.99_            3359.415833                  4  ...   \n",
              "\n",
              "       Credit_Mix  Outstanding_Debt Credit_Utilization_Ratio  \\\n",
              "0               _            809.98                26.822620   \n",
              "1            Good            809.98                31.944960   \n",
              "2            Good            809.98                28.609352   \n",
              "3            Good            809.98                31.377862   \n",
              "4            Good            809.98                24.797347   \n",
              "...           ...               ...                      ...   \n",
              "99995           _            502.38                34.663572   \n",
              "99996           _            502.38                40.565631   \n",
              "99997        Good            502.38                41.255522   \n",
              "99998        Good            502.38                33.638208   \n",
              "99999        Good            502.38                34.192463   \n",
              "\n",
              "           Credit_History_Age  Payment_of_Min_Amount Total_EMI_per_month  \\\n",
              "0       22 Years and 1 Months                     No           49.574949   \n",
              "1                         NaN                     No           49.574949   \n",
              "2       22 Years and 3 Months                     No           49.574949   \n",
              "3       22 Years and 4 Months                     No           49.574949   \n",
              "4       22 Years and 5 Months                     No           49.574949   \n",
              "...                       ...                    ...                 ...   \n",
              "99995   31 Years and 6 Months                     No           35.104023   \n",
              "99996   31 Years and 7 Months                     No           35.104023   \n",
              "99997   31 Years and 8 Months                     No           35.104023   \n",
              "99998   31 Years and 9 Months                     No           35.104023   \n",
              "99999  31 Years and 10 Months                     No           35.104023   \n",
              "\n",
              "      Amount_invested_monthly                 Payment_Behaviour  \\\n",
              "0           80.41529543900253   High_spent_Small_value_payments   \n",
              "1          118.28022162236736    Low_spent_Large_value_payments   \n",
              "2             81.699521264648   Low_spent_Medium_value_payments   \n",
              "3           199.4580743910713    Low_spent_Small_value_payments   \n",
              "4          41.420153086217326  High_spent_Medium_value_payments   \n",
              "...                       ...                               ...   \n",
              "99995       60.97133255718485   High_spent_Large_value_payments   \n",
              "99996       54.18595028760385  High_spent_Medium_value_payments   \n",
              "99997       24.02847744864441   High_spent_Large_value_payments   \n",
              "99998      251.67258219721603    Low_spent_Large_value_payments   \n",
              "99999       167.1638651610451                            !@9#%8   \n",
              "\n",
              "          Monthly_Balance Credit_Score  \n",
              "0      312.49408867943663         Good  \n",
              "1      284.62916249607184         Good  \n",
              "2       331.2098628537912         Good  \n",
              "3      223.45130972736786         Good  \n",
              "4      341.48923103222177         Good  \n",
              "...                   ...          ...  \n",
              "99995          479.866228         Poor  \n",
              "99996           496.65161         Poor  \n",
              "99997          516.809083         Poor  \n",
              "99998          319.164979     Standard  \n",
              "99999          393.673696         Poor  \n",
              "\n",
              "[100000 rows x 28 columns]"
            ]
          },
          "execution_count": 3,
          "metadata": {},
          "output_type": "execute_result"
        }
      ],
      "source": [
        "# Read the dataset using Pandas\n",
        "df = pd.read_csv('C:/Users/Daniela/Downloads/train.csv')\n",
        "df"
      ]
    },
    {
      "cell_type": "markdown",
      "id": "aBv22tzf-lnU",
      "metadata": {
        "id": "aBv22tzf-lnU"
      },
      "source": [
        "## EDA"
      ]
    },
    {
      "cell_type": "markdown",
      "id": "HfBoV9pP_sNQ",
      "metadata": {
        "id": "HfBoV9pP_sNQ"
      },
      "source": [
        "### Exploring the dataset"
      ]
    },
    {
      "cell_type": "code",
      "execution_count": 4,
      "id": "NAVKWuzJ_DjN",
      "metadata": {
        "colab": {
          "base_uri": "https://localhost:8080/"
        },
        "id": "NAVKWuzJ_DjN",
        "outputId": "ba5ed5dc-e752-4079-9249-cc2ac6c869ee"
      },
      "outputs": [
        {
          "data": {
            "text/plain": [
              "Index(['ID', 'Customer_ID', 'Month', 'Name', 'Age', 'SSN', 'Occupation',\n",
              "       'Annual_Income', 'Monthly_Inhand_Salary', 'Num_Bank_Accounts',\n",
              "       'Num_Credit_Card', 'Interest_Rate', 'Num_of_Loan', 'Type_of_Loan',\n",
              "       'Delay_from_due_date', 'Num_of_Delayed_Payment', 'Changed_Credit_Limit',\n",
              "       'Num_Credit_Inquiries', 'Credit_Mix', 'Outstanding_Debt',\n",
              "       'Credit_Utilization_Ratio', 'Credit_History_Age',\n",
              "       'Payment_of_Min_Amount', 'Total_EMI_per_month',\n",
              "       'Amount_invested_monthly', 'Payment_Behaviour', 'Monthly_Balance',\n",
              "       'Credit_Score'],\n",
              "      dtype='object')"
            ]
          },
          "execution_count": 4,
          "metadata": {},
          "output_type": "execute_result"
        }
      ],
      "source": [
        "df.columns"
      ]
    },
    {
      "cell_type": "code",
      "execution_count": 5,
      "id": "GE7fwMTZ8ymd",
      "metadata": {
        "colab": {
          "base_uri": "https://localhost:8080/"
        },
        "id": "GE7fwMTZ8ymd",
        "outputId": "4f2cd18d-b68c-43f6-e293-55592ca8c408"
      },
      "outputs": [
        {
          "data": {
            "text/plain": [
              "(100000, 28)"
            ]
          },
          "execution_count": 5,
          "metadata": {},
          "output_type": "execute_result"
        }
      ],
      "source": [
        "df.shape"
      ]
    },
    {
      "cell_type": "code",
      "execution_count": 6,
      "id": "-QWTu1zQ_NYB",
      "metadata": {
        "colab": {
          "base_uri": "https://localhost:8080/"
        },
        "id": "-QWTu1zQ_NYB",
        "outputId": "f08f180a-a10d-4c28-ddeb-77ff85a49009"
      },
      "outputs": [
        {
          "data": {
            "text/plain": [
              "ID                           object\n",
              "Customer_ID                  object\n",
              "Month                        object\n",
              "Name                         object\n",
              "Age                          object\n",
              "SSN                          object\n",
              "Occupation                   object\n",
              "Annual_Income                object\n",
              "Monthly_Inhand_Salary       float64\n",
              "Num_Bank_Accounts             int64\n",
              "Num_Credit_Card               int64\n",
              "Interest_Rate                 int64\n",
              "Num_of_Loan                  object\n",
              "Type_of_Loan                 object\n",
              "Delay_from_due_date           int64\n",
              "Num_of_Delayed_Payment       object\n",
              "Changed_Credit_Limit         object\n",
              "Num_Credit_Inquiries        float64\n",
              "Credit_Mix                   object\n",
              "Outstanding_Debt             object\n",
              "Credit_Utilization_Ratio    float64\n",
              "Credit_History_Age           object\n",
              "Payment_of_Min_Amount        object\n",
              "Total_EMI_per_month         float64\n",
              "Amount_invested_monthly      object\n",
              "Payment_Behaviour            object\n",
              "Monthly_Balance              object\n",
              "Credit_Score                 object\n",
              "dtype: object"
            ]
          },
          "execution_count": 6,
          "metadata": {},
          "output_type": "execute_result"
        }
      ],
      "source": [
        "df.dtypes"
      ]
    },
    {
      "cell_type": "code",
      "execution_count": 7,
      "id": "NJhP7pI8_Px2",
      "metadata": {
        "colab": {
          "base_uri": "https://localhost:8080/"
        },
        "id": "NJhP7pI8_Px2",
        "outputId": "570aadc8-ac74-4449-e095-9805089ca237"
      },
      "outputs": [
        {
          "name": "stdout",
          "output_type": "stream",
          "text": [
            "<class 'pandas.core.frame.DataFrame'>\n",
            "RangeIndex: 100000 entries, 0 to 99999\n",
            "Data columns (total 28 columns):\n",
            " #   Column                    Non-Null Count   Dtype  \n",
            "---  ------                    --------------   -----  \n",
            " 0   ID                        100000 non-null  object \n",
            " 1   Customer_ID               100000 non-null  object \n",
            " 2   Month                     100000 non-null  object \n",
            " 3   Name                      90015 non-null   object \n",
            " 4   Age                       100000 non-null  object \n",
            " 5   SSN                       100000 non-null  object \n",
            " 6   Occupation                100000 non-null  object \n",
            " 7   Annual_Income             100000 non-null  object \n",
            " 8   Monthly_Inhand_Salary     84998 non-null   float64\n",
            " 9   Num_Bank_Accounts         100000 non-null  int64  \n",
            " 10  Num_Credit_Card           100000 non-null  int64  \n",
            " 11  Interest_Rate             100000 non-null  int64  \n",
            " 12  Num_of_Loan               100000 non-null  object \n",
            " 13  Type_of_Loan              88592 non-null   object \n",
            " 14  Delay_from_due_date       100000 non-null  int64  \n",
            " 15  Num_of_Delayed_Payment    92998 non-null   object \n",
            " 16  Changed_Credit_Limit      100000 non-null  object \n",
            " 17  Num_Credit_Inquiries      98035 non-null   float64\n",
            " 18  Credit_Mix                100000 non-null  object \n",
            " 19  Outstanding_Debt          100000 non-null  object \n",
            " 20  Credit_Utilization_Ratio  100000 non-null  float64\n",
            " 21  Credit_History_Age        90970 non-null   object \n",
            " 22  Payment_of_Min_Amount     100000 non-null  object \n",
            " 23  Total_EMI_per_month       100000 non-null  float64\n",
            " 24  Amount_invested_monthly   95521 non-null   object \n",
            " 25  Payment_Behaviour         100000 non-null  object \n",
            " 26  Monthly_Balance           98800 non-null   object \n",
            " 27  Credit_Score              100000 non-null  object \n",
            "dtypes: float64(4), int64(4), object(20)\n",
            "memory usage: 21.4+ MB\n"
          ]
        }
      ],
      "source": [
        "df.info()"
      ]
    },
    {
      "cell_type": "markdown",
      "id": "024MtCtx_T1A",
      "metadata": {
        "id": "024MtCtx_T1A"
      },
      "source": [
        "Observaciones:\n",
        "1. Existen valores nulos en el dataset.\n",
        "2. El dataset tiene variables numericas y strings."
      ]
    },
    {
      "cell_type": "code",
      "execution_count": 8,
      "id": "889B9G4R_Xou",
      "metadata": {
        "colab": {
          "base_uri": "https://localhost:8080/",
          "height": 0
        },
        "id": "889B9G4R_Xou",
        "outputId": "12ed36e5-5872-4744-ee72-aba2f2c1e6e6"
      },
      "outputs": [
        {
          "data": {
            "text/html": [
              "<div>\n",
              "<style scoped>\n",
              "    .dataframe tbody tr th:only-of-type {\n",
              "        vertical-align: middle;\n",
              "    }\n",
              "\n",
              "    .dataframe tbody tr th {\n",
              "        vertical-align: top;\n",
              "    }\n",
              "\n",
              "    .dataframe thead th {\n",
              "        text-align: right;\n",
              "    }\n",
              "</style>\n",
              "<table border=\"1\" class=\"dataframe\">\n",
              "  <thead>\n",
              "    <tr style=\"text-align: right;\">\n",
              "      <th></th>\n",
              "      <th>count</th>\n",
              "      <th>mean</th>\n",
              "      <th>std</th>\n",
              "      <th>min</th>\n",
              "      <th>25%</th>\n",
              "      <th>50%</th>\n",
              "      <th>75%</th>\n",
              "      <th>max</th>\n",
              "    </tr>\n",
              "  </thead>\n",
              "  <tbody>\n",
              "    <tr>\n",
              "      <th>Monthly_Inhand_Salary</th>\n",
              "      <td>84998.0</td>\n",
              "      <td>4194.170850</td>\n",
              "      <td>3183.686167</td>\n",
              "      <td>303.645417</td>\n",
              "      <td>1625.568229</td>\n",
              "      <td>3093.745000</td>\n",
              "      <td>5957.448333</td>\n",
              "      <td>15204.633333</td>\n",
              "    </tr>\n",
              "    <tr>\n",
              "      <th>Num_Bank_Accounts</th>\n",
              "      <td>100000.0</td>\n",
              "      <td>17.091280</td>\n",
              "      <td>117.404834</td>\n",
              "      <td>-1.000000</td>\n",
              "      <td>3.000000</td>\n",
              "      <td>6.000000</td>\n",
              "      <td>7.000000</td>\n",
              "      <td>1798.000000</td>\n",
              "    </tr>\n",
              "    <tr>\n",
              "      <th>Num_Credit_Card</th>\n",
              "      <td>100000.0</td>\n",
              "      <td>22.474430</td>\n",
              "      <td>129.057410</td>\n",
              "      <td>0.000000</td>\n",
              "      <td>4.000000</td>\n",
              "      <td>5.000000</td>\n",
              "      <td>7.000000</td>\n",
              "      <td>1499.000000</td>\n",
              "    </tr>\n",
              "    <tr>\n",
              "      <th>Interest_Rate</th>\n",
              "      <td>100000.0</td>\n",
              "      <td>72.466040</td>\n",
              "      <td>466.422621</td>\n",
              "      <td>1.000000</td>\n",
              "      <td>8.000000</td>\n",
              "      <td>13.000000</td>\n",
              "      <td>20.000000</td>\n",
              "      <td>5797.000000</td>\n",
              "    </tr>\n",
              "    <tr>\n",
              "      <th>Delay_from_due_date</th>\n",
              "      <td>100000.0</td>\n",
              "      <td>21.068780</td>\n",
              "      <td>14.860104</td>\n",
              "      <td>-5.000000</td>\n",
              "      <td>10.000000</td>\n",
              "      <td>18.000000</td>\n",
              "      <td>28.000000</td>\n",
              "      <td>67.000000</td>\n",
              "    </tr>\n",
              "    <tr>\n",
              "      <th>Num_Credit_Inquiries</th>\n",
              "      <td>98035.0</td>\n",
              "      <td>27.754251</td>\n",
              "      <td>193.177339</td>\n",
              "      <td>0.000000</td>\n",
              "      <td>3.000000</td>\n",
              "      <td>6.000000</td>\n",
              "      <td>9.000000</td>\n",
              "      <td>2597.000000</td>\n",
              "    </tr>\n",
              "    <tr>\n",
              "      <th>Credit_Utilization_Ratio</th>\n",
              "      <td>100000.0</td>\n",
              "      <td>32.285173</td>\n",
              "      <td>5.116875</td>\n",
              "      <td>20.000000</td>\n",
              "      <td>28.052567</td>\n",
              "      <td>32.305784</td>\n",
              "      <td>36.496663</td>\n",
              "      <td>50.000000</td>\n",
              "    </tr>\n",
              "    <tr>\n",
              "      <th>Total_EMI_per_month</th>\n",
              "      <td>100000.0</td>\n",
              "      <td>1403.118217</td>\n",
              "      <td>8306.041270</td>\n",
              "      <td>0.000000</td>\n",
              "      <td>30.306660</td>\n",
              "      <td>69.249473</td>\n",
              "      <td>161.224249</td>\n",
              "      <td>82331.000000</td>\n",
              "    </tr>\n",
              "  </tbody>\n",
              "</table>\n",
              "</div>"
            ],
            "text/plain": [
              "                             count         mean          std         min  \\\n",
              "Monthly_Inhand_Salary      84998.0  4194.170850  3183.686167  303.645417   \n",
              "Num_Bank_Accounts         100000.0    17.091280   117.404834   -1.000000   \n",
              "Num_Credit_Card           100000.0    22.474430   129.057410    0.000000   \n",
              "Interest_Rate             100000.0    72.466040   466.422621    1.000000   \n",
              "Delay_from_due_date       100000.0    21.068780    14.860104   -5.000000   \n",
              "Num_Credit_Inquiries       98035.0    27.754251   193.177339    0.000000   \n",
              "Credit_Utilization_Ratio  100000.0    32.285173     5.116875   20.000000   \n",
              "Total_EMI_per_month       100000.0  1403.118217  8306.041270    0.000000   \n",
              "\n",
              "                                  25%          50%          75%           max  \n",
              "Monthly_Inhand_Salary     1625.568229  3093.745000  5957.448333  15204.633333  \n",
              "Num_Bank_Accounts            3.000000     6.000000     7.000000   1798.000000  \n",
              "Num_Credit_Card              4.000000     5.000000     7.000000   1499.000000  \n",
              "Interest_Rate                8.000000    13.000000    20.000000   5797.000000  \n",
              "Delay_from_due_date         10.000000    18.000000    28.000000     67.000000  \n",
              "Num_Credit_Inquiries         3.000000     6.000000     9.000000   2597.000000  \n",
              "Credit_Utilization_Ratio    28.052567    32.305784    36.496663     50.000000  \n",
              "Total_EMI_per_month         30.306660    69.249473   161.224249  82331.000000  "
            ]
          },
          "execution_count": 8,
          "metadata": {},
          "output_type": "execute_result"
        }
      ],
      "source": [
        "df.describe().T"
      ]
    },
    {
      "cell_type": "code",
      "execution_count": 9,
      "id": "0L_XJGIn_akQ",
      "metadata": {
        "colab": {
          "base_uri": "https://localhost:8080/",
          "height": 0
        },
        "id": "0L_XJGIn_akQ",
        "outputId": "56c737b8-0c9a-4c3d-9fa5-bc2b7d4f2743"
      },
      "outputs": [
        {
          "data": {
            "text/html": [
              "<div>\n",
              "<style scoped>\n",
              "    .dataframe tbody tr th:only-of-type {\n",
              "        vertical-align: middle;\n",
              "    }\n",
              "\n",
              "    .dataframe tbody tr th {\n",
              "        vertical-align: top;\n",
              "    }\n",
              "\n",
              "    .dataframe thead th {\n",
              "        text-align: right;\n",
              "    }\n",
              "</style>\n",
              "<table border=\"1\" class=\"dataframe\">\n",
              "  <thead>\n",
              "    <tr style=\"text-align: right;\">\n",
              "      <th></th>\n",
              "      <th>count</th>\n",
              "      <th>unique</th>\n",
              "      <th>top</th>\n",
              "      <th>freq</th>\n",
              "    </tr>\n",
              "  </thead>\n",
              "  <tbody>\n",
              "    <tr>\n",
              "      <th>ID</th>\n",
              "      <td>100000</td>\n",
              "      <td>100000</td>\n",
              "      <td>0x1602</td>\n",
              "      <td>1</td>\n",
              "    </tr>\n",
              "    <tr>\n",
              "      <th>Customer_ID</th>\n",
              "      <td>100000</td>\n",
              "      <td>12500</td>\n",
              "      <td>CUS_0xd40</td>\n",
              "      <td>8</td>\n",
              "    </tr>\n",
              "    <tr>\n",
              "      <th>Month</th>\n",
              "      <td>100000</td>\n",
              "      <td>8</td>\n",
              "      <td>January</td>\n",
              "      <td>12500</td>\n",
              "    </tr>\n",
              "    <tr>\n",
              "      <th>Name</th>\n",
              "      <td>90015</td>\n",
              "      <td>10139</td>\n",
              "      <td>Langep</td>\n",
              "      <td>44</td>\n",
              "    </tr>\n",
              "    <tr>\n",
              "      <th>Age</th>\n",
              "      <td>100000</td>\n",
              "      <td>1788</td>\n",
              "      <td>38</td>\n",
              "      <td>2833</td>\n",
              "    </tr>\n",
              "    <tr>\n",
              "      <th>SSN</th>\n",
              "      <td>100000</td>\n",
              "      <td>12501</td>\n",
              "      <td>#F%$D@*&amp;8</td>\n",
              "      <td>5572</td>\n",
              "    </tr>\n",
              "    <tr>\n",
              "      <th>Occupation</th>\n",
              "      <td>100000</td>\n",
              "      <td>16</td>\n",
              "      <td>_______</td>\n",
              "      <td>7062</td>\n",
              "    </tr>\n",
              "    <tr>\n",
              "      <th>Annual_Income</th>\n",
              "      <td>100000</td>\n",
              "      <td>18940</td>\n",
              "      <td>36585.12</td>\n",
              "      <td>16</td>\n",
              "    </tr>\n",
              "    <tr>\n",
              "      <th>Num_of_Loan</th>\n",
              "      <td>100000</td>\n",
              "      <td>434</td>\n",
              "      <td>3</td>\n",
              "      <td>14386</td>\n",
              "    </tr>\n",
              "    <tr>\n",
              "      <th>Type_of_Loan</th>\n",
              "      <td>88592</td>\n",
              "      <td>6260</td>\n",
              "      <td>Not Specified</td>\n",
              "      <td>1408</td>\n",
              "    </tr>\n",
              "    <tr>\n",
              "      <th>Num_of_Delayed_Payment</th>\n",
              "      <td>92998</td>\n",
              "      <td>749</td>\n",
              "      <td>19</td>\n",
              "      <td>5327</td>\n",
              "    </tr>\n",
              "    <tr>\n",
              "      <th>Changed_Credit_Limit</th>\n",
              "      <td>100000</td>\n",
              "      <td>4384</td>\n",
              "      <td>_</td>\n",
              "      <td>2091</td>\n",
              "    </tr>\n",
              "    <tr>\n",
              "      <th>Credit_Mix</th>\n",
              "      <td>100000</td>\n",
              "      <td>4</td>\n",
              "      <td>Standard</td>\n",
              "      <td>36479</td>\n",
              "    </tr>\n",
              "    <tr>\n",
              "      <th>Outstanding_Debt</th>\n",
              "      <td>100000</td>\n",
              "      <td>13178</td>\n",
              "      <td>1360.45</td>\n",
              "      <td>24</td>\n",
              "    </tr>\n",
              "    <tr>\n",
              "      <th>Credit_History_Age</th>\n",
              "      <td>90970</td>\n",
              "      <td>404</td>\n",
              "      <td>15 Years and 11 Months</td>\n",
              "      <td>446</td>\n",
              "    </tr>\n",
              "    <tr>\n",
              "      <th>Payment_of_Min_Amount</th>\n",
              "      <td>100000</td>\n",
              "      <td>3</td>\n",
              "      <td>Yes</td>\n",
              "      <td>52326</td>\n",
              "    </tr>\n",
              "    <tr>\n",
              "      <th>Amount_invested_monthly</th>\n",
              "      <td>95521</td>\n",
              "      <td>91049</td>\n",
              "      <td>__10000__</td>\n",
              "      <td>4305</td>\n",
              "    </tr>\n",
              "    <tr>\n",
              "      <th>Payment_Behaviour</th>\n",
              "      <td>100000</td>\n",
              "      <td>7</td>\n",
              "      <td>Low_spent_Small_value_payments</td>\n",
              "      <td>25513</td>\n",
              "    </tr>\n",
              "    <tr>\n",
              "      <th>Monthly_Balance</th>\n",
              "      <td>98800</td>\n",
              "      <td>98792</td>\n",
              "      <td>__-333333333333333333333333333__</td>\n",
              "      <td>9</td>\n",
              "    </tr>\n",
              "    <tr>\n",
              "      <th>Credit_Score</th>\n",
              "      <td>100000</td>\n",
              "      <td>3</td>\n",
              "      <td>Standard</td>\n",
              "      <td>53174</td>\n",
              "    </tr>\n",
              "  </tbody>\n",
              "</table>\n",
              "</div>"
            ],
            "text/plain": [
              "                          count  unique                               top  \\\n",
              "ID                       100000  100000                            0x1602   \n",
              "Customer_ID              100000   12500                         CUS_0xd40   \n",
              "Month                    100000       8                           January   \n",
              "Name                      90015   10139                            Langep   \n",
              "Age                      100000    1788                                38   \n",
              "SSN                      100000   12501                         #F%$D@*&8   \n",
              "Occupation               100000      16                           _______   \n",
              "Annual_Income            100000   18940                          36585.12   \n",
              "Num_of_Loan              100000     434                                 3   \n",
              "Type_of_Loan              88592    6260                     Not Specified   \n",
              "Num_of_Delayed_Payment    92998     749                                19   \n",
              "Changed_Credit_Limit     100000    4384                                 _   \n",
              "Credit_Mix               100000       4                          Standard   \n",
              "Outstanding_Debt         100000   13178                           1360.45   \n",
              "Credit_History_Age        90970     404            15 Years and 11 Months   \n",
              "Payment_of_Min_Amount    100000       3                               Yes   \n",
              "Amount_invested_monthly   95521   91049                         __10000__   \n",
              "Payment_Behaviour        100000       7    Low_spent_Small_value_payments   \n",
              "Monthly_Balance           98800   98792  __-333333333333333333333333333__   \n",
              "Credit_Score             100000       3                          Standard   \n",
              "\n",
              "                          freq  \n",
              "ID                           1  \n",
              "Customer_ID                  8  \n",
              "Month                    12500  \n",
              "Name                        44  \n",
              "Age                       2833  \n",
              "SSN                       5572  \n",
              "Occupation                7062  \n",
              "Annual_Income               16  \n",
              "Num_of_Loan              14386  \n",
              "Type_of_Loan              1408  \n",
              "Num_of_Delayed_Payment    5327  \n",
              "Changed_Credit_Limit      2091  \n",
              "Credit_Mix               36479  \n",
              "Outstanding_Debt            24  \n",
              "Credit_History_Age         446  \n",
              "Payment_of_Min_Amount    52326  \n",
              "Amount_invested_monthly   4305  \n",
              "Payment_Behaviour        25513  \n",
              "Monthly_Balance              9  \n",
              "Credit_Score             53174  "
            ]
          },
          "execution_count": 9,
          "metadata": {},
          "output_type": "execute_result"
        }
      ],
      "source": [
        "df.describe(exclude=np.number).T"
      ]
    },
    {
      "cell_type": "markdown",
      "id": "y1nvfQGX_fkB",
      "metadata": {
        "id": "y1nvfQGX_fkB"
      },
      "source": [
        "Observaciones:\n",
        "1.\tEl campo Customer_ID tiene 12500 valores únicos, lo que significa que tenemos datos de 12500 clientes.\n",
        "2. El campo Month tiene solo 8 valores únicos. Debemos analizar que meses están presentes.\n",
        "3. El campo Age tiene 1788 valores únicos. Esto es una anomalía ya que únicamente hay edades de 0-100\n",
        "4. El campo SSN tiene 12501 valores únicos, mientras que Customer_ID tiene solo 12500 valores únicos. Existe la posibilidad de que se haya ingresado un valor de SSN incorrecto para uno de los clientes, ya que la misma persona no puede tener múltiples SSN."
      ]
    },
    {
      "cell_type": "code",
      "execution_count": 10,
      "id": "eSf0sffKNkiy",
      "metadata": {
        "colab": {
          "base_uri": "https://localhost:8080/"
        },
        "id": "eSf0sffKNkiy",
        "outputId": "a9e81ae4-9390-4980-e85e-8f08c5748891"
      },
      "outputs": [
        {
          "name": "stdout",
          "output_type": "stream",
          "text": [
            "\n",
            " ID ['0x1602' '0x1603' '0x1604' ... '0x25feb' '0x25fec' '0x25fed']\n",
            "\n",
            " Customer_ID ['CUS_0xd40' 'CUS_0x21b1' 'CUS_0x2dbc' ... 'CUS_0xaf61' 'CUS_0x8600'\n",
            " 'CUS_0x942c']\n",
            "\n",
            " Month ['January' 'February' 'March' 'April' 'May' 'June' 'July' 'August']\n",
            "\n",
            " Name ['Aaron Maashoh' nan 'Rick Rothackerj' ... 'Chris Wickhamm'\n",
            " 'Sarah McBridec' 'Nicks']\n",
            "\n",
            " Age ['23' '-500' '28_' ... '4808_' '2263' '1342']\n",
            "\n",
            " SSN ['821-00-0265' '#F%$D@*&8' '004-07-5839' ... '133-16-7738' '031-35-0942'\n",
            " '078-73-5990']\n",
            "\n",
            " Occupation ['Scientist' '_______' 'Teacher' 'Engineer' 'Entrepreneur' 'Developer'\n",
            " 'Lawyer' 'Media_Manager' 'Doctor' 'Journalist' 'Manager' 'Accountant'\n",
            " 'Musician' 'Mechanic' 'Writer' 'Architect']\n",
            "\n",
            " Annual_Income ['19114.12' '34847.84' '34847.84_' ... '20002.88' '39628.99' '39628.99_']\n",
            "\n",
            " Monthly_Inhand_Salary [1824.84333333           nan 3037.98666667 ... 3097.00833333 1929.90666667\n",
            " 3359.41583333]\n",
            "\n",
            " Num_Bank_Accounts [   3    2    1    7    4    0    8    5    6    9   10 1414 1231   67\n",
            "  572 1488   91  528 1647 1696 1338  649  889 1668  685  857  975 1496\n",
            " 1534 1620   37 1388 1429 1332 1588  120 1777 1096  803  494  744 1139\n",
            "  831 1613  741  121  665 1748 1644  823 1356 1651   87  711  450  210\n",
            " 1671 1722  648  672 1662 1495  510  666  429 1131 1434  980 1026  526\n",
            "  718 1300 1312 1315  501 1566  480 1042  322  628 1016  333 1265  791\n",
            "  427  563  905 1190 1036 1611   38  619  555 1769  280  752 1201  812\n",
            " 1487  222  212 1019 1222  610 1714 1308  525 1158 1115 1616  754 1601\n",
            "  797 1577  521  703  933  959  809 1089 1656 1113 1715  964 1533 1789\n",
            "  871  434 1295  565 1724  603  677  541  698 1101  464 1539 1462 1011\n",
            " 1257 1727   45  244 1266  897  535  484  331  675  826  946 1675  105\n",
            " 1327  845  549  473  710  527  908   68 1628  371  445 1168  868  687\n",
            "  455 1003   26 1526  618  598  351 1342 1783  683 1557 1335  416 1747\n",
            "  137 1475  373  338  942  170  973 1605 1478  386 1448 1033 1225  596\n",
            " 1731 1214 1481 1105  580  347  108  148 1001 1467 1114 1000  632  246\n",
            " 1032 1394  689  482 1303  720  574  588 1358  650  708  179  844 1140\n",
            "  335   60  732 1494 1436  820   28 1576  818  794  731  534  556  691\n",
            " 1197 1155 1255 1763  769 1124  819  318 1418  882   61  264  194 1798\n",
            "  611  840  505 1110  719 1065  195  584  550 1014 1022  903  976   31\n",
            "  417 1423 1148  616  786 1424   55 1061 1293  342   43 1540  488 1122\n",
            " 1274 1075  722 1268   41  814 1564 1390 1141  497  224 1135  441  374\n",
            "   74  314 1408  475 1015  681 1236   59 1425 1637 1240  299 1657 1123\n",
            " 1091 1264 1561 1632 1562  305 1318 1217 1699 1070  864 1391  112  860\n",
            "  595  229 1624 1051  821 1794 1565  397 1368 1353  508 1725 1413 1239\n",
            "  847 1317  570   -1  302  456  198  122  832  167 1547 1666 1241  275\n",
            "  566 1779  201  334 1169  834 1174 1040  530 1676 1468 1093  706  489\n",
            " 1592  688  830 1784 1543 1600 1178  228  483 1501  950  548  870 1211\n",
            "  604  804  129  540 1702 1636 1680 1443 1252  499  180  702  885 1652\n",
            "  795  938  833 1654 1793  303 1621 1516 1138   32  160 1491   83  423\n",
            "  928  339  931  243 1756  583 1695  274  955  430 1247  490  726  987\n",
            "   42 1626 1470 1739  887  211  385 1221  753  324  406 1677 1567  785\n",
            "  182 1079  184 1771 1048 1069  561  589 1634   70 1371  647 1153  239\n",
            "  801 1279 1287  425 1589  929 1511 1765 1047 1005 1337  981 1766  805\n",
            " 1574 1638  186   99  288 1650  974  996 1595 1594  865  203 1440  448\n",
            "  285   94  875  916 1733  240  330   79   82  135 1043  142 1235 1569\n",
            " 1741 1461  560 1551  409  418 1017  892  354  124  935  313 1363  232\n",
            " 1200 1184 1432 1479 1407 1080 1719 1024  970  761  158  312 1060  684\n",
            "  696 1520 1352 1502  936  485  350 1560 1166 1013   34 1691  715 1570\n",
            " 1751 1503 1194 1558  411  298  260  308  796 1442  912 1256  746  435\n",
            "  620 1774 1181 1323  837  307 1430   53 1447  259  921  328 1034  353\n",
            "  822  654  829  609  166  136  172 1306 1028  808  270 1072  514  156\n",
            " 1331 1630  462 1310 1210  265   50 1355  394 1393  226  991  368 1018\n",
            " 1037  627 1744  523  894  944 1730 1076 1094 1617  449  678 1164   30\n",
            "  817 1568  607  709 1230  606 1480   29 1522 1670   49  626 1641 1712\n",
            " 1370 1782  119 1137 1277   35  947  851 1041 1583 1536  575  196  143\n",
            "   33  383   57  621  230  162  352 1504 1250   39  511 1364  918 1665\n",
            "  734 1320  316  771  705 1435  304  116 1553  424  493 1530 1195 1604\n",
            "  624 1599  782 1606 1622 1285  657 1275 1291 1402  420  932  468  442\n",
            " 1145   93 1218  283  292  927 1711 1422  364 1398  594  789 1350  676\n",
            "  216 1012 1426  717 1095 1786  850  777  375  356  701 1325  290 1775\n",
            "  467 1365 1549  848 1453   84 1458  888  770 1591  582   40 1261 1764\n",
            " 1067  145  471  476 1128  967  622  641  539  858  295 1395 1517 1297\n",
            " 1126  926  157 1377  993  125  340  271 1669  272  979  707  564  997\n",
            "  447 1578 1465  415  714 1276   18 1316  587  245  446  978 1002 1631\n",
            "  341 1307  524 1267  103  242 1378 1328 1294 1309  724  197  999  547\n",
            " 1100 1456   77 1506 1472  460   11 1420  218 1253  392  670 1321  100\n",
            " 1205  443   92  811  774  159 1770  972 1157 1102  217  358 1473  440\n",
            "  140 1361  481  512 1117  300 1263 1581  901 1298  310  637  758 1734\n",
            " 1288  326 1678 1444 1344 1379  828  982  104  317 1529 1627  115  645\n",
            " 1404  940 1305 1049 1645 1466  175 1165 1419 1031  581 1580  854  725\n",
            " 1655 1134  569 1387 1381 1760  360 1735 1146 1411  969 1281  591  327\n",
            "  466  667  147  109  784 1396 1349  839 1284  802   97  281 1382 1039\n",
            " 1483  376 1249 1207 1213 1219 1345 1523  949 1063  983  886 1151  992\n",
            " 1107 1314  151   69 1489  695  738  444 1525  825  506  518 1077 1354\n",
            "  713  690  861 1389  968  421  907  205  856   72  651  161  867  971\n",
            " 1078   64 1701  546 1216   27 1709  193 1528  957  577  346 1416  396\n",
            " 1182  652 1083 1778  680 1754 1544 1703  636  472  453  463   75  756\n",
            "  296  891  813  474  697]\n",
            "\n",
            " Num_Credit_Card [   4 1385    5 ...  955 1430  679]\n",
            "\n",
            " Interest_Rate [   3    6    8 ... 1347  387 5729]\n",
            "\n",
            " Num_of_Loan ['4' '1' '3' '967' '-100' '0' '0_' '2' '3_' '2_' '7' '5' '5_' '6' '8' '8_'\n",
            " '9' '9_' '4_' '7_' '1_' '1464' '6_' '622' '352' '472' '1017' '945' '146'\n",
            " '563' '341' '444' '720' '1485' '49' '737' '1106' '466' '728' '313' '843'\n",
            " '597_' '617' '119' '663' '640' '92_' '1019' '501' '1302' '39' '716' '848'\n",
            " '931' '1214' '186' '424' '1001' '1110' '1152' '457' '1433' '1187' '52'\n",
            " '1480' '1047' '1035' '1347_' '33' '193' '699' '329' '1451' '484' '132'\n",
            " '649' '995' '545' '684' '1135' '1094' '1204' '654' '58' '348' '614'\n",
            " '1363' '323' '1406' '1348' '430' '153' '1461' '905' '1312' '1424' '1154'\n",
            " '95' '1353' '1228' '819' '1006' '795' '359' '1209' '590' '696' '1185_'\n",
            " '1465' '911' '1181' '70' '816' '1369' '143' '1416' '455' '55' '1096'\n",
            " '1474' '420' '1131' '904' '89' '1259' '527' '1241' '449' '983' '418'\n",
            " '319' '23' '238' '638' '138' '235_' '280' '1070' '1484' '274' '494'\n",
            " '1459_' '404' '1354' '1495' '1391' '601' '1313' '1319' '898' '231' '752'\n",
            " '174' '961' '1046' '834' '284' '438' '288' '1463' '1151' '719' '198'\n",
            " '1015' '855' '841' '392' '1444' '103' '1320_' '745' '172' '252' '630_'\n",
            " '241' '31' '405' '1217' '1030' '1257' '137' '157' '164' '1088' '1236'\n",
            " '777' '1048' '613' '330' '1439' '321' '661' '952' '939' '562' '1202'\n",
            " '302' '943' '394' '955' '1318' '936' '781' '100' '1329' '1365' '860'\n",
            " '217' '191' '32' '282' '351' '1387' '757' '416' '833' '359_' '292'\n",
            " '1225_' '1227' '639' '859' '243' '267' '510' '332' '996' '597' '311'\n",
            " '492' '820' '336' '123' '540' '131_' '1311_' '1441' '895' '891' '50'\n",
            " '940' '935' '596' '29' '1182' '1129_' '1014' '251' '365' '291' '1447'\n",
            " '742' '1085' '148' '462' '832' '881' '1225' '1412' '785_' '1127' '910'\n",
            " '538' '999' '733' '101' '237' '87' '659' '633' '387' '447' '629' '831'\n",
            " '1384' '773' '621' '1419' '289' '143_' '285' '1393' '1131_' '27_' '1359'\n",
            " '1482' '1189' '1294' '201' '579' '814' '141' '1320' '581' '1171_' '295'\n",
            " '290' '433' '679' '1040' '1054' '1430' '1023' '1077' '1457' '1150' '701'\n",
            " '1382' '889' '437' '372' '1222' '126' '1159' '868' '19' '1297' '227_'\n",
            " '190' '809' '1216' '1074' '571' '520' '1274' '1340' '991' '316' '697'\n",
            " '926' '873' '1002' '378_' '65' '875' '867' '548' '652' '1372' '606'\n",
            " '1036' '1300' '17' '1178' '802' '1219_' '1271' '1137' '1496' '439' '196'\n",
            " '636' '192' '228' '1053' '229' '753' '1296' '1371' '254' '863' '464'\n",
            " '515' '838' '1160' '1289' '1298' '799' '182' '574' '527_' '242' '415'\n",
            " '869' '958' '54' '1265' '656' '275' '778' '208' '147' '350' '507' '463'\n",
            " '497' '1129' '927' '653' '662' '529' '635' '1027_' '897' '1039' '227'\n",
            " '1345' '924' '696_' '1279' '546' '1112' '1210' '526' '300' '1103' '504'\n",
            " '136' '1400' '78' '686' '1091' '344' '215' '84' '628' '1470' '968' '1478'\n",
            " '83' '1196' '1307' '1132_' '1008' '917' '657' '56' '18' '41' '801' '978'\n",
            " '216' '349' '966']\n",
            "\n",
            " Type_of_Loan ['Auto Loan, Credit-Builder Loan, Personal Loan, and Home Equity Loan'\n",
            " 'Credit-Builder Loan' 'Auto Loan, Auto Loan, and Not Specified' ...\n",
            " 'Home Equity Loan, Auto Loan, Auto Loan, and Auto Loan'\n",
            " 'Payday Loan, Student Loan, Mortgage Loan, and Not Specified'\n",
            " 'Personal Loan, Auto Loan, Mortgage Loan, Student Loan, and Student Loan']\n",
            "\n",
            " Delay_from_due_date [ 3 -1  5  6  8  7 13 10  0  4  9  1 12 11 30 31 34 27 14  2 -2 16 17 15\n",
            " 23 22 21 18 19 52 51 48 53 26 43 28 25 20 47 46 49 24 61 29 50 58 45 59\n",
            " 55 56 57 54 62 65 64 67 36 41 33 32 39 44 42 60 35 38 -3 63 40 37 -5 -4\n",
            " 66]\n",
            "\n",
            " Num_of_Delayed_Payment ['7' nan '4' '8_' '6' '1' '-1' '3_' '0' '8' '5' '3' '9' '12' '15' '17'\n",
            " '10' '2' '2_' '11' '14' '20' '22' '13' '13_' '14_' '16' '12_' '18' '19'\n",
            " '23' '24' '21' '3318' '3083' '22_' '1338' '4_' '26' '11_' '3104' '21_'\n",
            " '25' '10_' '183_' '9_' '1106' '834' '19_' '24_' '17_' '23_' '2672' '20_'\n",
            " '2008' '-3' '538' '6_' '1_' '16_' '27' '-2' '3478' '2420' '15_' '707'\n",
            " '708' '26_' '18_' '3815' '28' '5_' '1867' '2250' '1463' '25_' '7_' '4126'\n",
            " '2882' '1941' '2655' '2628' '132' '3069' '306' '0_' '3539' '3684' '1823'\n",
            " '4128' '1946' '827' '2297' '2566' '904' '182' '929' '3568' '2503' '1552'\n",
            " '2812' '1697' '3764' '851' '3905' '923' '88' '1668' '3253' '808' '2689'\n",
            " '3858' '642' '3457' '1402' '1732' '3154' '847' '3037' '2204' '3103'\n",
            " '1063' '2056' '1282' '1841' '2569_' '211' '793' '3484' '411' '3491'\n",
            " '2072' '3050' '1049' '2162' '3402' '2753' '27_' '1718' '1014' '3260'\n",
            " '3855' '84' '2311' '3251' '1832' '4069' '3010' '733' '4241' '166' '2461'\n",
            " '1749' '3200' '663_' '2185' '4161' '3009' '359' '2015' '1523' '594'\n",
            " '1079' '1199' '186' '1015' '1989' '281' '559' '2165' '1509' '3545' '779'\n",
            " '192' '4311' '-2_' '2323' '1471' '1538' '3529' '439' '3456' '3040' '2697'\n",
            " '3179' '1332' '3175' '3112' '829' '4022' '3870' '4023' '531' '1511'\n",
            " '3092' '3191' '2400' '3621' '3536' '544' '1864' '28_' '142' '2300' '264'\n",
            " '72' '497' '398' '2222' '3960' '1473' '3043' '4216' '2903' '2658' '-1_'\n",
            " '4042' '1323_' '2184' '921' '1328' '3404' '2438' '809' '47' '1996' '4164'\n",
            " '1370' '1204' '2167' '4011' '2590' '2594' '2533' '1663' '1018' '2919'\n",
            " '3458' '3316' '2589' '2801' '3355' '2529' '2488' '4266' '1243' '739'\n",
            " '845' '4107' '1884' '337' '2660' '290' '674' '2450' '3738' '1792' '2823'\n",
            " '2570' '775' '960' '482' '1706' '2493' '3623' '3031' '2794_' '2219_'\n",
            " '758_' '1849' '3559' '4096' '3726' '1953' '2657' '4043' '2938' '4384'\n",
            " '1647' '2694' '3533' '519' '2677' '2413' '-3_' '4139' '2609' '4326'\n",
            " '4211' '823' '3011' '1608' '2860' '4219' '4047' '1531' '742' '52' '4024'\n",
            " '1673' '49' '2243' '1685' '1869' '2587' '3489' '749' '1164' '2616' '848_'\n",
            " '4134' '1530' '1502' '4075' '3845' '1060' '2573' '2128' '328' '640'\n",
            " '2585' '2230' '1795' '1180' '1534' '3739' '3313' '4191' '996' '372'\n",
            " '3340' '3177' '602' '787' '4135' '3878' '4059' '1218' '4051' '1766'\n",
            " '1359' '3107' '585' '1263' '2511' '709' '3632' '4077' '2943' '2793'\n",
            " '3245' '2317' '1640' '2237_' '3819' '252' '3978' '1498' '1833' '2737'\n",
            " '1192' '1481' '700' '271' '2286' '273' '1215' '3944' '2070' '1478' '3749'\n",
            " '871' '2508' '2959' '130' '294' '3097_' '3511' '415' '2196' '2138' '2149'\n",
            " '1874' '1553' '3847' '3222' '1222' '2907' '3051' '98' '1598' '416' '2314'\n",
            " '2955' '1691' '1450' '2021' '1636' '80' '3708' '195' '320' '2945' '1911'\n",
            " '3416' '3796' '4159' '2255' '938' '4397' '3776' '2148' '1994' '853'\n",
            " '1178' '1633' '196' '3864' '714' '1687' '1034' '468' '1337' '2044' '1541'\n",
            " '3661' '1211' '2645' '2007' '102' '1891' '3162' '3142' '2566_' '2766'\n",
            " '3881' '2728' '2671' '1952' '3580' '2705' '4251' '3840_' '972' '3119'\n",
            " '3502' '4185' '2954' '683' '1614' '1572' '4302' '3447' '1852' '2131'\n",
            " '1900' '1699' '133' '2018' '2127' '508' '210' '577' '1664' '2604' '1411'\n",
            " '2351' '867' '1371' '2352' '1191' '905' '4053' '3869' '933' '3660' '3300'\n",
            " '3629' '3208' '2142' '2521' '450' '583' '876' '121' '3919' '2560' '2578'\n",
            " '2060' '813' '1236' '1489' '4360' '1154' '2544' '4172' '2924' '426'\n",
            " '4270' '2768' '3909' '3951' '2712' '2498' '3171' '1750' '197' '2569'\n",
            " '265' '4293' '887' '2707' '2397' '4337' '4249' '2751' '2950' '1859' '107'\n",
            " '2348' '2506' '2810' '2873' '1301' '2262' '1890' '3078' '3865' '3268'\n",
            " '2777' '3105' '1278' '3793' '2276' '2879' '4298' '2141' '223' '2239'\n",
            " '846' '1862' '2756' '1181' '1184' '2617' '3972' '2334' '3900' '2759'\n",
            " '4169' '2280' '2492' '2729' '3750' '1825' '309' '2431' '3099' '2080'\n",
            " '2279' '2666' '3722' '1976' '529' '1985' '3060' '4278' '3212' '46' '3148'\n",
            " '3467' '4231' '3790' '473' '1536' '3955' '2324' '2381' '1177' '371'\n",
            " '2896' '3880' '2991' '4319' '1061' '662' '4144' '693' '2006' '3115'\n",
            " '2278_' '3751' '1861' '4262' '2913' '2615' '3492' '800' '3766' '384'\n",
            " '3407' '1087' '3329' '1086' '2216' '1087_' '2457' '3522' '3274' '3488'\n",
            " '2854' '238' '351' '3706' '4280' '4095' '2926' '1329' '3370' '283' '1392'\n",
            " '1743' '2429' '974' '3156' '1133' '4388' '3243' '4282' '2523' '4281'\n",
            " '3415' '2001' '441' '94' '3499' '969' '3368' '106' '1004' '2638' '3946'\n",
            " '2956' '4324' '85' '4113' '819' '615' '1172' '2553' '1765' '3495' '2820'\n",
            " '4239' '4340' '1295_' '2636' '4295' '1653' '1325' '1879' '1096' '1735'\n",
            " '3584' '1073' '1975' '3827' '2552' '3754' '2378' '532' '926' '2376'\n",
            " '3636' '3763' '778' '2621' '804' '754' '2418' '4019' '3926' '3861_'\n",
            " '3574' '175' '162' '2834' '3765' '2354' '523' '2274' '1606' '1443' '1354'\n",
            " '2142_' '1422' '2278' '1045' '4106' '3155' '666' '659' '3229' '1216'\n",
            " '2076' '1473_' '2384' '1954' '719' '2534' '4002' '541' '2875' '4344'\n",
            " '2081' '3894' '1256' '676' '4178' '399' '86' '1571' '4037' '1967' '4005'\n",
            " '3216' '1150' '2591' '1801' '3721' '1775' '2260' '3707' '4292' '1820'\n",
            " '145' '1480' '1850' '430' '217' '3920_' '1389' '1579' '3391' '2385'\n",
            " '3336' '3392' '3688' '221' '2047']\n",
            "\n",
            " Changed_Credit_Limit ['11.27' '_' '6.27' ... '17.509999999999998' '25.16' '21.17']\n",
            "\n",
            " Num_Credit_Inquiries [   4.    2.    3. ... 1361.  310.   74.]\n",
            "\n",
            " Credit_Mix ['_' 'Good' 'Standard' 'Bad']\n",
            "\n",
            " Outstanding_Debt ['809.98' '605.03' '1303.01' ... '3571.7_' '3571.7' '502.38']\n",
            "\n",
            " Credit_Utilization_Ratio [26.82261962 31.94496006 28.60935202 ... 41.25552226 33.63820798\n",
            " 34.19246265]\n",
            "\n",
            " Credit_History_Age ['22 Years and 1 Months' nan '22 Years and 3 Months'\n",
            " '22 Years and 4 Months' '22 Years and 5 Months' '22 Years and 6 Months'\n",
            " '22 Years and 7 Months' '26 Years and 7 Months' '26 Years and 8 Months'\n",
            " '26 Years and 9 Months' '26 Years and 10 Months' '26 Years and 11 Months'\n",
            " '27 Years and 0 Months' '27 Years and 1 Months' '27 Years and 2 Months'\n",
            " '17 Years and 9 Months' '17 Years and 10 Months' '17 Years and 11 Months'\n",
            " '18 Years and 1 Months' '18 Years and 2 Months' '18 Years and 3 Months'\n",
            " '18 Years and 4 Months' '17 Years and 3 Months' '17 Years and 4 Months'\n",
            " '17 Years and 5 Months' '17 Years and 6 Months' '17 Years and 7 Months'\n",
            " '17 Years and 8 Months' '30 Years and 8 Months' '30 Years and 9 Months'\n",
            " '30 Years and 10 Months' '30 Years and 11 Months' '31 Years and 0 Months'\n",
            " '31 Years and 1 Months' '31 Years and 2 Months' '31 Years and 3 Months'\n",
            " '32 Years and 0 Months' '32 Years and 2 Months' '32 Years and 3 Months'\n",
            " '32 Years and 5 Months' '32 Years and 6 Months' '30 Years and 7 Months'\n",
            " '14 Years and 8 Months' '14 Years and 9 Months' '14 Years and 10 Months'\n",
            " '14 Years and 11 Months' '15 Years and 0 Months' '15 Years and 1 Months'\n",
            " '15 Years and 2 Months' '21 Years and 4 Months' '21 Years and 5 Months'\n",
            " '21 Years and 6 Months' '21 Years and 7 Months' '21 Years and 8 Months'\n",
            " '21 Years and 9 Months' '21 Years and 10 Months' '21 Years and 11 Months'\n",
            " '26 Years and 6 Months' '19 Years and 2 Months' '19 Years and 3 Months'\n",
            " '19 Years and 4 Months' '19 Years and 5 Months' '19 Years and 6 Months'\n",
            " '19 Years and 7 Months' '19 Years and 8 Months' '25 Years and 5 Months'\n",
            " '25 Years and 6 Months' '25 Years and 7 Months' '25 Years and 8 Months'\n",
            " '25 Years and 9 Months' '25 Years and 10 Months' '25 Years and 11 Months'\n",
            " '26 Years and 0 Months' '27 Years and 3 Months' '27 Years and 4 Months'\n",
            " '27 Years and 5 Months' '8 Years and 11 Months' '9 Years and 0 Months'\n",
            " '9 Years and 1 Months' '9 Years and 2 Months' '9 Years and 3 Months'\n",
            " '9 Years and 4 Months' '9 Years and 6 Months' '18 Years and 5 Months'\n",
            " '18 Years and 6 Months' '18 Years and 8 Months' '18 Years and 9 Months'\n",
            " '16 Years and 10 Months' '16 Years and 11 Months' '17 Years and 0 Months'\n",
            " '17 Years and 1 Months' '17 Years and 2 Months' '29 Years and 2 Months'\n",
            " '29 Years and 3 Months' '29 Years and 4 Months' '29 Years and 6 Months'\n",
            " '29 Years and 8 Months' '29 Years and 9 Months' '6 Years and 5 Months'\n",
            " '6 Years and 6 Months' '6 Years and 7 Months' '6 Years and 8 Months'\n",
            " '6 Years and 9 Months' '6 Years and 10 Months' '6 Years and 11 Months'\n",
            " '7 Years and 0 Months' '27 Years and 6 Months' '27 Years and 7 Months'\n",
            " '27 Years and 8 Months' '27 Years and 9 Months' '18 Years and 7 Months'\n",
            " '19 Years and 9 Months' '19 Years and 10 Months' '10 Years and 1 Months'\n",
            " '10 Years and 2 Months' '10 Years and 3 Months' '10 Years and 4 Months'\n",
            " '10 Years and 5 Months' '10 Years and 6 Months' '10 Years and 7 Months'\n",
            " '10 Years and 8 Months' '32 Years and 9 Months' '32 Years and 10 Months'\n",
            " '32 Years and 11 Months' '33 Years and 0 Months' '33 Years and 1 Months'\n",
            " '33 Years and 4 Months' '12 Years and 3 Months' '12 Years and 4 Months'\n",
            " '12 Years and 5 Months' '12 Years and 6 Months' '12 Years and 7 Months'\n",
            " '12 Years and 8 Months' '12 Years and 10 Months' '12 Years and 9 Months'\n",
            " '13 Years and 8 Months' '13 Years and 11 Months' '14 Years and 0 Months'\n",
            " '14 Years and 1 Months' '14 Years and 2 Months' '14 Years and 3 Months'\n",
            " '30 Years and 3 Months' '30 Years and 4 Months' '30 Years and 5 Months'\n",
            " '30 Years and 6 Months' '8 Years and 9 Months' '8 Years and 10 Months'\n",
            " '18 Years and 10 Months' '18 Years and 11 Months' '19 Years and 0 Months'\n",
            " '19 Years and 1 Months' '8 Years and 8 Months' '13 Years and 1 Months'\n",
            " '13 Years and 2 Months' '13 Years and 3 Months' '13 Years and 5 Months'\n",
            " '13 Years and 6 Months' '13 Years and 7 Months' '22 Years and 0 Months'\n",
            " '26 Years and 1 Months' '26 Years and 2 Months' '13 Years and 4 Months'\n",
            " '13 Years and 9 Months' '27 Years and 11 Months' '28 Years and 0 Months'\n",
            " '28 Years and 1 Months' '28 Years and 2 Months' '28 Years and 3 Months'\n",
            " '28 Years and 4 Months' '28 Years and 5 Months' '28 Years and 6 Months'\n",
            " '7 Years and 10 Months' '7 Years and 11 Months' '8 Years and 0 Months'\n",
            " '8 Years and 1 Months' '8 Years and 2 Months' '8 Years and 3 Months'\n",
            " '8 Years and 4 Months' '8 Years and 5 Months' '24 Years and 3 Months'\n",
            " '24 Years and 4 Months' '24 Years and 5 Months' '24 Years and 6 Months'\n",
            " '24 Years and 7 Months' '24 Years and 8 Months' '24 Years and 9 Months'\n",
            " '1 Years and 2 Months' '1 Years and 3 Months' '1 Years and 4 Months'\n",
            " '1 Years and 5 Months' '1 Years and 6 Months' '1 Years and 7 Months'\n",
            " '1 Years and 8 Months' '10 Years and 11 Months' '11 Years and 0 Months'\n",
            " '11 Years and 1 Months' '11 Years and 2 Months' '11 Years and 3 Months'\n",
            " '11 Years and 4 Months' '11 Years and 5 Months' '11 Years and 6 Months'\n",
            " '19 Years and 11 Months' '20 Years and 0 Months' '20 Years and 1 Months'\n",
            " '10 Years and 9 Months' '10 Years and 10 Months' '14 Years and 4 Months'\n",
            " '14 Years and 5 Months' '14 Years and 6 Months' '20 Years and 8 Months'\n",
            " '20 Years and 9 Months' '20 Years and 10 Months' '20 Years and 11 Months'\n",
            " '21 Years and 0 Months' '21 Years and 1 Months' '21 Years and 2 Months'\n",
            " '21 Years and 3 Months' '0 Years and 4 Months' '0 Years and 5 Months'\n",
            " '0 Years and 6 Months' '0 Years and 8 Months' '0 Years and 9 Months'\n",
            " '0 Years and 10 Months' '31 Years and 7 Months' '31 Years and 8 Months'\n",
            " '31 Years and 9 Months' '31 Years and 10 Months' '31 Years and 11 Months'\n",
            " '32 Years and 1 Months' '12 Years and 11 Months' '13 Years and 0 Months'\n",
            " '27 Years and 10 Months' '11 Years and 7 Months' '11 Years and 8 Months'\n",
            " '11 Years and 9 Months' '11 Years and 10 Months' '24 Years and 10 Months'\n",
            " '24 Years and 11 Months' '25 Years and 0 Months' '25 Years and 1 Months'\n",
            " '25 Years and 2 Months' '25 Years and 3 Months' '18 Years and 0 Months'\n",
            " '31 Years and 4 Months' '31 Years and 5 Months' '31 Years and 6 Months'\n",
            " '5 Years and 2 Months' '5 Years and 3 Months' '5 Years and 4 Months'\n",
            " '5 Years and 5 Months' '5 Years and 6 Months' '5 Years and 7 Months'\n",
            " '5 Years and 8 Months' '5 Years and 9 Months' '2 Years and 11 Months'\n",
            " '3 Years and 0 Months' '3 Years and 1 Months' '3 Years and 2 Months'\n",
            " '3 Years and 3 Months' '3 Years and 4 Months' '3 Years and 5 Months'\n",
            " '3 Years and 6 Months' '16 Years and 4 Months' '16 Years and 5 Months'\n",
            " '16 Years and 6 Months' '16 Years and 7 Months' '16 Years and 8 Months'\n",
            " '16 Years and 9 Months' '22 Years and 11 Months' '23 Years and 0 Months'\n",
            " '23 Years and 2 Months' '23 Years and 3 Months' '23 Years and 4 Months'\n",
            " '23 Years and 5 Months' '23 Years and 6 Months' '8 Years and 6 Months'\n",
            " '8 Years and 7 Months' '4 Years and 5 Months' '4 Years and 6 Months'\n",
            " '4 Years and 7 Months' '4 Years and 8 Months' '4 Years and 9 Months'\n",
            " '4 Years and 10 Months' '4 Years and 11 Months' '5 Years and 0 Months'\n",
            " '32 Years and 8 Months' '33 Years and 2 Months' '33 Years and 3 Months'\n",
            " '12 Years and 2 Months' '32 Years and 4 Months' '29 Years and 11 Months'\n",
            " '30 Years and 0 Months' '30 Years and 2 Months' '26 Years and 3 Months'\n",
            " '26 Years and 4 Months' '26 Years and 5 Months' '7 Years and 6 Months'\n",
            " '7 Years and 7 Months' '7 Years and 8 Months' '7 Years and 9 Months'\n",
            " '28 Years and 7 Months' '28 Years and 8 Months' '28 Years and 9 Months'\n",
            " '28 Years and 10 Months' '29 Years and 5 Months' '29 Years and 7 Months'\n",
            " '20 Years and 2 Months' '20 Years and 3 Months' '20 Years and 4 Months'\n",
            " '20 Years and 5 Months' '20 Years and 6 Months' '20 Years and 7 Months'\n",
            " '28 Years and 11 Months' '29 Years and 0 Months' '13 Years and 10 Months'\n",
            " '1 Years and 9 Months' '1 Years and 10 Months' '1 Years and 11 Months'\n",
            " '33 Years and 5 Months' '33 Years and 6 Months' '33 Years and 7 Months'\n",
            " '33 Years and 8 Months' '29 Years and 1 Months' '5 Years and 1 Months'\n",
            " '5 Years and 10 Months' '5 Years and 11 Months' '6 Years and 0 Months'\n",
            " '6 Years and 1 Months' '6 Years and 2 Months' '6 Years and 3 Months'\n",
            " '22 Years and 9 Months' '22 Years and 10 Months' '23 Years and 1 Months'\n",
            " '22 Years and 2 Months' '15 Years and 4 Months' '15 Years and 5 Months'\n",
            " '15 Years and 6 Months' '15 Years and 7 Months' '15 Years and 8 Months'\n",
            " '15 Years and 9 Months' '15 Years and 10 Months' '15 Years and 11 Months'\n",
            " '2 Years and 3 Months' '2 Years and 4 Months' '2 Years and 5 Months'\n",
            " '2 Years and 6 Months' '2 Years and 7 Months' '2 Years and 8 Months'\n",
            " '2 Years and 9 Months' '2 Years and 10 Months' '2 Years and 0 Months'\n",
            " '16 Years and 2 Months' '16 Years and 3 Months' '22 Years and 8 Months'\n",
            " '9 Years and 5 Months' '9 Years and 7 Months' '9 Years and 8 Months'\n",
            " '9 Years and 9 Months' '11 Years and 11 Months' '12 Years and 0 Months'\n",
            " '12 Years and 1 Months' '24 Years and 2 Months' '16 Years and 0 Months'\n",
            " '16 Years and 1 Months' '14 Years and 7 Months' '25 Years and 4 Months'\n",
            " '15 Years and 3 Months' '7 Years and 1 Months' '7 Years and 2 Months'\n",
            " '7 Years and 3 Months' '7 Years and 4 Months' '7 Years and 5 Months'\n",
            " '23 Years and 7 Months' '23 Years and 8 Months' '23 Years and 9 Months'\n",
            " '30 Years and 1 Months' '29 Years and 10 Months' '9 Years and 10 Months'\n",
            " '9 Years and 11 Months' '10 Years and 0 Months' '2 Years and 2 Months'\n",
            " '23 Years and 10 Months' '23 Years and 11 Months' '24 Years and 0 Months'\n",
            " '24 Years and 1 Months' '6 Years and 4 Months' '0 Years and 1 Months'\n",
            " '0 Years and 2 Months' '0 Years and 3 Months' '0 Years and 7 Months'\n",
            " '3 Years and 8 Months' '32 Years and 7 Months' '3 Years and 7 Months'\n",
            " '3 Years and 9 Months' '3 Years and 10 Months' '0 Years and 11 Months'\n",
            " '1 Years and 0 Months' '1 Years and 1 Months' '4 Years and 4 Months'\n",
            " '3 Years and 11 Months' '4 Years and 0 Months' '4 Years and 1 Months'\n",
            " '4 Years and 2 Months' '4 Years and 3 Months' '2 Years and 1 Months']\n",
            "\n",
            " Payment_of_Min_Amount ['No' 'NM' 'Yes']\n",
            "\n",
            " Total_EMI_per_month [4.95749492e+01 1.88162146e+01 2.46992319e+02 ... 1.21120000e+04\n",
            " 3.51040226e+01 5.86380000e+04]\n",
            "\n",
            " Amount_invested_monthly ['80.41529543900253' '118.28022162236736' '81.699521264648' ...\n",
            " '24.02847744864441' '251.67258219721603' '167.1638651610451']\n",
            "\n",
            " Payment_Behaviour ['High_spent_Small_value_payments' 'Low_spent_Large_value_payments'\n",
            " 'Low_spent_Medium_value_payments' 'Low_spent_Small_value_payments'\n",
            " 'High_spent_Medium_value_payments' '!@9#%8'\n",
            " 'High_spent_Large_value_payments']\n",
            "\n",
            " Monthly_Balance ['312.49408867943663' '284.62916249607184' '331.2098628537912' ...\n",
            " 516.8090832742814 319.1649785257098 393.6736955618808]\n",
            "\n",
            " Credit_Score ['Good' 'Standard' 'Poor']\n"
          ]
        }
      ],
      "source": [
        "# Check missing value or incorrect data\n",
        "for i in df:\n",
        "  print('\\n', i, df[i].unique())"
      ]
    },
    {
      "cell_type": "markdown",
      "id": "q5T_M-NlNz99",
      "metadata": {
        "id": "q5T_M-NlNz99"
      },
      "source": [
        "Observaciones:\n",
        "1. Existen valores nulos.\n",
        "2. Existen valores con caracteres incorrectos, por ejemplo, el valor 28_ en el campo Age."
      ]
    },
    {
      "cell_type": "markdown",
      "id": "FE_1_vFH_xOy",
      "metadata": {
        "id": "FE_1_vFH_xOy"
      },
      "source": [
        "### Visualizing missing values"
      ]
    },
    {
      "cell_type": "code",
      "execution_count": 11,
      "id": "asBeYtZ3oqKP",
      "metadata": {
        "id": "asBeYtZ3oqKP"
      },
      "outputs": [],
      "source": [
        "df = df.replace(['None', 'nan', 'NaN'], np.nan)"
      ]
    },
    {
      "cell_type": "code",
      "execution_count": 12,
      "id": "rTzFGdNm88Tr",
      "metadata": {
        "colab": {
          "base_uri": "https://localhost:8080/"
        },
        "id": "rTzFGdNm88Tr",
        "outputId": "acce2da5-32cc-41ca-9190-3688e08b6973"
      },
      "outputs": [
        {
          "data": {
            "text/plain": [
              "ID                              0\n",
              "Customer_ID                     0\n",
              "Month                           0\n",
              "Name                         9985\n",
              "Age                             0\n",
              "SSN                             0\n",
              "Occupation                      0\n",
              "Annual_Income                   0\n",
              "Monthly_Inhand_Salary       15002\n",
              "Num_Bank_Accounts               0\n",
              "Num_Credit_Card                 0\n",
              "Interest_Rate                   0\n",
              "Num_of_Loan                     0\n",
              "Type_of_Loan                11408\n",
              "Delay_from_due_date             0\n",
              "Num_of_Delayed_Payment       7002\n",
              "Changed_Credit_Limit            0\n",
              "Num_Credit_Inquiries         1965\n",
              "Credit_Mix                      0\n",
              "Outstanding_Debt                0\n",
              "Credit_Utilization_Ratio        0\n",
              "Credit_History_Age           9030\n",
              "Payment_of_Min_Amount           0\n",
              "Total_EMI_per_month             0\n",
              "Amount_invested_monthly      4479\n",
              "Payment_Behaviour               0\n",
              "Monthly_Balance              1200\n",
              "Credit_Score                    0\n",
              "dtype: int64"
            ]
          },
          "execution_count": 12,
          "metadata": {},
          "output_type": "execute_result"
        }
      ],
      "source": [
        "# Missing values from each row\n",
        "df.isna().sum()"
      ]
    },
    {
      "cell_type": "code",
      "execution_count": 13,
      "id": "XHDrRpsdAAdH",
      "metadata": {
        "colab": {
          "base_uri": "https://localhost:8080/",
          "height": 0
        },
        "id": "XHDrRpsdAAdH",
        "outputId": "15301963-5ab6-406c-b6ea-7678a7053035"
      },
      "outputs": [
        {
          "data": {
            "image/png": "[encoded data removed]",
            "text/plain": [
              "<Figure size 640x480 with 1 Axes>"
            ]
          },
          "metadata": {},
          "output_type": "display_data"
        }
      ],
      "source": [
        "# Visualize the missing values\n",
        "plt.bar(df.columns, list(df.isna().sum()))\n",
        "plt.xticks(rotation = 90)\n",
        "plt.show()"
      ]
    },
    {
      "cell_type": "code",
      "execution_count": 14,
      "id": "TWMjIrLL9EwZ",
      "metadata": {
        "colab": {
          "base_uri": "https://localhost:8080/"
        },
        "id": "TWMjIrLL9EwZ",
        "outputId": "28d5c43b-fbea-46f1-f614-66736d8a9048"
      },
      "outputs": [
        {
          "data": {
            "text/plain": [
              "ID                           0.000\n",
              "Customer_ID                  0.000\n",
              "Month                        0.000\n",
              "Name                         9.985\n",
              "Age                          0.000\n",
              "SSN                          0.000\n",
              "Occupation                   0.000\n",
              "Annual_Income                0.000\n",
              "Monthly_Inhand_Salary       15.002\n",
              "Num_Bank_Accounts            0.000\n",
              "Num_Credit_Card              0.000\n",
              "Interest_Rate                0.000\n",
              "Num_of_Loan                  0.000\n",
              "Type_of_Loan                11.408\n",
              "Delay_from_due_date          0.000\n",
              "Num_of_Delayed_Payment       7.002\n",
              "Changed_Credit_Limit         0.000\n",
              "Num_Credit_Inquiries         1.965\n",
              "Credit_Mix                   0.000\n",
              "Outstanding_Debt             0.000\n",
              "Credit_Utilization_Ratio     0.000\n",
              "Credit_History_Age           9.030\n",
              "Payment_of_Min_Amount        0.000\n",
              "Total_EMI_per_month          0.000\n",
              "Amount_invested_monthly      4.479\n",
              "Payment_Behaviour            0.000\n",
              "Monthly_Balance              1.200\n",
              "Credit_Score                 0.000\n",
              "dtype: float64"
            ]
          },
          "execution_count": 14,
          "metadata": {},
          "output_type": "execute_result"
        }
      ],
      "source": [
        "# Percentage of missing values\n",
        "df.isnull().mean()*100"
      ]
    },
    {
      "cell_type": "markdown",
      "id": "wtDTVggS7wlW",
      "metadata": {
        "id": "wtDTVggS7wlW"
      },
      "source": [
        "## Transformación de los datos"
      ]
    },
    {
      "cell_type": "markdown",
      "id": "EOGyU_vDRQlR",
      "metadata": {
        "id": "EOGyU_vDRQlR"
      },
      "source": [
        "### Borrar columnas y datos innecesarios"
      ]
    },
    {
      "cell_type": "code",
      "execution_count": 15,
      "id": "Jd4TDD9JMQ0A",
      "metadata": {
        "id": "Jd4TDD9JMQ0A"
      },
      "outputs": [],
      "source": [
        "# Drop unnecesary columns\n",
        "df = df.drop(df[['ID', 'Name', 'SSN', 'Type_of_Loan']], axis=1)"
      ]
    },
    {
      "cell_type": "code",
      "execution_count": 16,
      "id": "WdM8jUvFLp-i",
      "metadata": {
        "id": "WdM8jUvFLp-i"
      },
      "outputs": [],
      "source": [
        "# Convert ID from hexadecimal to integer\n",
        "df['Customer_ID'] = df['Customer_ID'].apply(lambda x: int(x[4:], 16))"
      ]
    },
    {
      "cell_type": "code",
      "execution_count": 17,
      "id": "LJ3R26opdjhu",
      "metadata": {
        "colab": {
          "base_uri": "https://localhost:8080/"
        },
        "id": "LJ3R26opdjhu",
        "outputId": "3412ef0f-03a5-4722-8899-8a1b6a38f384"
      },
      "outputs": [],
      "source": [
        "# Replace character _ to blank in Payment_Behaviour\n",
        "df['Payment_Behaviour'] = df['Payment_Behaviour'].astype(str).str.replace('_',' ')\n",
        "# Remove invalid characters\n",
        "sym = \"\\\\`*_{}[]()>#@+!$:;%\"\n",
        "for i in df.columns:\n",
        "    for c in sym:\n",
        "        df[i] = df[i].astype(str).str.replace(c,'')"
      ]
    },
    {
      "cell_type": "code",
      "execution_count": 18,
      "id": "Sfn1s7zPomNg",
      "metadata": {
        "id": "Sfn1s7zPomNg"
      },
      "outputs": [],
      "source": [
        "df = df.replace(['None', 'nan', 'NaN'], np.nan)"
      ]
    },
    {
      "cell_type": "code",
      "execution_count": 19,
      "id": "9ITftRR5icWq",
      "metadata": {
        "id": "9ITftRR5icWq"
      },
      "outputs": [],
      "source": [
        "# Replace empty strings with nan values\n",
        "df = df.replace('', np.nan)"
      ]
    },
    {
      "cell_type": "markdown",
      "id": "5bxZpCmOpJ90",
      "metadata": {
        "id": "5bxZpCmOpJ90"
      },
      "source": [
        "### Cambiar tipos de datos"
      ]
    },
    {
      "cell_type": "code",
      "execution_count": 20,
      "id": "1y-OYh5MMxSr",
      "metadata": {
        "id": "1y-OYh5MMxSr"
      },
      "outputs": [],
      "source": [
        "# Transform the values in Payment_of_Min_Amount to numbers\n",
        "df['Month'] = pd.to_datetime(df['Month'], format='%B').dt.month"
      ]
    },
    {
      "cell_type": "code",
      "execution_count": 21,
      "id": "gskUgeJ0J0tM",
      "metadata": {
        "id": "gskUgeJ0J0tM"
      },
      "outputs": [],
      "source": [
        "# Transform the values in Credit_Mix to numbers\n",
        "df['Credit_Mix'] = df['Credit_Mix'].astype(str).str.replace('Bad','1')\n",
        "df['Credit_Mix'] = df['Credit_Mix'].astype(str).str.replace('Standard','2')\n",
        "df['Credit_Mix'] = df['Credit_Mix'].astype(str).str.replace('Good','3')"
      ]
    },
    {
      "cell_type": "code",
      "execution_count": 22,
      "id": "eeef8e9f",
      "metadata": {
        "id": "eeef8e9f"
      },
      "outputs": [],
      "source": [
        "# Transform the values in Credit_History_Age to numbers\n",
        "def str_to_int(string):\n",
        "    if string != 'nan':\n",
        "        years = int(string[:string.index('.')])\n",
        "        months = int(string[string.index('.')+1:])/12\n",
        "        return(years + months)\n",
        "    else:\n",
        "        return np.nan\n",
        "\n",
        "df['Credit_History_Age'] = df['Credit_History_Age'].astype(str).str.replace(' Years and ','.')\n",
        "df['Credit_History_Age'] = df['Credit_History_Age'].astype(str).str.replace('Months','')\n",
        "df['Credit_History_Age'] = df['Credit_History_Age'].apply(lambda x: str_to_int(x))"
      ]
    },
    {
      "cell_type": "code",
      "execution_count": 23,
      "id": "EDMgZ8KCvhmD",
      "metadata": {
        "id": "EDMgZ8KCvhmD"
      },
      "outputs": [],
      "source": [
        "# Transform the values in Payment_of_Min_Amount to numbers\n",
        "df['Payment_of_Min_Amount'] = df['Payment_of_Min_Amount'].str.replace('NM', '0')\n",
        "df['Payment_of_Min_Amount'] = df['Payment_of_Min_Amount'].str.replace('No', '1')\n",
        "df['Payment_of_Min_Amount'] = df['Payment_of_Min_Amount'].str.replace('Yes', '2')"
      ]
    },
    {
      "cell_type": "code",
      "execution_count": 24,
      "id": "zqT6MVpnttwn",
      "metadata": {
        "id": "zqT6MVpnttwn"
      },
      "outputs": [],
      "source": [
        "# Transform the values in Payment_Behaviour to numbers\n",
        "df['Payment_Behaviour'] = df['Payment_Behaviour'].astype(str).str.replace('Low spent Small value payments','1')\n",
        "df['Payment_Behaviour'] = df['Payment_Behaviour'].astype(str).str.replace('Low spent Medium value payments','2')\n",
        "df['Payment_Behaviour'] = df['Payment_Behaviour'].astype(str).str.replace('Low spent Large value payments','3')\n",
        "df['Payment_Behaviour'] = df['Payment_Behaviour'].astype(str).str.replace('High spent Small value payments','4')\n",
        "df['Payment_Behaviour'] = df['Payment_Behaviour'].astype(str).str.replace('High spent Medium value payments','5')\n",
        "df['Payment_Behaviour'] = df['Payment_Behaviour'].astype(str).str.replace('High spent Large value payments','6')"
      ]
    },
    {
      "cell_type": "code",
      "execution_count": 25,
      "id": "jBkHd51wuLBb",
      "metadata": {
        "id": "jBkHd51wuLBb"
      },
      "outputs": [],
      "source": [
        "# Transform the values in Credit_Score to numbers\n",
        "df['Credit_Score'] = df['Credit_Score'].astype(str).str.replace('Poor','1')\n",
        "df['Credit_Score'] = df['Credit_Score'].astype(str).str.replace('Standard','2')\n",
        "df['Credit_Score'] = df['Credit_Score'].astype(str).str.replace('Good','3')"
      ]
    },
    {
      "cell_type": "code",
      "execution_count": 26,
      "id": "RpFA190z-tFX",
      "metadata": {
        "id": "RpFA190z-tFX"
      },
      "outputs": [],
      "source": [
        "df = df.replace(['None', 'nan', 'NaN'], np.nan)"
      ]
    },
    {
      "cell_type": "code",
      "execution_count": 27,
      "id": "Ew7VPtN6i1h5",
      "metadata": {
        "colab": {
          "base_uri": "https://localhost:8080/"
        },
        "id": "Ew7VPtN6i1h5",
        "outputId": "161f29cd-92c7-421d-e50b-7d4552897bf1"
      },
      "outputs": [
        {
          "data": {
            "text/plain": [
              "Customer_ID                     0\n",
              "Month                           0\n",
              "Age                             0\n",
              "Occupation                   7062\n",
              "Annual_Income                   0\n",
              "Monthly_Inhand_Salary       15002\n",
              "Num_Bank_Accounts               0\n",
              "Num_Credit_Card                 0\n",
              "Interest_Rate                   0\n",
              "Num_of_Loan                     0\n",
              "Delay_from_due_date             0\n",
              "Num_of_Delayed_Payment       7002\n",
              "Changed_Credit_Limit         2091\n",
              "Num_Credit_Inquiries         1965\n",
              "Credit_Mix                  20195\n",
              "Outstanding_Debt                0\n",
              "Credit_Utilization_Ratio        0\n",
              "Credit_History_Age           9030\n",
              "Payment_of_Min_Amount           0\n",
              "Total_EMI_per_month             0\n",
              "Amount_invested_monthly      4479\n",
              "Payment_Behaviour               0\n",
              "Monthly_Balance              1200\n",
              "Credit_Score                    0\n",
              "dtype: int64"
            ]
          },
          "execution_count": 27,
          "metadata": {},
          "output_type": "execute_result"
        }
      ],
      "source": [
        "# Missing values from each row\n",
        "df.isna().sum()"
      ]
    },
    {
      "cell_type": "code",
      "execution_count": 28,
      "id": "ZUBB8gDXe-uC",
      "metadata": {
        "id": "ZUBB8gDXe-uC"
      },
      "outputs": [],
      "source": [
        "# Convert datatypes\n",
        "# Do not include data with missing values in int_cols\n",
        "int_cols = ['Customer_ID', 'Month', 'Age', 'Num_Bank_Accounts', 'Num_Credit_Card', 'Interest_Rate', 'Num_of_Loan',\n",
        "            'Delay_from_due_date', 'Payment_of_Min_Amount', 'Payment_Behaviour', 'Credit_Score']\n",
        "float_cols = ['Annual_Income', 'Monthly_Inhand_Salary', 'Changed_Credit_Limit', 'Outstanding_Debt',\n",
        "              'Credit_Utilization_Ratio', 'Total_EMI_per_month', 'Amount_invested_monthly', 'Monthly_Balance']\n",
        "\n",
        "for i in int_cols:\n",
        "    df[i] = df[i].astype(int)\n",
        "for i in float_cols:\n",
        "    df[i] = df[i].astype(float)"
      ]
    },
    {
      "cell_type": "code",
      "execution_count": 29,
      "id": "X9_PLpPLLgEp",
      "metadata": {
        "colab": {
          "base_uri": "https://localhost:8080/"
        },
        "id": "X9_PLpPLLgEp",
        "outputId": "da976900-8a32-410d-e165-499d396c49ec"
      },
      "outputs": [
        {
          "data": {
            "text/plain": [
              "Customer_ID                     0\n",
              "Month                           0\n",
              "Age                             0\n",
              "Occupation                   7062\n",
              "Annual_Income                   0\n",
              "Monthly_Inhand_Salary       15002\n",
              "Num_Bank_Accounts               0\n",
              "Num_Credit_Card                 0\n",
              "Interest_Rate                   0\n",
              "Num_of_Loan                     0\n",
              "Delay_from_due_date             0\n",
              "Num_of_Delayed_Payment       7002\n",
              "Changed_Credit_Limit         2091\n",
              "Num_Credit_Inquiries         1965\n",
              "Credit_Mix                  20195\n",
              "Outstanding_Debt                0\n",
              "Credit_Utilization_Ratio        0\n",
              "Credit_History_Age           9030\n",
              "Payment_of_Min_Amount           0\n",
              "Total_EMI_per_month             0\n",
              "Amount_invested_monthly      4479\n",
              "Payment_Behaviour               0\n",
              "Monthly_Balance              1200\n",
              "Credit_Score                    0\n",
              "dtype: int64"
            ]
          },
          "execution_count": 29,
          "metadata": {},
          "output_type": "execute_result"
        }
      ],
      "source": [
        "# Missing values from each row\n",
        "df.isna().sum()"
      ]
    },
    {
      "cell_type": "markdown",
      "id": "3byiJJcPRfTd",
      "metadata": {
        "id": "3byiJJcPRfTd"
      },
      "source": [
        "### Reemplazar valores nulos de columnas de datos discretos/categoricos"
      ]
    },
    {
      "cell_type": "code",
      "execution_count": 30,
      "id": "okkRxoKlWpxS",
      "metadata": {
        "colab": {
          "base_uri": "https://localhost:8080/"
        },
        "id": "okkRxoKlWpxS",
        "outputId": "113e63e3-c9ff-4b7c-9c73-3ef7820768be"
      },
      "outputs": [
        {
          "data": {
            "text/plain": [
              "Month\n",
              "1    12500\n",
              "2    12500\n",
              "3    12500\n",
              "4    12500\n",
              "5    12500\n",
              "6    12500\n",
              "7    12500\n",
              "8    12500\n",
              "Name: count, dtype: int64"
            ]
          },
          "execution_count": 30,
          "metadata": {},
          "output_type": "execute_result"
        }
      ],
      "source": [
        "df['Month'].value_counts()"
      ]
    },
    {
      "cell_type": "code",
      "execution_count": 31,
      "id": "E7QjQxGXLkg0",
      "metadata": {
        "colab": {
          "base_uri": "https://localhost:8080/"
        },
        "id": "E7QjQxGXLkg0",
        "outputId": "5d7aeb4d-f07d-44a9-ef28-c5cd06301636"
      },
      "outputs": [
        {
          "data": {
            "text/plain": [
              "array([  23, -500,   28, ..., 4808, 2263, 1342])"
            ]
          },
          "execution_count": 31,
          "metadata": {},
          "output_type": "execute_result"
        }
      ],
      "source": [
        "df['Age'].unique()"
      ]
    },
    {
      "cell_type": "code",
      "execution_count": 32,
      "id": "FjhTSOeFMfns",
      "metadata": {
        "colab": {
          "base_uri": "https://localhost:8080/"
        },
        "id": "FjhTSOeFMfns",
        "outputId": "b7632257-da57-4473-b81c-3d20ec1436c1"
      },
      "outputs": [
        {
          "data": {
            "text/plain": [
              "array([23, 28, 34, 55, 21, 31, 30, 44, 40, 33, 35, 39, 37, 20, 46, 26, 41,\n",
              "       32, 48, 43, 36, 16, 18, 42, 22, 19, 15, 27, 38, 14, 25, 45, 47, 17,\n",
              "       53, 24, 54, 29, 49, 51, 50, 52, 56])"
            ]
          },
          "execution_count": 32,
          "metadata": {},
          "output_type": "execute_result"
        }
      ],
      "source": [
        "for i in df['Customer_ID'].unique():\n",
        "    mode = df[df['Customer_ID'] == i]['Age'].mode()[0]\n",
        "    df.loc[df[\"Customer_ID\"] == i, \"Age\"] = mode\n",
        "df['Age'].unique()"
      ]
    },
    {
      "cell_type": "code",
      "execution_count": 33,
      "id": "gM4F-6yPC6YJ",
      "metadata": {
        "id": "gM4F-6yPC6YJ"
      },
      "outputs": [],
      "source": [
        "def fill_nan_with_mode(df, groupby, column):\n",
        "    # Fill with local mode\n",
        "    fill_mode = lambda x: x.fillna(pd.Series.mode(x).iat[0])\n",
        "    result = df.groupby(groupby)[column].transform(fill_mode)\n",
        "    df[column] = result"
      ]
    },
    {
      "cell_type": "code",
      "execution_count": 34,
      "id": "TsjQfmo3NbMA",
      "metadata": {
        "colab": {
          "base_uri": "https://localhost:8080/"
        },
        "id": "TsjQfmo3NbMA",
        "outputId": "049f97f2-7be1-4a3d-f1d4-c67ec528a2b9"
      },
      "outputs": [
        {
          "data": {
            "text/plain": [
              "array(['Scientist', nan, 'Teacher', 'Engineer', 'Entrepreneur',\n",
              "       'Developer', 'Lawyer', 'MediaManager', 'Doctor', 'Journalist',\n",
              "       'Manager', 'Accountant', 'Musician', 'Mechanic', 'Writer',\n",
              "       'Architect'], dtype=object)"
            ]
          },
          "execution_count": 34,
          "metadata": {},
          "output_type": "execute_result"
        }
      ],
      "source": [
        "df['Occupation'].unique()"
      ]
    },
    {
      "cell_type": "code",
      "execution_count": 35,
      "id": "O6sy5wTANiJ1",
      "metadata": {
        "colab": {
          "base_uri": "https://localhost:8080/"
        },
        "id": "O6sy5wTANiJ1",
        "outputId": "0cf2f694-b3ae-4cbb-dd30-e26d11a92493"
      },
      "outputs": [
        {
          "data": {
            "text/plain": [
              "array(['Scientist', 'Teacher', 'Engineer', 'Entrepreneur', 'Developer',\n",
              "       'Lawyer', 'MediaManager', 'Doctor', 'Journalist', 'Manager',\n",
              "       'Accountant', 'Musician', 'Mechanic', 'Writer', 'Architect'],\n",
              "      dtype=object)"
            ]
          },
          "execution_count": 35,
          "metadata": {},
          "output_type": "execute_result"
        }
      ],
      "source": [
        "fill_nan_with_mode(df, 'Customer_ID', 'Occupation')\n",
        "df['Occupation'].unique()"
      ]
    },
    {
      "cell_type": "code",
      "execution_count": 36,
      "id": "fX53NW86JElH",
      "metadata": {
        "colab": {
          "base_uri": "https://localhost:8080/"
        },
        "id": "fX53NW86JElH",
        "outputId": "4d6c906b-9326-4073-db4d-8fef0c9081c0"
      },
      "outputs": [
        {
          "data": {
            "text/plain": [
              "array([nan, '3', '2', '1'], dtype=object)"
            ]
          },
          "execution_count": 36,
          "metadata": {},
          "output_type": "execute_result"
        }
      ],
      "source": [
        "df['Credit_Mix'].unique()"
      ]
    },
    {
      "cell_type": "code",
      "execution_count": 37,
      "id": "2NhpEo5IJK9d",
      "metadata": {
        "colab": {
          "base_uri": "https://localhost:8080/"
        },
        "id": "2NhpEo5IJK9d",
        "outputId": "9d71b8c6-50e9-4f1c-a0f0-454cd145400a"
      },
      "outputs": [
        {
          "data": {
            "text/plain": [
              "array([3, 2, 1])"
            ]
          },
          "execution_count": 37,
          "metadata": {},
          "output_type": "execute_result"
        }
      ],
      "source": [
        "fill_nan_with_mode(df, 'Customer_ID', 'Credit_Mix')\n",
        "df['Credit_Mix'] = df['Credit_Mix'].astype(int)\n",
        "df['Credit_Mix'].unique()"
      ]
    },
    {
      "cell_type": "code",
      "execution_count": 38,
      "id": "OVc3MdTNO7jC",
      "metadata": {
        "colab": {
          "base_uri": "https://localhost:8080/"
        },
        "id": "OVc3MdTNO7jC",
        "outputId": "1ee5ca19-a58a-4da4-d179-82939d184f7b"
      },
      "outputs": [
        {
          "data": {
            "text/plain": [
              "array([1, 0, 2])"
            ]
          },
          "execution_count": 38,
          "metadata": {},
          "output_type": "execute_result"
        }
      ],
      "source": [
        "df['Payment_of_Min_Amount'].unique()"
      ]
    },
    {
      "cell_type": "code",
      "execution_count": 39,
      "id": "Fs_EIQ2sPKKa",
      "metadata": {
        "colab": {
          "base_uri": "https://localhost:8080/"
        },
        "id": "Fs_EIQ2sPKKa",
        "outputId": "f9b3bce9-e022-4fc3-a328-1fc26adc2322"
      },
      "outputs": [
        {
          "data": {
            "text/plain": [
              "array([ 4,  3,  2,  1,  5, 98,  6])"
            ]
          },
          "execution_count": 39,
          "metadata": {},
          "output_type": "execute_result"
        }
      ],
      "source": [
        "df['Payment_Behaviour'].unique()"
      ]
    },
    {
      "cell_type": "code",
      "execution_count": 40,
      "id": "1e-A_RyaRxuO",
      "metadata": {
        "colab": {
          "base_uri": "https://localhost:8080/"
        },
        "id": "1e-A_RyaRxuO",
        "outputId": "6c8f95bd-0ea2-46b9-ab04-8eff6d9fb99a"
      },
      "outputs": [
        {
          "data": {
            "text/plain": [
              "array([4, 3, 2, 1, 5, 6])"
            ]
          },
          "execution_count": 40,
          "metadata": {},
          "output_type": "execute_result"
        }
      ],
      "source": [
        "df['Payment_Behaviour'] = df['Payment_Behaviour'].replace(98,np.nan)\n",
        "fill_nan_with_mode(df, 'Customer_ID', 'Payment_Behaviour')\n",
        "df['Payment_Behaviour'] = df['Payment_Behaviour'].astype(int)\n",
        "df['Payment_Behaviour'].unique()"
      ]
    },
    {
      "cell_type": "code",
      "execution_count": 41,
      "id": "8-2QrlUPTYKn",
      "metadata": {
        "colab": {
          "base_uri": "https://localhost:8080/"
        },
        "id": "8-2QrlUPTYKn",
        "outputId": "20d0a933-a3e9-4274-af40-fdc6a5ed2948"
      },
      "outputs": [
        {
          "data": {
            "text/plain": [
              "array([3, 2, 1])"
            ]
          },
          "execution_count": 41,
          "metadata": {},
          "output_type": "execute_result"
        }
      ],
      "source": [
        "df['Credit_Score'].unique()"
      ]
    },
    {
      "cell_type": "code",
      "execution_count": 42,
      "id": "B7ZAQdDyV4zP",
      "metadata": {
        "colab": {
          "base_uri": "https://localhost:8080/"
        },
        "id": "B7ZAQdDyV4zP",
        "outputId": "bb11f8bf-eb35-4b26-b78b-b312b99e6719"
      },
      "outputs": [
        {
          "data": {
            "text/plain": [
              "Customer_ID                     0\n",
              "Month                           0\n",
              "Age                             0\n",
              "Occupation                      0\n",
              "Annual_Income                   0\n",
              "Monthly_Inhand_Salary       15002\n",
              "Num_Bank_Accounts               0\n",
              "Num_Credit_Card                 0\n",
              "Interest_Rate                   0\n",
              "Num_of_Loan                     0\n",
              "Delay_from_due_date             0\n",
              "Num_of_Delayed_Payment       7002\n",
              "Changed_Credit_Limit         2091\n",
              "Num_Credit_Inquiries         1965\n",
              "Credit_Mix                      0\n",
              "Outstanding_Debt                0\n",
              "Credit_Utilization_Ratio        0\n",
              "Credit_History_Age           9030\n",
              "Payment_of_Min_Amount           0\n",
              "Total_EMI_per_month             0\n",
              "Amount_invested_monthly      4479\n",
              "Payment_Behaviour               0\n",
              "Monthly_Balance              1200\n",
              "Credit_Score                    0\n",
              "dtype: int64"
            ]
          },
          "execution_count": 42,
          "metadata": {},
          "output_type": "execute_result"
        }
      ],
      "source": [
        "# Missing values from each row\n",
        "df.isna().sum()"
      ]
    },
    {
      "cell_type": "markdown",
      "id": "8-9Wh0EWYCfb",
      "metadata": {
        "id": "8-9Wh0EWYCfb"
      },
      "source": [
        "## B. Numeric Column NaN Values: Reassign Group Min-Max"
      ]
    },
    {
      "cell_type": "code",
      "execution_count": 43,
      "id": "m2OMGGcVaZ36",
      "metadata": {
        "id": "m2OMGGcVaZ36"
      },
      "outputs": [],
      "source": [
        "# Define Outlier Range\n",
        "def get_iqr_lower_upper(df, column, multiply=1.5):\n",
        "    q1 = df[column].quantile(0.25)\n",
        "    q3 = df[column].quantile(0.75)\n",
        "    iqr = q3 -q1\n",
        "\n",
        "    lower = q1-iqr*multiply\n",
        "    upper = q3+iqr*multiply\n",
        "    affect = df.loc[(df[column]<lower)|(df[column]>upper)].shape\n",
        "    print('Outliers:', affect)\n",
        "    return lower, upper"
      ]
    },
    {
      "cell_type": "code",
      "execution_count": 44,
      "id": "qQQqYqqlYxUM",
      "metadata": {
        "id": "qQQqYqqlYxUM"
      },
      "outputs": [],
      "source": [
        "def Numeric_Wrong_Values_Reassign_Group_Min_Max(df, groupby, column, inplace=True):\n",
        "    # Identify Wrong values Range\n",
        "    def get_group_min_max(df, groupby, column):\n",
        "          cur = df[df[column].notna()].groupby(groupby)[column].apply(list)\n",
        "          mode_result = cur.apply(lambda x: stats.mode(x))\n",
        "\n",
        "          if mode_result.empty:\n",
        "              return np.nan, np.nan\n",
        "\n",
        "          return mode_result.apply([min, max])\n",
        "\n",
        "# Assigning Wrong values\n",
        "    def make_group_NaN_and_fill_mode(df, groupby, column, inplace=True):\n",
        "        # Filtrar y agrupar por el valor de la columna\n",
        "        grouped_data = df.groupby(groupby)[column]\n",
        "\n",
        "        # Calcular la moda para cada grupo\n",
        "        mode_result = grouped_data.apply(lambda x: custom_mode(x))\n",
        "\n",
        "        # Verificar si no hay cambios necesarios\n",
        "        if mode_result.dropna().empty:\n",
        "            return df[column] if inplace else mode_result\n",
        "\n",
        "        # Obtener el valor mínimo y máximo de la moda para cada grupo\n",
        "        mini_value = mode_result.min()\n",
        "        maxi_value = mode_result.max()\n",
        "\n",
        "        # Crear una copia del DataFrame original\n",
        "        col = df[column].copy()\n",
        "\n",
        "        # Asignar valores incorrectos a NaN\n",
        "        col[(col < mini_value) | (col > maxi_value)] = np.nan\n",
        "\n",
        "        # Llenar con la moda local\n",
        "        mode_by_group = grouped_data.transform(lambda x: x.mode().iloc[0] if not x.mode().empty else np.NaN)\n",
        "        result = col.fillna(mode_by_group)\n",
        "\n",
        "        # En su lugar si se especifica\n",
        "        if inplace:\n",
        "            df[column] = result\n",
        "        else:\n",
        "            return result\n",
        "\n",
        "    # Custom mode function to handle NaN and multiple modes\n",
        "    def custom_mode(x):\n",
        "        mode_result = x.mode()\n",
        "        return mode_result.iloc[0] if not mode_result.empty else np.nan\n",
        "\n",
        "    # Run\n",
        "    if inplace:\n",
        "        # Before Assigning NaN values\n",
        "        nan_count_before = df[column].isna().sum()\n",
        "        if nan_count_before > 0:\n",
        "            print(f'\\nBefore Assigning: {column}: have {nan_count_before} NaN Values', end='\\n')\n",
        "\n",
        "        print(\"\\nExisting Min, Max Values:\", df[column].apply([min, max]), sep='\\n', end='\\n')\n",
        "        mini, maxi = get_group_min_max(df, groupby, column)\n",
        "        print(f\"\\nGroupby by {groupby}'s Actual min, max Values:\", f'min:\\t{mini},\\nmax:\\t{maxi}', sep='\\n', end='\\n')\n",
        "\n",
        "        a = df.groupby(groupby)[column].apply(list)\n",
        "        print(f'\\nBefore Assigning Example {column}:\\n', *a.head().values, sep='\\n', end='\\n')\n",
        "\n",
        "        # Assigning\n",
        "        make_group_NaN_and_fill_mode(df, groupby, column)\n",
        "\n",
        "        # After Assigning NaN values\n",
        "        nan_count_after = df[column].isna().sum()\n",
        "        if nan_count_after > 0:\n",
        "            print(f'\\nAfter Assigning: {column}: have {nan_count_after} NaN Values', end='\\n')\n",
        "\n",
        "        b = df.groupby(groupby)[column].apply(list)\n",
        "        print(f'\\nAfter Assigning Example {column}:\\n', *b.head().values, sep='\\n', end='\\n')\n",
        "    else:\n",
        "        # Show\n",
        "        return make_group_NaN_and_fill_mode(df, groupby, column)"
      ]
    },
    {
      "cell_type": "markdown",
      "id": "rgtdeLHB2wXV",
      "metadata": {
        "id": "rgtdeLHB2wXV"
      },
      "source": [
        "### Annual_Income"
      ]
    },
    {
      "cell_type": "code",
      "execution_count": 45,
      "id": "r3ENnb6wbJwJ",
      "metadata": {
        "colab": {
          "base_uri": "https://localhost:8080/"
        },
        "id": "r3ENnb6wbJwJ",
        "outputId": "d0e0ddf3-d402-4061-adec-c0f5f7651f3a"
      },
      "outputs": [
        {
          "data": {
            "text/plain": [
              "Annual_Income\n",
              "17816.75       16\n",
              "22434.16       16\n",
              "40341.16       16\n",
              "17273.83       16\n",
              "109945.32      16\n",
              "               ..\n",
              "17079092.00     1\n",
              "1910572.00      1\n",
              "20179076.00     1\n",
              "7980216.00      1\n",
              "8299495.00      1\n",
              "Name: count, Length: 13487, dtype: int64"
            ]
          },
          "execution_count": 45,
          "metadata": {},
          "output_type": "execute_result"
        }
      ],
      "source": [
        "df.Annual_Income.value_counts(dropna=False)"
      ]
    },
    {
      "cell_type": "code",
      "execution_count": 46,
      "id": "S7qfIDOMbQaE",
      "metadata": {
        "colab": {
          "base_uri": "https://localhost:8080/"
        },
        "id": "S7qfIDOMbQaE",
        "outputId": "8cb232c7-086d-4e2e-ef42-ccfa7923e503"
      },
      "outputs": [
        {
          "name": "stdout",
          "output_type": "stream",
          "text": [
            "\n",
            "Existing Min, Max Values:\n",
            "min        7005.93\n",
            "max    24198062.00\n",
            "Name: Annual_Income, dtype: float64\n",
            "\n",
            "Groupby by Customer_ID's Actual min, max Values:\n",
            "min:\tModeResult(mode=7005.93, count=8),\n",
            "max:\tModeResult(mode=179987.28, count=8)\n",
            "\n",
            "Before Assigning Example Annual_Income:\n",
            "\n",
            "[16756.18, 16756.18, 16756.18, 16756.18, 16756.18, 16756.18, 16756.18, 16756.18]\n",
            "[21212.91, 21212.91, 21212.91, 21212.91, 21212.91, 21212.91, 21212.91, 21212.91]\n",
            "[33540.43, 33540.43, 33540.43, 33540.43, 33540.43, 33540.43, 33540.43, 33540.43]\n",
            "[80983.64, 80983.64, 80983.64, 80983.64, 80983.64, 80983.64, 80983.64, 80983.64]\n",
            "[104142.56, 104142.56, 104142.56, 104142.56, 104142.56, 104142.56, 104142.56, 104142.56]\n",
            "\n",
            "After Assigning Example Annual_Income:\n",
            "\n",
            "[16756.18, 16756.18, 16756.18, 16756.18, 16756.18, 16756.18, 16756.18, 16756.18]\n",
            "[21212.91, 21212.91, 21212.91, 21212.91, 21212.91, 21212.91, 21212.91, 21212.91]\n",
            "[33540.43, 33540.43, 33540.43, 33540.43, 33540.43, 33540.43, 33540.43, 33540.43]\n",
            "[80983.64, 80983.64, 80983.64, 80983.64, 80983.64, 80983.64, 80983.64, 80983.64]\n",
            "[104142.56, 104142.56, 104142.56, 104142.56, 104142.56, 104142.56, 104142.56, 104142.56]\n"
          ]
        }
      ],
      "source": [
        "Numeric_Wrong_Values_Reassign_Group_Min_Max(df, 'Customer_ID', 'Annual_Income')"
      ]
    },
    {
      "cell_type": "markdown",
      "id": "9DyyYzTb2_vd",
      "metadata": {
        "id": "9DyyYzTb2_vd"
      },
      "source": [
        "### Monthly_Inhand_Salary"
      ]
    },
    {
      "cell_type": "code",
      "execution_count": 47,
      "id": "CA3QDl1i3HKA",
      "metadata": {
        "colab": {
          "base_uri": "https://localhost:8080/"
        },
        "id": "CA3QDl1i3HKA",
        "outputId": "6a9b51f6-d70e-4625-d857-2a3370798470"
      },
      "outputs": [
        {
          "data": {
            "text/plain": [
              "Monthly_Inhand_Salary\n",
              "NaN            15002\n",
              "2295.058333       15\n",
              "6082.187500       15\n",
              "6769.130000       15\n",
              "6358.956667       15\n",
              "               ...  \n",
              "1087.546445        1\n",
              "3189.212103        1\n",
              "5640.117744        1\n",
              "7727.560450        1\n",
              "2443.654131        1\n",
              "Name: count, Length: 13236, dtype: int64"
            ]
          },
          "execution_count": 47,
          "metadata": {},
          "output_type": "execute_result"
        }
      ],
      "source": [
        "df.Monthly_Inhand_Salary.value_counts(dropna=False)"
      ]
    },
    {
      "cell_type": "code",
      "execution_count": 48,
      "id": "uD6InxkRt99c",
      "metadata": {
        "colab": {
          "base_uri": "https://localhost:8080/"
        },
        "id": "uD6InxkRt99c",
        "outputId": "a68a990c-af01-497f-bd56-b625e9bdb3c9"
      },
      "outputs": [
        {
          "name": "stdout",
          "output_type": "stream",
          "text": [
            "\n",
            "Before Assigning: Monthly_Inhand_Salary: have 15002 NaN Values\n",
            "\n",
            "Existing Min, Max Values:\n",
            "min      303.645417\n",
            "max    15204.633333\n",
            "Name: Monthly_Inhand_Salary, dtype: float64\n",
            "\n",
            "Groupby by Customer_ID's Actual min, max Values:\n",
            "min:\tModeResult(mode=303.6454166666666, count=8),\n",
            "max:\tModeResult(mode=15204.633333333331, count=7)\n",
            "\n",
            "Before Assigning Example Monthly_Inhand_Salary:\n",
            "\n",
            "[1331.3483333333334, 1331.3483333333334, 1331.3483333333334, 1331.3483333333334, 1331.3483333333334, 1331.3483333333334, 1331.3483333333334, 1331.3483333333334]\n",
            "[1496.7425, 1496.7425, 1496.7425, 1496.7425, nan, 1496.7425, 1496.7425, 1496.7425]\n",
            "[2655.035833333333, 2655.035833333333, 2655.035833333333, 2655.035833333333, 2655.035833333333, 2655.035833333333, 2655.035833333333, 2655.035833333333]\n",
            "[6692.636666666666, 6692.636666666666, 6692.636666666666, 6692.636666666666, 6692.636666666666, 6692.636666666666, 6692.636666666666, 6692.636666666666]\n",
            "[8433.546666666667, 8433.546666666667, 8433.546666666667, 8433.546666666667, 8433.546666666667, 8433.546666666667, 8433.546666666667, nan]\n",
            "\n",
            "After Assigning Example Monthly_Inhand_Salary:\n",
            "\n",
            "[1331.3483333333334, 1331.3483333333334, 1331.3483333333334, 1331.3483333333334, 1331.3483333333334, 1331.3483333333334, 1331.3483333333334, 1331.3483333333334]\n",
            "[1496.7425, 1496.7425, 1496.7425, 1496.7425, 1496.7425, 1496.7425, 1496.7425, 1496.7425]\n",
            "[2655.035833333333, 2655.035833333333, 2655.035833333333, 2655.035833333333, 2655.035833333333, 2655.035833333333, 2655.035833333333, 2655.035833333333]\n",
            "[6692.636666666666, 6692.636666666666, 6692.636666666666, 6692.636666666666, 6692.636666666666, 6692.636666666666, 6692.636666666666, 6692.636666666666]\n",
            "[8433.546666666667, 8433.546666666667, 8433.546666666667, 8433.546666666667, 8433.546666666667, 8433.546666666667, 8433.546666666667, 8433.546666666667]\n"
          ]
        }
      ],
      "source": [
        "Numeric_Wrong_Values_Reassign_Group_Min_Max(df, 'Customer_ID', 'Monthly_Inhand_Salary')"
      ]
    },
    {
      "cell_type": "markdown",
      "id": "LVvRHhCK2Jfu",
      "metadata": {
        "id": "LVvRHhCK2Jfu"
      },
      "source": [
        "### Num_Bank_Accounts"
      ]
    },
    {
      "cell_type": "code",
      "execution_count": 49,
      "id": "uwCImWdB2S0H",
      "metadata": {
        "colab": {
          "base_uri": "https://localhost:8080/"
        },
        "id": "uwCImWdB2S0H",
        "outputId": "cb67d99a-c6c8-4181-a7b3-949eca00ed6e"
      },
      "outputs": [
        {
          "data": {
            "text/plain": [
              "Monthly_Inhand_Salary\n",
              "6769.130000    16\n",
              "4387.272500    16\n",
              "2295.058333    16\n",
              "6639.560000    16\n",
              "3080.555000    16\n",
              "               ..\n",
              "1211.935000     1\n",
              "2592.248483     1\n",
              "4767.722500     1\n",
              "3002.973195     1\n",
              "4427.498453     1\n",
              "Name: count, Length: 13235, dtype: int64"
            ]
          },
          "execution_count": 49,
          "metadata": {},
          "output_type": "execute_result"
        }
      ],
      "source": [
        "df.Monthly_Inhand_Salary.value_counts(dropna=False)"
      ]
    },
    {
      "cell_type": "code",
      "execution_count": 50,
      "id": "1SJjOcsY1Q3i",
      "metadata": {
        "colab": {
          "base_uri": "https://localhost:8080/"
        },
        "id": "1SJjOcsY1Q3i",
        "outputId": "25aff41f-e6df-45e4-d9cd-6fe6a4de0f5c"
      },
      "outputs": [
        {
          "name": "stdout",
          "output_type": "stream",
          "text": [
            "\n",
            "Existing Min, Max Values:\n",
            "min      -1\n",
            "max    1798\n",
            "Name: Num_Bank_Accounts, dtype: int32\n",
            "\n",
            "Groupby by Customer_ID's Actual min, max Values:\n",
            "min:\tModeResult(mode=-1, count=4),\n",
            "max:\tModeResult(mode=10, count=8)\n",
            "\n",
            "Before Assigning Example Num_Bank_Accounts:\n",
            "\n",
            "[9, 9, 9, 9, 9, 9, 9, 9]\n",
            "[3, 3, 3, 1174, 3, 3, 3, 3]\n",
            "[6, 6, 6, 6, 6, 6, 6, 6]\n",
            "[6, 6, 6, 6, 6, 6, 6, 6]\n",
            "[3, 3, 3, 3, 3, 3, 3, 3]\n",
            "\n",
            "After Assigning Example Num_Bank_Accounts:\n",
            "\n",
            "[9.0, 9.0, 9.0, 9.0, 9.0, 9.0, 9.0, 9.0]\n",
            "[3.0, 3.0, 3.0, 3.0, 3.0, 3.0, 3.0, 3.0]\n",
            "[6.0, 6.0, 6.0, 6.0, 6.0, 6.0, 6.0, 6.0]\n",
            "[6.0, 6.0, 6.0, 6.0, 6.0, 6.0, 6.0, 6.0]\n",
            "[3.0, 3.0, 3.0, 3.0, 3.0, 3.0, 3.0, 3.0]\n"
          ]
        }
      ],
      "source": [
        "Numeric_Wrong_Values_Reassign_Group_Min_Max(df, 'Customer_ID', 'Num_Bank_Accounts')"
      ]
    },
    {
      "cell_type": "markdown",
      "id": "wzk9Y9mM3QUL",
      "metadata": {
        "id": "wzk9Y9mM3QUL"
      },
      "source": [
        "### Num_Credit_Card"
      ]
    },
    {
      "cell_type": "code",
      "execution_count": 51,
      "id": "rphI85mr3SqI",
      "metadata": {
        "colab": {
          "base_uri": "https://localhost:8080/"
        },
        "id": "rphI85mr3SqI",
        "outputId": "a32d7b21-e365-4f4c-f970-3d1d43a89d7a"
      },
      "outputs": [
        {
          "data": {
            "text/plain": [
              "Num_Credit_Card\n",
              "5       18459\n",
              "7       16615\n",
              "6       16559\n",
              "4       14030\n",
              "3       13277\n",
              "        ...  \n",
              "791         1\n",
              "1118        1\n",
              "657         1\n",
              "640         1\n",
              "679         1\n",
              "Name: count, Length: 1179, dtype: int64"
            ]
          },
          "execution_count": 51,
          "metadata": {},
          "output_type": "execute_result"
        }
      ],
      "source": [
        "df.Num_Credit_Card.value_counts(dropna=False)"
      ]
    },
    {
      "cell_type": "code",
      "execution_count": 52,
      "id": "HYzPauqX3ebF",
      "metadata": {
        "colab": {
          "base_uri": "https://localhost:8080/"
        },
        "id": "HYzPauqX3ebF",
        "outputId": "490afaf5-2346-4e0f-ef0b-54180e518469"
      },
      "outputs": [
        {
          "name": "stdout",
          "output_type": "stream",
          "text": [
            "\n",
            "Existing Min, Max Values:\n",
            "min       0\n",
            "max    1499\n",
            "Name: Num_Credit_Card, dtype: int32\n",
            "\n",
            "Groupby by Customer_ID's Actual min, max Values:\n",
            "min:\tModeResult(mode=0, count=4),\n",
            "max:\tModeResult(mode=11, count=7)\n",
            "\n",
            "Before Assigning Example Num_Credit_Card:\n",
            "\n",
            "[6, 6, 6, 6, 6, 6, 6, 6]\n",
            "[4, 4, 4, 4, 4, 4, 4, 888]\n",
            "[3, 3, 3, 3, 3, 3, 3, 3]\n",
            "[3, 3, 3, 3, 725, 3, 3, 3]\n",
            "[5, 5, 5, 5, 5, 5, 5, 5]\n",
            "\n",
            "After Assigning Example Num_Credit_Card:\n",
            "\n",
            "[6.0, 6.0, 6.0, 6.0, 6.0, 6.0, 6.0, 6.0]\n",
            "[4.0, 4.0, 4.0, 4.0, 4.0, 4.0, 4.0, 4.0]\n",
            "[3.0, 3.0, 3.0, 3.0, 3.0, 3.0, 3.0, 3.0]\n",
            "[3.0, 3.0, 3.0, 3.0, 3.0, 3.0, 3.0, 3.0]\n",
            "[5.0, 5.0, 5.0, 5.0, 5.0, 5.0, 5.0, 5.0]\n"
          ]
        }
      ],
      "source": [
        "Numeric_Wrong_Values_Reassign_Group_Min_Max(df, 'Customer_ID', 'Num_Credit_Card')"
      ]
    },
    {
      "cell_type": "markdown",
      "id": "zyToWc4v3l2a",
      "metadata": {
        "id": "zyToWc4v3l2a"
      },
      "source": [
        "### Interest_Rate"
      ]
    },
    {
      "cell_type": "code",
      "execution_count": 53,
      "id": "NEuGdBIY3oJt",
      "metadata": {
        "id": "NEuGdBIY3oJt"
      },
      "outputs": [
        {
          "data": {
            "text/plain": [
              "Interest_Rate\n",
              "8       5012\n",
              "5       4979\n",
              "6       4721\n",
              "12      4540\n",
              "10      4540\n",
              "        ... \n",
              "4995       1\n",
              "1899       1\n",
              "2120       1\n",
              "5762       1\n",
              "5729       1\n",
              "Name: count, Length: 1750, dtype: int64"
            ]
          },
          "execution_count": 53,
          "metadata": {},
          "output_type": "execute_result"
        }
      ],
      "source": [
        "df.Interest_Rate.value_counts(dropna=False)"
      ]
    },
    {
      "cell_type": "code",
      "execution_count": 54,
      "id": "3Hz7_WbC3s2D",
      "metadata": {
        "id": "3Hz7_WbC3s2D"
      },
      "outputs": [
        {
          "name": "stdout",
          "output_type": "stream",
          "text": [
            "\n",
            "Existing Min, Max Values:\n",
            "min       1\n",
            "max    5797\n",
            "Name: Interest_Rate, dtype: int32\n",
            "\n",
            "Groupby by Customer_ID's Actual min, max Values:\n",
            "min:\tModeResult(mode=1, count=6),\n",
            "max:\tModeResult(mode=34, count=8)\n",
            "\n",
            "Before Assigning Example Interest_Rate:\n",
            "\n",
            "[22, 22, 22, 22, 22, 22, 22, 22]\n",
            "[10, 10, 10, 10, 10, 10, 10, 10]\n",
            "[17, 17, 17, 17, 17, 17, 17, 17]\n",
            "[15, 15, 15, 15, 15, 15, 15, 15]\n",
            "[5, 5, 5, 5, 5, 5, 5, 5]\n",
            "\n",
            "After Assigning Example Interest_Rate:\n",
            "\n",
            "[22.0, 22.0, 22.0, 22.0, 22.0, 22.0, 22.0, 22.0]\n",
            "[10.0, 10.0, 10.0, 10.0, 10.0, 10.0, 10.0, 10.0]\n",
            "[17.0, 17.0, 17.0, 17.0, 17.0, 17.0, 17.0, 17.0]\n",
            "[15.0, 15.0, 15.0, 15.0, 15.0, 15.0, 15.0, 15.0]\n",
            "[5.0, 5.0, 5.0, 5.0, 5.0, 5.0, 5.0, 5.0]\n"
          ]
        }
      ],
      "source": [
        "Numeric_Wrong_Values_Reassign_Group_Min_Max(df, 'Customer_ID', 'Interest_Rate')"
      ]
    },
    {
      "cell_type": "markdown",
      "id": "WR9kZLyH3yBu",
      "metadata": {
        "id": "WR9kZLyH3yBu"
      },
      "source": [
        "### Num_of_Loan"
      ]
    },
    {
      "cell_type": "code",
      "execution_count": 55,
      "id": "NvAa6Uik3z2w",
      "metadata": {
        "id": "NvAa6Uik3z2w"
      },
      "outputs": [
        {
          "data": {
            "text/plain": [
              "Num_of_Loan\n",
              "3       15104\n",
              "2       15032\n",
              "4       14743\n",
              "0       10930\n",
              "1       10606\n",
              "        ...  \n",
              "119         1\n",
              "321         1\n",
              "1439        1\n",
              "663         1\n",
              "966         1\n",
              "Name: count, Length: 414, dtype: int64"
            ]
          },
          "execution_count": 55,
          "metadata": {},
          "output_type": "execute_result"
        }
      ],
      "source": [
        "df.Num_of_Loan.value_counts(dropna=False)"
      ]
    },
    {
      "cell_type": "code",
      "execution_count": 56,
      "id": "5MK73YB331Rg",
      "metadata": {
        "id": "5MK73YB331Rg"
      },
      "outputs": [
        {
          "name": "stdout",
          "output_type": "stream",
          "text": [
            "\n",
            "Existing Min, Max Values:\n",
            "min    -100\n",
            "max    1496\n",
            "Name: Num_of_Loan, dtype: int32\n",
            "\n",
            "Groupby by Customer_ID's Actual min, max Values:\n",
            "min:\tModeResult(mode=0, count=5),\n",
            "max:\tModeResult(mode=9, count=8)\n",
            "\n",
            "Before Assigning Example Num_of_Loan:\n",
            "\n",
            "[2, 2, 2, 2, 2, 2, 2, 2]\n",
            "[3, 3, 3, 3, -100, 3, 3, 3]\n",
            "[0, 0, 0, 0, 0, 0, 0, 0]\n",
            "[4, 4, 4, 4, 4, 4, 4, 4]\n",
            "[3, 3, 3, 3, 3, 3, 3, 3]\n",
            "\n",
            "After Assigning Example Num_of_Loan:\n",
            "\n",
            "[2.0, 2.0, 2.0, 2.0, 2.0, 2.0, 2.0, 2.0]\n",
            "[3.0, 3.0, 3.0, 3.0, 3.0, 3.0, 3.0, 3.0]\n",
            "[0.0, 0.0, 0.0, 0.0, 0.0, 0.0, 0.0, 0.0]\n",
            "[4.0, 4.0, 4.0, 4.0, 4.0, 4.0, 4.0, 4.0]\n",
            "[3.0, 3.0, 3.0, 3.0, 3.0, 3.0, 3.0, 3.0]\n"
          ]
        }
      ],
      "source": [
        "Numeric_Wrong_Values_Reassign_Group_Min_Max(df, 'Customer_ID', 'Num_of_Loan')"
      ]
    },
    {
      "cell_type": "markdown",
      "id": "2nKHwhwC38Qd",
      "metadata": {
        "id": "2nKHwhwC38Qd"
      },
      "source": [
        "### Delay_from_due_date"
      ]
    },
    {
      "cell_type": "code",
      "execution_count": 57,
      "id": "NCkKYkcB3-Vo",
      "metadata": {
        "id": "NCkKYkcB3-Vo"
      },
      "outputs": [
        {
          "data": {
            "text/plain": [
              "Delay_from_due_date\n",
              " 15    3596\n",
              " 13    3424\n",
              " 8     3324\n",
              " 14    3313\n",
              " 10    3281\n",
              "       ... \n",
              "-4       62\n",
              " 65      56\n",
              "-5       33\n",
              " 66      32\n",
              " 67      22\n",
              "Name: count, Length: 73, dtype: int64"
            ]
          },
          "execution_count": 57,
          "metadata": {},
          "output_type": "execute_result"
        }
      ],
      "source": [
        "df.Delay_from_due_date.value_counts(dropna=False)"
      ]
    },
    {
      "cell_type": "code",
      "execution_count": 58,
      "id": "KD4iR6LB3_jp",
      "metadata": {
        "id": "KD4iR6LB3_jp"
      },
      "outputs": [
        {
          "name": "stdout",
          "output_type": "stream",
          "text": [
            "\n",
            "Existing Min, Max Values:\n",
            "min    -5\n",
            "max    67\n",
            "Name: Delay_from_due_date, dtype: int32\n",
            "\n",
            "Groupby by Customer_ID's Actual min, max Values:\n",
            "min:\tModeResult(mode=-5, count=2),\n",
            "max:\tModeResult(mode=62, count=8)\n",
            "\n",
            "Before Assigning Example Delay_from_due_date:\n",
            "\n",
            "[48, 48, 48, 48, 48, 48, 48, 48]\n",
            "[19, 19, 19, 19, 19, 19, 19, 16]\n",
            "[25, 28, 22, 26, 26, 26, 26, 26]\n",
            "[19, 19, 19, 19, 19, 19, 19, 19]\n",
            "[15, 15, 20, 16, 20, 20, 20, 24]\n",
            "\n",
            "After Assigning Example Delay_from_due_date:\n",
            "\n",
            "[48.0, 48.0, 48.0, 48.0, 48.0, 48.0, 48.0, 48.0]\n",
            "[19.0, 19.0, 19.0, 19.0, 19.0, 19.0, 19.0, 16.0]\n",
            "[25.0, 28.0, 22.0, 26.0, 26.0, 26.0, 26.0, 26.0]\n",
            "[19.0, 19.0, 19.0, 19.0, 19.0, 19.0, 19.0, 19.0]\n",
            "[15.0, 15.0, 20.0, 16.0, 20.0, 20.0, 20.0, 24.0]\n"
          ]
        }
      ],
      "source": [
        "Numeric_Wrong_Values_Reassign_Group_Min_Max(df, 'Customer_ID', 'Delay_from_due_date')"
      ]
    },
    {
      "cell_type": "markdown",
      "id": "oB8rtXQD4FaO",
      "metadata": {
        "id": "oB8rtXQD4FaO"
      },
      "source": [
        "###Num_of_Delayed_Payment"
      ]
    },
    {
      "cell_type": "code",
      "execution_count": 59,
      "id": "VSDwelct4G_A",
      "metadata": {
        "id": "VSDwelct4G_A"
      },
      "outputs": [],
      "source": [
        "# df.Num_of_Delayed_Payment.value_counts(dropna=False)"
      ]
    },
    {
      "cell_type": "code",
      "execution_count": 60,
      "id": "H1eYxXMD4ITR",
      "metadata": {
        "id": "H1eYxXMD4ITR"
      },
      "outputs": [],
      "source": [
        "# Numeric_Wrong_Values_Reassign_Group_Min_Max(df, 'Customer_ID', 'Num_of_Delayed_Payment')"
      ]
    },
    {
      "cell_type": "markdown",
      "id": "w4NcV4Qu5azz",
      "metadata": {
        "id": "w4NcV4Qu5azz"
      },
      "source": [
        "### Changed_Credit_Limit"
      ]
    },
    {
      "cell_type": "code",
      "execution_count": 61,
      "id": "WJ4UomGa5cha",
      "metadata": {
        "id": "WJ4UomGa5cha"
      },
      "outputs": [
        {
          "data": {
            "text/plain": [
              "Changed_Credit_Limit\n",
              " NaN      2091\n",
              " 8.22      133\n",
              " 11.50     127\n",
              " 11.32     126\n",
              " 7.35      121\n",
              "          ... \n",
              "-1.84        1\n",
              " 0.89        1\n",
              " 28.06       1\n",
              " 1.56        1\n",
              " 21.17       1\n",
              "Name: count, Length: 4384, dtype: int64"
            ]
          },
          "execution_count": 61,
          "metadata": {},
          "output_type": "execute_result"
        }
      ],
      "source": [
        "df.Changed_Credit_Limit.value_counts(dropna=False)"
      ]
    },
    {
      "cell_type": "code",
      "execution_count": 62,
      "id": "X9pv4N235eHe",
      "metadata": {
        "id": "X9pv4N235eHe"
      },
      "outputs": [
        {
          "name": "stdout",
          "output_type": "stream",
          "text": [
            "\n",
            "Before Assigning: Changed_Credit_Limit: have 2091 NaN Values\n",
            "\n",
            "Existing Min, Max Values:\n",
            "min    -6.49\n",
            "max    36.97\n",
            "Name: Changed_Credit_Limit, dtype: float64\n",
            "\n",
            "Groupby by Customer_ID's Actual min, max Values:\n",
            "min:\tModeResult(mode=-5.01, count=2),\n",
            "max:\tModeResult(mode=29.98, count=8)\n",
            "\n",
            "Before Assigning Example Changed_Credit_Limit:\n",
            "\n",
            "[10.66, 10.66, 10.66, 10.66, 10.66, 10.66, 10.66, 10.66]\n",
            "[12.13, 5.13, 5.13, 5.13, 5.13, 2.13, 5.13, 5.13]\n",
            "[14.11, 14.11, 14.11, 14.11, 14.11, 14.11, 14.11, 14.11]\n",
            "[16.91, 16.91, 16.91, 16.91, 16.91, 16.91, 19.91, 16.91]\n",
            "[15.28, 15.28, 15.28, 15.28, 19.28, 15.28, 15.28, 15.28]\n",
            "\n",
            "After Assigning Example Changed_Credit_Limit:\n",
            "\n",
            "[10.66, 10.66, 10.66, 10.66, 10.66, 10.66, 10.66, 10.66]\n",
            "[12.13, 5.13, 5.13, 5.13, 5.13, 2.13, 5.13, 5.13]\n",
            "[14.11, 14.11, 14.11, 14.11, 14.11, 14.11, 14.11, 14.11]\n",
            "[16.91, 16.91, 16.91, 16.91, 16.91, 16.91, 19.91, 16.91]\n",
            "[15.28, 15.28, 15.28, 15.28, 19.28, 15.28, 15.28, 15.28]\n"
          ]
        }
      ],
      "source": [
        "Numeric_Wrong_Values_Reassign_Group_Min_Max(df, 'Customer_ID', 'Changed_Credit_Limit')"
      ]
    },
    {
      "cell_type": "markdown",
      "id": "hnF8_mik5gG2",
      "metadata": {
        "id": "hnF8_mik5gG2"
      },
      "source": [
        "### Num_Credit_Inquiries"
      ]
    },
    {
      "cell_type": "code",
      "execution_count": 63,
      "id": "UfLtufMy5hgI",
      "metadata": {
        "id": "UfLtufMy5hgI"
      },
      "outputs": [],
      "source": [
        "# df.Num_Credit_Inquiries.value_counts(dropna=False)"
      ]
    },
    {
      "cell_type": "code",
      "execution_count": 64,
      "id": "BdroI8xd5jq5",
      "metadata": {
        "id": "BdroI8xd5jq5"
      },
      "outputs": [],
      "source": [
        "# Numeric_Wrong_Values_Reassign_Group_Min_Max(df, 'Customer_ID', 'Num_Credit_Inquiries')"
      ]
    },
    {
      "cell_type": "markdown",
      "id": "WBTyYqKK5m1M",
      "metadata": {
        "id": "WBTyYqKK5m1M"
      },
      "source": [
        "### Outstanding_Debt"
      ]
    },
    {
      "cell_type": "code",
      "execution_count": 65,
      "id": "VBpLiNmX5ofK",
      "metadata": {
        "id": "VBpLiNmX5ofK"
      },
      "outputs": [
        {
          "data": {
            "text/plain": [
              "Outstanding_Debt\n",
              "1109.03    24\n",
              "1151.70    24\n",
              "1360.45    24\n",
              "460.46     24\n",
              "1058.13    16\n",
              "           ..\n",
              "4230.04     8\n",
              "641.99      8\n",
              "98.61       8\n",
              "2614.48     8\n",
              "502.38      8\n",
              "Name: count, Length: 12203, dtype: int64"
            ]
          },
          "execution_count": 65,
          "metadata": {},
          "output_type": "execute_result"
        }
      ],
      "source": [
        "df.Outstanding_Debt.value_counts(dropna=False)"
      ]
    },
    {
      "cell_type": "code",
      "execution_count": 66,
      "id": "hqmsORFZ5pmG",
      "metadata": {
        "id": "hqmsORFZ5pmG"
      },
      "outputs": [
        {
          "name": "stdout",
          "output_type": "stream",
          "text": [
            "\n",
            "Existing Min, Max Values:\n",
            "min       0.23\n",
            "max    4998.07\n",
            "Name: Outstanding_Debt, dtype: float64\n",
            "\n",
            "Groupby by Customer_ID's Actual min, max Values:\n",
            "min:\tModeResult(mode=0.23, count=8),\n",
            "max:\tModeResult(mode=4998.07, count=8)\n",
            "\n",
            "Before Assigning Example Outstanding_Debt:\n",
            "\n",
            "[1941.73, 1941.73, 1941.73, 1941.73, 1941.73, 1941.73, 1941.73, 1941.73]\n",
            "[993.15, 993.15, 993.15, 993.15, 993.15, 993.15, 993.15, 993.15]\n",
            "[1138.97, 1138.97, 1138.97, 1138.97, 1138.97, 1138.97, 1138.97, 1138.97]\n",
            "[982.44, 982.44, 982.44, 982.44, 982.44, 982.44, 982.44, 982.44]\n",
            "[1371.8, 1371.8, 1371.8, 1371.8, 1371.8, 1371.8, 1371.8, 1371.8]\n",
            "\n",
            "After Assigning Example Outstanding_Debt:\n",
            "\n",
            "[1941.73, 1941.73, 1941.73, 1941.73, 1941.73, 1941.73, 1941.73, 1941.73]\n",
            "[993.15, 993.15, 993.15, 993.15, 993.15, 993.15, 993.15, 993.15]\n",
            "[1138.97, 1138.97, 1138.97, 1138.97, 1138.97, 1138.97, 1138.97, 1138.97]\n",
            "[982.44, 982.44, 982.44, 982.44, 982.44, 982.44, 982.44, 982.44]\n",
            "[1371.8, 1371.8, 1371.8, 1371.8, 1371.8, 1371.8, 1371.8, 1371.8]\n"
          ]
        }
      ],
      "source": [
        "Numeric_Wrong_Values_Reassign_Group_Min_Max(df, 'Customer_ID', 'Outstanding_Debt')"
      ]
    },
    {
      "cell_type": "markdown",
      "id": "AhDYpFNv5sVP",
      "metadata": {
        "id": "AhDYpFNv5sVP"
      },
      "source": [
        "### Credit_Utilization_Ratio"
      ]
    },
    {
      "cell_type": "code",
      "execution_count": 67,
      "id": "_YclXKAl5trf",
      "metadata": {
        "id": "_YclXKAl5trf"
      },
      "outputs": [
        {
          "data": {
            "text/plain": [
              "Credit_Utilization_Ratio\n",
              "26.822620    1\n",
              "28.327949    1\n",
              "30.016576    1\n",
              "25.478841    1\n",
              "33.933755    1\n",
              "            ..\n",
              "30.687138    1\n",
              "38.730069    1\n",
              "30.017515    1\n",
              "27.279794    1\n",
              "34.192463    1\n",
              "Name: count, Length: 100000, dtype: int64"
            ]
          },
          "execution_count": 67,
          "metadata": {},
          "output_type": "execute_result"
        }
      ],
      "source": [
        "df.Credit_Utilization_Ratio.value_counts(dropna=False)"
      ]
    },
    {
      "cell_type": "code",
      "execution_count": 68,
      "id": "X_jLgFvZ5uni",
      "metadata": {
        "id": "X_jLgFvZ5uni"
      },
      "outputs": [
        {
          "data": {
            "text/plain": [
              "0"
            ]
          },
          "execution_count": 68,
          "metadata": {},
          "output_type": "execute_result"
        }
      ],
      "source": [
        "df.Credit_Utilization_Ratio.isna().sum()"
      ]
    },
    {
      "cell_type": "markdown",
      "id": "PXDv6hKp5xMt",
      "metadata": {
        "id": "PXDv6hKp5xMt"
      },
      "source": [
        "### Credit_History_Age"
      ]
    },
    {
      "cell_type": "code",
      "execution_count": 69,
      "id": "vumjJmO_5yZj",
      "metadata": {
        "id": "vumjJmO_5yZj"
      },
      "outputs": [
        {
          "data": {
            "text/plain": [
              "Credit_History_Age\n",
              "NaN          9030\n",
              "15.916667     446\n",
              "19.333333     445\n",
              "19.416667     444\n",
              "17.916667     443\n",
              "             ... \n",
              "0.250000       20\n",
              "0.166667       15\n",
              "33.583333      14\n",
              "33.666667      12\n",
              "0.083333        2\n",
              "Name: count, Length: 405, dtype: int64"
            ]
          },
          "execution_count": 69,
          "metadata": {},
          "output_type": "execute_result"
        }
      ],
      "source": [
        "df.Credit_History_Age.value_counts(dropna=False)"
      ]
    },
    {
      "cell_type": "code",
      "execution_count": 70,
      "id": "_DKa1n7E50co",
      "metadata": {
        "id": "_DKa1n7E50co"
      },
      "outputs": [],
      "source": [
        "df['Credit_History_Age'] = df.groupby('Customer_ID', group_keys=False)['Credit_History_Age'].apply(lambda x: x.interpolate().bfill().ffill())"
      ]
    },
    {
      "cell_type": "code",
      "execution_count": 71,
      "metadata": {},
      "outputs": [
        {
          "data": {
            "text/plain": [
              "0        22.083333\n",
              "1        22.166667\n",
              "2        22.250000\n",
              "3        22.333333\n",
              "4        22.416667\n",
              "           ...    \n",
              "99995    31.500000\n",
              "99996    31.583333\n",
              "99997    31.666667\n",
              "99998    31.750000\n",
              "99999    31.833333\n",
              "Name: Credit_History_Age, Length: 100000, dtype: float64"
            ]
          },
          "execution_count": 71,
          "metadata": {},
          "output_type": "execute_result"
        }
      ],
      "source": [
        "df['Credit_History_Age']"
      ]
    },
    {
      "cell_type": "markdown",
      "id": "ER5rAWUp52c4",
      "metadata": {
        "id": "ER5rAWUp52c4"
      },
      "source": [
        "### Total_EMI_per_month"
      ]
    },
    {
      "cell_type": "code",
      "execution_count": 72,
      "id": "I_VgDOlP53kX",
      "metadata": {
        "id": "I_VgDOlP53kX"
      },
      "outputs": [
        {
          "data": {
            "text/plain": [
              "Total_EMI_per_month\n",
              "0.000000        10613\n",
              "49.574949           8\n",
              "73.533361           8\n",
              "22.960835           8\n",
              "38.661127           8\n",
              "                ...  \n",
              "36408.000000        1\n",
              "23760.000000        1\n",
              "24612.000000        1\n",
              "24325.000000        1\n",
              "58638.000000        1\n",
              "Name: count, Length: 14950, dtype: int64"
            ]
          },
          "execution_count": 72,
          "metadata": {},
          "output_type": "execute_result"
        }
      ],
      "source": [
        "df.Total_EMI_per_month.value_counts(dropna=False)"
      ]
    },
    {
      "cell_type": "code",
      "execution_count": 73,
      "id": "Twuv_voO54xP",
      "metadata": {
        "id": "Twuv_voO54xP"
      },
      "outputs": [
        {
          "name": "stdout",
          "output_type": "stream",
          "text": [
            "\n",
            "Existing Min, Max Values:\n",
            "min        0.0\n",
            "max    82331.0\n",
            "Name: Total_EMI_per_month, dtype: float64\n",
            "\n",
            "Groupby by Customer_ID's Actual min, max Values:\n",
            "min:\tModeResult(mode=0.0, count=4),\n",
            "max:\tModeResult(mode=1779.1032538262775, count=5)\n",
            "\n",
            "Before Assigning Example Total_EMI_per_month:\n",
            "\n",
            "[27.44208910654816, 27.44208910654816, 27.44208910654816, 27.44208910654816, 27.44208910654816, 27.44208910654816, 27.44208910654816, 32972.0]\n",
            "[45.74570037068675, 45.74570037068675, 45.74570037068675, 45.74570037068675, 45.74570037068675, 45.74570037068675, 45.74570037068675, 45.74570037068675]\n",
            "[0.0, 0.0, 0.0, 0.0, 0.0, 0.0, 0.0, 0.0]\n",
            "[188.45659522353543, 188.45659522353543, 188.45659522353543, 188.45659522353543, 188.45659522353543, 188.45659522353543, 188.45659522353543, 188.45659522353543]\n",
            "[257.7386460249556, 257.7386460249556, 257.7386460249556, 257.7386460249556, 257.7386460249556, 257.7386460249556, 257.7386460249556, 257.7386460249556]\n",
            "\n",
            "After Assigning Example Total_EMI_per_month:\n",
            "\n",
            "[27.44208910654816, 27.44208910654816, 27.44208910654816, 27.44208910654816, 27.44208910654816, 27.44208910654816, 27.44208910654816, 27.44208910654816]\n",
            "[45.74570037068675, 45.74570037068675, 45.74570037068675, 45.74570037068675, 45.74570037068675, 45.74570037068675, 45.74570037068675, 45.74570037068675]\n",
            "[0.0, 0.0, 0.0, 0.0, 0.0, 0.0, 0.0, 0.0]\n",
            "[188.45659522353543, 188.45659522353543, 188.45659522353543, 188.45659522353543, 188.45659522353543, 188.45659522353543, 188.45659522353543, 188.45659522353543]\n",
            "[257.7386460249556, 257.7386460249556, 257.7386460249556, 257.7386460249556, 257.7386460249556, 257.7386460249556, 257.7386460249556, 257.7386460249556]\n"
          ]
        }
      ],
      "source": [
        "Numeric_Wrong_Values_Reassign_Group_Min_Max(df, 'Customer_ID', 'Total_EMI_per_month')"
      ]
    },
    {
      "cell_type": "markdown",
      "id": "0uEhVml556h9",
      "metadata": {
        "id": "0uEhVml556h9"
      },
      "source": [
        "### Amount_invested_monthly"
      ]
    },
    {
      "cell_type": "code",
      "execution_count": 74,
      "id": "tfZbyHMi578l",
      "metadata": {
        "id": "tfZbyHMi578l"
      },
      "outputs": [
        {
          "data": {
            "text/plain": [
              "Amount_invested_monthly\n",
              "NaN             4479\n",
              "10000.000000    4305\n",
              "0.000000         169\n",
              "36.662351          1\n",
              "89.738489          1\n",
              "                ... \n",
              "36.541909          1\n",
              "93.451163          1\n",
              "140.809722         1\n",
              "38.739377          1\n",
              "167.163865         1\n",
              "Name: count, Length: 91050, dtype: int64"
            ]
          },
          "execution_count": 74,
          "metadata": {},
          "output_type": "execute_result"
        }
      ],
      "source": [
        "df.Amount_invested_monthly.value_counts(dropna=False)"
      ]
    },
    {
      "cell_type": "code",
      "execution_count": 75,
      "id": "k7mFua5P589d",
      "metadata": {
        "id": "k7mFua5P589d"
      },
      "outputs": [
        {
          "name": "stdout",
          "output_type": "stream",
          "text": [
            "\n",
            "Before Assigning: Amount_invested_monthly: have 4479 NaN Values\n",
            "\n",
            "Existing Min, Max Values:\n",
            "min        0.0\n",
            "max    10000.0\n",
            "Name: Amount_invested_monthly, dtype: float64\n",
            "\n",
            "Groupby by Customer_ID's Actual min, max Values:\n",
            "min:\tModeResult(mode=0.0, count=1),\n",
            "max:\tModeResult(mode=10000.0, count=4)\n",
            "\n",
            "Before Assigning Example Amount_invested_monthly:\n",
            "\n",
            "[45.30106826949194, 90.07842318605292, 61.73271462991577, 56.4949816634165, 51.726244263612, 60.82828780912217, 95.6486475869488, 66.71824831147686]\n",
            "[30.373471914127194, 44.31995483866171, nan, 62.81248610216079, 148.30956484525, 10000.0, 59.30896122323683, 118.54244614778156]\n",
            "[118.8806978910128, nan, 337.1997406214716, 170.8689598433119, 74.1980692925824, 105.4573791889266, 197.85037247610126, 165.20443547590202]\n",
            "[149.37725143584314, 146.97809602243544, 101.12020124815511, 492.3974911743151, 264.1791118544216, 261.69017894140734, 200.64143588981403, 126.07161584554541]\n",
            "[292.2127037381353, nan, 187.59489650806347, 275.635709774446, 487.8062062008502, nan, 124.29952362711306, 481.7990883470461]\n",
            "\n",
            "After Assigning Example Amount_invested_monthly:\n",
            "\n",
            "[45.30106826949194, 90.07842318605292, 61.73271462991577, 56.4949816634165, 51.726244263612, 60.82828780912217, 95.6486475869488, 66.71824831147686]\n",
            "[30.373471914127194, 44.31995483866171, 30.373471914127194, 62.81248610216079, 148.30956484525, 10000.0, 59.30896122323683, 118.54244614778156]\n",
            "[118.8806978910128, 74.1980692925824, 337.1997406214716, 170.8689598433119, 74.1980692925824, 105.4573791889266, 197.85037247610126, 165.20443547590202]\n",
            "[149.37725143584314, 146.97809602243544, 101.12020124815511, 492.3974911743151, 264.1791118544216, 261.69017894140734, 200.64143588981403, 126.07161584554541]\n",
            "[292.2127037381353, 124.29952362711306, 187.59489650806347, 275.635709774446, 487.8062062008502, 124.29952362711306, 124.29952362711306, 481.7990883470461]\n"
          ]
        }
      ],
      "source": [
        "Numeric_Wrong_Values_Reassign_Group_Min_Max(df, 'Customer_ID', 'Amount_invested_monthly')"
      ]
    },
    {
      "cell_type": "markdown",
      "id": "BNXqWR_F5-h0",
      "metadata": {
        "id": "BNXqWR_F5-h0"
      },
      "source": [
        "### Monthly_Balance"
      ]
    },
    {
      "cell_type": "code",
      "execution_count": 76,
      "id": "zEjSp9kH5_-v",
      "metadata": {
        "id": "zEjSp9kH5_-v"
      },
      "outputs": [
        {
          "data": {
            "text/plain": [
              "Monthly_Balance\n",
              " NaN             1200\n",
              "-3.333333e+26       9\n",
              " 3.124941e+02       1\n",
              " 3.474139e+02       1\n",
              " 2.549709e+02       1\n",
              "                 ... \n",
              " 3.662890e+02       1\n",
              " 1.511883e+02       1\n",
              " 3.067503e+02       1\n",
              " 2.788720e+02       1\n",
              " 3.936737e+02       1\n",
              "Name: count, Length: 98793, dtype: int64"
            ]
          },
          "execution_count": 76,
          "metadata": {},
          "output_type": "execute_result"
        }
      ],
      "source": [
        "df.Monthly_Balance.value_counts(dropna=False)"
      ]
    },
    {
      "cell_type": "code",
      "execution_count": 77,
      "id": "syu3d4nf6BBm",
      "metadata": {
        "id": "syu3d4nf6BBm"
      },
      "outputs": [
        {
          "name": "stdout",
          "output_type": "stream",
          "text": [
            "\n",
            "Before Assigning: Monthly_Balance: have 1200 NaN Values\n",
            "\n",
            "Existing Min, Max Values:\n",
            "min   -3.333333e+26\n",
            "max    1.602041e+03\n",
            "Name: Monthly_Balance, dtype: float64\n",
            "\n",
            "Groupby by Customer_ID's Actual min, max Values:\n",
            "min:\tModeResult(mode=-3.333333333333333e+26, count=1),\n",
            "max:\tModeResult(mode=1183.9306960885192, count=1)\n",
            "\n",
            "Before Assigning Example Monthly_Balance:\n",
            "\n",
            "[310.39167595729333, 295.61432104073225, 333.9600295968694, 309.1977625633686, 323.9664999631732, 334.864456417663, 280.04409663983637, 328.97449591530835]\n",
            "[323.5550777151861, 309.6085947906515, 265.4874646531188, 291.11606352715245, 245.61898478406326, 239.46481499922072, 334.61958840607645, 275.3861034815317]\n",
            "[406.62288544232047, 350.39351957834924, 218.30384271186168, 354.63462349002145, 441.30551404075095, 420.04620414440666, 337.6532108572321, 370.2991478574313]\n",
            "[581.4298200072883, 573.8289754206959, 629.6868701949761, 258.40958026881617, 496.6279595887097, 489.116892501724, 560.1656355533173, 594.7354555975859]\n",
            "[553.4033169035758, 228.71773015063442, 648.0211241336477, 579.9803108672652, 377.809814440861, nan, 701.3164970145981, 383.81693229466515]\n",
            "\n",
            "After Assigning Example Monthly_Balance:\n",
            "\n",
            "[310.39167595729333, 295.61432104073225, 333.9600295968694, 309.1977625633686, 323.9664999631732, 334.864456417663, 280.04409663983637, 328.97449591530835]\n",
            "[323.5550777151861, 309.6085947906515, 265.4874646531188, 291.11606352715245, 245.61898478406326, 239.46481499922072, 334.61958840607645, 275.3861034815317]\n",
            "[406.62288544232047, 350.39351957834924, 218.30384271186168, 354.63462349002145, 441.30551404075095, 420.04620414440666, 337.6532108572321, 370.2991478574313]\n",
            "[581.4298200072883, 573.8289754206959, 629.6868701949761, 258.40958026881617, 496.6279595887097, 489.116892501724, 560.1656355533173, 594.7354555975859]\n",
            "[553.4033169035758, 228.71773015063442, 648.0211241336477, 579.9803108672652, 377.809814440861, 228.71773015063442, 701.3164970145981, 383.81693229466515]\n"
          ]
        }
      ],
      "source": [
        "Numeric_Wrong_Values_Reassign_Group_Min_Max(df, 'Customer_ID', 'Monthly_Balance')"
      ]
    },
    {
      "cell_type": "markdown",
      "id": "bSjaUs5Lf-lL",
      "metadata": {
        "id": "bSjaUs5Lf-lL"
      },
      "source": [
        "## Modelo"
      ]
    },
    {
      "cell_type": "code",
      "execution_count": 78,
      "id": "1hVwQbYdj2Xp",
      "metadata": {
        "id": "1hVwQbYdj2Xp"
      },
      "outputs": [],
      "source": [
        "import pandas as pd\n",
        "from sklearn.model_selection import train_test_split\n",
        "from sklearn.pipeline import Pipeline\n",
        "from sklearn.preprocessing import StandardScaler\n",
        "from sklearn.metrics import classification_report\n",
        "from sklearn.preprocessing import OrdinalEncoder\n",
        "from sklearn.neighbors import KNeighborsClassifier\n",
        "from sklearn.linear_model import LogisticRegression\n",
        "from sklearn.metrics import accuracy_score\n",
        "import matplotlib.pyplot as plt\n",
        "from sklearn import metrics"
      ]
    },
    {
      "cell_type": "code",
      "execution_count": 79,
      "id": "2BIa28jTYp7S",
      "metadata": {
        "id": "2BIa28jTYp7S"
      },
      "outputs": [],
      "source": [
        "def calculate_mode(lst):\n",
        "    if not lst:\n",
        "        return None\n",
        "    return statistics.mode(lst)"
      ]
    },
    {
      "cell_type": "code",
      "execution_count": 80,
      "id": "ZFCvYP_whLGp",
      "metadata": {
        "id": "ZFCvYP_whLGp"
      },
      "outputs": [],
      "source": [
        "def preprocessor(data):\n",
        "    # Step 1: Data Preprocessing\n",
        "    data = data.sort_values(by=['Customer_ID', 'Month'])\n",
        "\n",
        "    # Encoding categorical values\n",
        "    categorical_columns = [cname for cname in data.columns if data[cname].nunique() and data[cname].dtype == \"object\"]\n",
        "\n",
        "    ordinal_encoder = OrdinalEncoder()\n",
        "    data[categorical_columns] = ordinal_encoder.fit_transform(data[categorical_columns])\n",
        "    return data"
      ]
    },
    {
      "cell_type": "code",
      "execution_count": 81,
      "id": "Z8-4WyFUhOuD",
      "metadata": {
        "id": "Z8-4WyFUhOuD"
      },
      "outputs": [],
      "source": [
        "def client_summary(data, target_month, num_prev_months):\n",
        "    months = [1, 2, 3, 4, 5, 6, 7, 8]\n",
        "    start_index = months.index(target_month) - num_prev_months\n",
        "    start_index = max(0, start_index)\n",
        "    previous_months = months[start_index:months.index(target_month)]\n",
        "\n",
        "    agg_data = data[data['Month'].between(previous_months[0], previous_months[-1], inclusive='both')].groupby('Customer_ID').agg({\n",
        "        'Age'                      :'mean',\n",
        "        'Occupation'               : list,\n",
        "        'Annual_Income'            :'mean',\n",
        "        'Monthly_Inhand_Salary'    :'mean',\n",
        "        'Num_Bank_Accounts'        :'mean',\n",
        "        'Num_Credit_Card'          :'mean',\n",
        "        'Interest_Rate'            :'mean',\n",
        "        'Num_of_Loan'              :'mean',\n",
        "        'Delay_from_due_date'      :'mean',\n",
        "        #'Num_of_Delayed_Payment'   :'mean',\n",
        "        'Changed_Credit_Limit'     :'mean',\n",
        "        #'Num_Credit_Inquiries'     :'mean',\n",
        "        'Credit_Mix'               :'first',\n",
        "        'Outstanding_Debt'         :'mean',\n",
        "        'Credit_Utilization_Ratio' :'mean',\n",
        "        'Credit_History_Age'       :'mean',\n",
        "        'Payment_of_Min_Amount'    :list,\n",
        "        'Total_EMI_per_month'      :'mean',\n",
        "        'Amount_invested_monthly'  :'mean',\n",
        "        'Payment_Behaviour'        :'mean',\n",
        "        'Monthly_Balance'          :'mean',\n",
        "        'Credit_Score'             : list   # List of credit scores for months 1 to 7\n",
        "    }).reset_index()\n",
        "\n",
        "\n",
        "    # Expand the list of credit scores into separate columns\n",
        "    expanded_scores = agg_data['Credit_Score'].apply(pd.Series)\n",
        "    expanded_scores.columns = [f'Credit_Score_{i}' for i in range(num_prev_months)]\n",
        "    agg_data = pd.concat([agg_data, expanded_scores], axis=1)\n",
        "    agg_data.drop('Credit_Score', axis=1, inplace=True)\n",
        "\n",
        "    # Calculate mode for categorical variables\n",
        "    agg_data['Occupation'] = agg_data['Occupation'].apply(calculate_mode)\n",
        "    agg_data['Payment_of_Min_Amount'] = agg_data['Payment_of_Min_Amount'].apply(calculate_mode)\n",
        "\n",
        "    # Target variable\n",
        "    target_month_data = data[data['Month'] == target_month]\n",
        "    target_month_data = target_month_data[[\"Customer_ID\", \"Credit_Score\"]].rename(columns={'Credit_Score': 'Target_Score'})\n",
        "\n",
        "    # Merge data and target\n",
        "    agg_data = agg_data.merge(target_month_data, on=\"Customer_ID\", how=\"inner\")\n",
        "\n",
        "    agg_data = agg_data.drop(['Customer_ID'], axis=1)\n",
        "\n",
        "    return agg_data"
      ]
    },
    {
      "cell_type": "code",
      "execution_count": 82,
      "id": "cmBOuzlagHCP",
      "metadata": {
        "id": "cmBOuzlagHCP"
      },
      "outputs": [],
      "source": [
        "# Convert datatypes\n",
        "# Do not include data with missing values in int_cols\n",
        "int_cols = ['Customer_ID', 'Month', 'Age', 'Num_Bank_Accounts', 'Num_Credit_Card', 'Interest_Rate', 'Num_of_Loan',\n",
        "            'Delay_from_due_date', 'Payment_of_Min_Amount', 'Payment_Behaviour', 'Credit_Score']\n",
        "float_cols = ['Annual_Income', 'Monthly_Inhand_Salary', 'Changed_Credit_Limit', 'Outstanding_Debt',\n",
        "              'Credit_Utilization_Ratio', 'Total_EMI_per_month', 'Amount_invested_monthly', 'Monthly_Balance']\n",
        "\n",
        "for i in int_cols:\n",
        "    df[i] = df[i].astype(int)\n",
        "for i in float_cols:\n",
        "    df[i] = df[i].astype(float)"
      ]
    },
    {
      "cell_type": "code",
      "execution_count": 83,
      "id": "IpDxLqwyVGdB",
      "metadata": {
        "id": "IpDxLqwyVGdB"
      },
      "outputs": [],
      "source": [
        "def train_valid_test(data, test_month, prev_months):\n",
        "    df_train = client_summary(data, prev_months+1, prev_months)\n",
        "    for month in range(prev_months+2, test_month-1):\n",
        "        summary = client_summary(data, month, prev_months)\n",
        "        df_train = pd.merge(df_train, summary, how='outer')\n",
        "    df_val = client_summary(data, test_month-1, prev_months)\n",
        "    df_test = client_summary(data, test_month, prev_months)\n",
        "\n",
        "    X_train, y_train = df_train.drop(['Target_Score'], axis=1), df_train['Target_Score']\n",
        "    X_val, y_val = df_val.drop(['Target_Score'], axis=1), df_val['Target_Score']\n",
        "    X_test, y_test = df_test.drop(['Target_Score'], axis=1), df_test['Target_Score']\n",
        "\n",
        "    return X_train, X_val, X_test, y_train, y_val, y_test"
      ]
    },
    {
      "cell_type": "code",
      "execution_count": 84,
      "id": "tB1nLPnKiQFH",
      "metadata": {
        "id": "tB1nLPnKiQFH"
      },
      "outputs": [],
      "source": [
        "# Data processing\n",
        "df = preprocessor(data=df)"
      ]
    },
    {
      "cell_type": "markdown",
      "id": "wQCvPNMdW_x8",
      "metadata": {
        "id": "wQCvPNMdW_x8"
      },
      "source": [
        "### Validación de los modelos usando distintas cantidades de meses"
      ]
    },
    {
      "cell_type": "code",
      "execution_count": 85,
      "id": "Ek4_zUeblYCg",
      "metadata": {
        "id": "Ek4_zUeblYCg"
      },
      "outputs": [],
      "source": [
        "def train_lr(X_train, y_train):\n",
        "    # Parametros para ser evaluados\n",
        "    param_grid = {\n",
        "        'classifier__C': np.logspace(-4, 4, 50),\n",
        "        'classifier__max_iter': [100, 1000],\n",
        "    }\n",
        "    # Modelo a usar\n",
        "    model = LogisticRegression(random_state=random_state, class_weight='balanced')\n",
        "    # Pipeline a usar\n",
        "    pipeline = Pipeline([\n",
        "        ('scaler', StandardScaler()),\n",
        "        ('classifier', model),\n",
        "    ])\n",
        "    # Buscar los mejores parámetros\n",
        "    lr = GridSearchCV(pipeline, cv=5, param_grid=param_grid, n_jobs=-1, scoring = 'f1', verbose=0)\n",
        "    lr.fit(X_train, y_train)\n",
        "    return lr"
      ]
    },
    {
      "cell_type": "code",
      "execution_count": 86,
      "id": "-uN1peF-Wx_X",
      "metadata": {
        "id": "-uN1peF-Wx_X"
      },
      "outputs": [],
      "source": [
        "def train_lr_ridge(X_train, y_train):\n",
        "    # Parametros para ser evaluados\n",
        "    param_grid = {\n",
        "        'classifier__C': np.logspace(-4, 4, 50),\n",
        "        'classifier__max_iter': [100, 1000],\n",
        "    }\n",
        "    # Modelo a usar\n",
        "    model = LogisticRegression(random_state=random_state, class_weight='balanced', penalty='l2', solver='lbfgs')\n",
        "    # Pipeline a usar\n",
        "    pipeline = Pipeline([\n",
        "        ('scaler', StandardScaler()),\n",
        "        ('classifier', model),\n",
        "    ])\n",
        "    # Buscar los mejores parámetros\n",
        "    lr = GridSearchCV(pipeline, cv=5, param_grid=param_grid, n_jobs=-1, scoring = 'f1', verbose=0)\n",
        "    lr.fit(X_train, y_train)\n",
        "    return lr"
      ]
    },
    {
      "cell_type": "code",
      "execution_count": 87,
      "id": "ISEI1nzGXctg",
      "metadata": {
        "id": "ISEI1nzGXctg"
      },
      "outputs": [],
      "source": [
        "def train_lr_lasso(X_train, y_train):\n",
        "    # Parametros para ser evaluados\n",
        "    param_grid = {\n",
        "        'classifier__C': np.logspace(-4, 4, 50),\n",
        "        'classifier__max_iter': [100, 1000],\n",
        "    }\n",
        "    # Modelo a usar\n",
        "    model = LogisticRegression(random_state=random_state, class_weight='balanced', penalty='l1', solver='liblinear')\n",
        "    # Pipeline a usar\n",
        "    pipeline = Pipeline([\n",
        "        ('scaler', StandardScaler()),\n",
        "        ('classifier', model),\n",
        "    ])\n",
        "    # Buscar los mejores parámetros\n",
        "    lr = GridSearchCV(pipeline, cv=5, param_grid=param_grid, n_jobs=-1, scoring = 'f1', verbose=0)\n",
        "    lr.fit(X_train, y_train)\n",
        "    return lr"
      ]
    },
    {
      "cell_type": "code",
      "execution_count": 88,
      "id": "7neGRJlSllYI",
      "metadata": {
        "id": "7neGRJlSllYI"
      },
      "outputs": [],
      "source": [
        "def train_knn(X_train, y_train):\n",
        "    param_grid = {\n",
        "      'classifier__n_neighbors': [3, 5, 7, 9, 11, 15],\n",
        "    }\n",
        "    model = KNeighborsClassifier()\n",
        "    pipeline = Pipeline([\n",
        "        ('scaler', StandardScaler()),\n",
        "        ('classifier', model),\n",
        "    ])\n",
        "    knn = GridSearchCV(pipeline, cv=5, param_grid=param_grid, n_jobs=-1, scoring = 'f1')\n",
        "    knn.fit(X_train, y_train)\n",
        "    return knn"
      ]
    },
    {
      "cell_type": "code",
      "execution_count": 89,
      "id": "zzAdGnmjluOF",
      "metadata": {
        "id": "zzAdGnmjluOF"
      },
      "outputs": [],
      "source": [
        "def train_lda(X_train, y_train):\n",
        "    param_grid = {\n",
        "        'classifier__solver': ['svd', 'lsqr', 'eigen'],\n",
        "    }\n",
        "    model = LinearDiscriminantAnalysis()\n",
        "    pipeline = Pipeline([\n",
        "        ('scaler', StandardScaler()),\n",
        "        ('classifier', model),\n",
        "    ])\n",
        "    lda = GridSearchCV(pipeline, cv=5, param_grid=param_grid, n_jobs=-1, scoring = 'f1')\n",
        "    lda.fit(X_train, y_train)\n",
        "    return lda"
      ]
    },
    {
      "cell_type": "code",
      "execution_count": 90,
      "id": "aiGo2EJRlzPt",
      "metadata": {
        "id": "aiGo2EJRlzPt"
      },
      "outputs": [],
      "source": [
        "def train_qda(X_train, y_train):\n",
        "    param_grid = {\n",
        "        'classifier__reg_param': [0.1, 0.2, 0.3, 0.4, 0.5]\n",
        "    }\n",
        "    model = QuadraticDiscriminantAnalysis()\n",
        "    pipeline = Pipeline([\n",
        "        ('scaler', StandardScaler()),\n",
        "        ('classifier', model),\n",
        "    ])\n",
        "    qda = GridSearchCV(pipeline, cv=5, param_grid=param_grid, n_jobs=-1, scoring = 'f1')\n",
        "    qda.fit(X_train, y_train)\n",
        "    return qda"
      ]
    },
    {
      "cell_type": "code",
      "execution_count": 91,
      "id": "uGCsS-jtl37p",
      "metadata": {
        "id": "uGCsS-jtl37p"
      },
      "outputs": [],
      "source": [
        "def train_nb(X_train, y_train):\n",
        "    param_grid = {\n",
        "        'classifier__var_smoothing': np.logspace(0,-9, num=100)\n",
        "    }\n",
        "    model = GaussianNB()\n",
        "    pipeline = Pipeline([\n",
        "        ('scaler', StandardScaler()),\n",
        "        ('classifier', model),\n",
        "    ])\n",
        "    nb = GridSearchCV(pipeline, cv=5, param_grid=param_grid, n_jobs=-1, scoring = 'f1')\n",
        "    nb.fit(X_train, y_train)\n",
        "    return nb"
      ]
    },
    {
      "cell_type": "code",
      "execution_count": 95,
      "metadata": {},
      "outputs": [
        {
          "name": "stderr",
          "output_type": "stream",
          "text": [
            "c:\\Users\\Daniela\\AppData\\Local\\Programs\\Python\\Python310\\lib\\site-packages\\sklearn\\model_selection\\_search.py:979: UserWarning: One or more of the test scores are non-finite: [nan nan nan nan nan]\n",
            "  warnings.warn(\n",
            "c:\\Users\\Daniela\\AppData\\Local\\Programs\\Python\\Python310\\lib\\site-packages\\sklearn\\discriminant_analysis.py:935: UserWarning: Variables are collinear\n",
            "  warnings.warn(\"Variables are collinear\")\n"
          ]
        }
      ],
      "source": [
        "month_to_pred = 8\n",
        "prev_months_to_pred = 3\n",
        "\n",
        "X_train, X_val, X_test, y_train, y_val, y_test = train_valid_test(df, month_to_pred, prev_months_to_pred)\n",
        "lr = train_lr(X_train, y_train)\n",
        "lr_ridge = train_lr_ridge(X_train, y_train)\n",
        "lr_lasso = train_lr_lasso(X_train, y_train)\n",
        "knn = train_knn(X_train, y_train)\n",
        "lda = train_lda(X_train, y_train)\n",
        "qda = train_qda(X_train, y_train)\n",
        "nb = train_nb(X_train, y_train)"
      ]
    },
    {
      "cell_type": "code",
      "execution_count": 101,
      "metadata": {},
      "outputs": [
        {
          "data": {
            "image/png": "[encoded data removed]",
            "text/plain": [
              "<Figure size 1000x600 with 1 Axes>"
            ]
          },
          "metadata": {},
          "output_type": "display_data"
        }
      ],
      "source": [
        "from sklearn.preprocessing import label_binarize\n",
        "\n",
        "# Obtener las puntuaciones de decisión para el conjunto de prueba\n",
        "y_score = qda.decision_function(X_val)\n",
        "\n",
        "# Binarizar las etiquetas\n",
        "y_val_bin = label_binarize(y_val, classes=np.unique(y_val))\n",
        "\n",
        "# Calcular la curva ROC para cada clase\n",
        "fpr = dict()\n",
        "tpr = dict()\n",
        "roc_auc = dict()\n",
        "\n",
        "for i in range(len(np.unique(y_val))):\n",
        "    fpr[i], tpr[i], _ = metrics.roc_curve(y_val_bin[:, i], y_score[:, i])\n",
        "    roc_auc[i] = metrics.auc(fpr[i], tpr[i])\n",
        "\n",
        "# Calcular el micro-average ROC curve y AUC\n",
        "fpr[\"micro\"], tpr[\"micro\"], _ = metrics.roc_curve(y_val_bin.ravel(), y_score.ravel())\n",
        "roc_auc[\"micro\"] = metrics.auc(fpr[\"micro\"], tpr[\"micro\"])\n",
        "\n",
        "# Plot the ROC curves\n",
        "plt.figure(figsize=(10, 6))\n",
        "plt.plot(fpr[\"micro\"], tpr[\"micro\"],\n",
        "         label=f'Micro-average ROC curve (AUC = {roc_auc[\"micro\"]:0.2f})',\n",
        "         color='deeppink', linestyle=':', linewidth=4)\n",
        "\n",
        "colors = ['aqua', 'darkorange', 'cornflowerblue']\n",
        "for i, color in zip(range(len(np.unique(y_val))), colors):\n",
        "    plt.plot(fpr[i], tpr[i], color=color, lw=2,\n",
        "             label=f'ROC curve (class {i+1}, AUC = {roc_auc[i]:0.2f})')\n",
        "\n",
        "plt.plot([0, 1], [0, 1], 'k--', lw=2)\n",
        "plt.xlim([0.0, 1.0])\n",
        "plt.ylim([0.0, 1.05])\n",
        "plt.xlabel('False Positive Rate')\n",
        "plt.ylabel('True Positive Rate')\n",
        "plt.title('Receiver Operating Characteristic (ROC) Curve for QDA')\n",
        "plt.legend(loc=\"lower right\")\n",
        "plt.show()\n"
      ]
    }
  ],
  "metadata": {
    "colab": {
      "collapsed_sections": [
        "4Q_sHZvFlhzj",
        "6Vq3QJ2UhRNk",
        "CujszEFAxftS",
        "7jz0Y08lxmMz",
        "y4g4nxsbxqa6"
      ],
      "machine_shape": "hm",
      "provenance": []
    },
    "kernelspec": {
      "display_name": "Python 3",
      "name": "python3"
    },
    "language_info": {
      "codemirror_mode": {
        "name": "ipython",
        "version": 3
      },
      "file_extension": ".py",
      "mimetype": "text/x-python",
      "name": "python",
      "nbconvert_exporter": "python",
      "pygments_lexer": "ipython3",
      "version": "3.10.2"
    },
    "papermill": {
      "default_parameters": {},
      "duration": 67.651381,
      "end_time": "2023-09-03T06:32:32.738787",
      "environment_variables": {},
      "exception": null,
      "input_path": "__notebook__.ipynb",
      "output_path": "__notebook__.ipynb",
      "parameters": {},
      "start_time": "2023-09-03T06:31:25.087406",
      "version": "2.3.4"
    }
  },
  "nbformat": 4,
  "nbformat_minor": 5
}
