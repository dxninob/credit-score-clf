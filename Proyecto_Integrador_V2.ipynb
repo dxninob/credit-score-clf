{
  "cells": [
    {
      "cell_type": "markdown",
      "id": "4Q_sHZvFlhzj",
      "metadata": {
        "id": "4Q_sHZvFlhzj"
      },
      "source": [
        "# Proyecto Integrador 2023-2"
      ]
    },
    {
      "cell_type": "markdown",
      "id": "t19OfXoelsJH",
      "metadata": {
        "id": "t19OfXoelsJH"
      },
      "source": [
        "Estudiantes :\n",
        "\n",
        "* Juan Felipe Cardona Arango\n",
        "* Juan Sebastian Sanin Villareal\n",
        "* Samuel Ceballos Posada\n",
        "* Daniela Ximena Niño Barbosa\n",
        "\n"
      ]
    },
    {
      "cell_type": "markdown",
      "id": "6Vq3QJ2UhRNk",
      "metadata": {
        "id": "6Vq3QJ2UhRNk"
      },
      "source": [
        "# Fase I. Business Understanding\n",
        "Definición de necesidades del cliente (comprensión del negocio)"
      ]
    },
    {
      "cell_type": "markdown",
      "id": "CujszEFAxftS",
      "metadata": {
        "id": "CujszEFAxftS"
      },
      "source": [
        "## Contexto del negocio"
      ]
    },
    {
      "cell_type": "markdown",
      "id": "IvVEMUbPhU8T",
      "metadata": {
        "id": "IvVEMUbPhU8T"
      },
      "source": [
        "El mercado de otorgar créditos financieros a personas es un mercado competitivo en el que las instituciones financieras compiten por captar clientes y generar ingresos. Las instituciones financieras que participan en este mercado deben tomar decisiones informadas sobre quién debe recibir un crédito y en qué condiciones.\n",
        "\n",
        "Información Relacionada con la Toma de Decisiones:\n",
        "\n",
        "* Datos del Solicitante: Las instituciones financieras recopilan información sobre los solicitantes de crédito, incluyendo sus ingresos, gastos, deudas existentes, historial crediticio y propósito del crédito. Esta información se utiliza para evaluar el riesgo crediticio del solicitante.\n",
        "* Modelos de Crédito: Las instituciones financieras utilizan modelos de crédito para evaluar el riesgo crediticio de los solicitantes. Estos modelos utilizan datos históricos para predecir la probabilidad de que un solicitante de crédito incumpla.\n",
        "* Reglas del Negocio: Las instituciones financieras tienen reglas del negocio que deben seguir al otorgar créditos. Estas reglas están diseñadas para proteger a las instituciones financieras del riesgo crediticio.\n",
        "\n",
        "Decisiones Clave:\n",
        "\n",
        "* Decisión de otorgar crédito: La decisión más importante que deben tomar las instituciones financieras es si otorgar o rechazar un crédito. Esta decisión se basa en la evaluación del riesgo crediticio del solicitante.\n",
        "* Condiciones del crédito: Una vez que la institución financiera decide otorgar un crédito, debe negociar las condiciones del crédito con el solicitante. Estas condiciones incluyen el monto del crédito, el plazo del crédito, la tasa de interés y las garantías.\n",
        "\n",
        "Optimizaciones:\n",
        "\n",
        "* Automatización: Las instituciones financieras pueden utilizar la automatización para mejorar la eficiencia de su proceso de aprobación de crédito. Esto puede ayudar a reducir los costos y aumentar la velocidad de respuesta.\n",
        "* Modelos de Crédito: Las instituciones financieras pueden utilizar modelos de crédito más avanzados para mejorar la precisión de sus evaluaciones de riesgo crediticio.\n",
        "* Análisis de datos: Las instituciones financieras pueden utilizar el análisis de datos para identificar patrones y tendencias que pueden ser útiles para la toma de decisiones de crédito."
      ]
    },
    {
      "cell_type": "markdown",
      "id": "7jz0Y08lxmMz",
      "metadata": {
        "id": "7jz0Y08lxmMz"
      },
      "source": [
        "## Pregunta de negocio"
      ]
    },
    {
      "cell_type": "markdown",
      "id": "x9Gf0N-khYHb",
      "metadata": {
        "id": "x9Gf0N-khYHb"
      },
      "source": [
        "El objetivo es responder a la siguiente pregunta de negocio:\n",
        "\n",
        "*XXXXXXX*"
      ]
    },
    {
      "cell_type": "markdown",
      "id": "y4g4nxsbxqa6",
      "metadata": {
        "id": "y4g4nxsbxqa6"
      },
      "source": [
        "## Reglas de negocio"
      ]
    },
    {
      "cell_type": "markdown",
      "id": "W3LiEHiZhdev",
      "metadata": {
        "id": "W3LiEHiZhdev"
      },
      "source": [
        "Las reglas del negocio para otorgar o rechazar un crédito financiero son las siguientes:\n",
        "\n",
        "* Capacidad de pago: El solicitante debe tener la capacidad de pagar el crédito, incluyendo los intereses y comisiones. Esto se puede evaluar considerando los ingresos, gastos, deudas existentes y otros compromisos financieros del solicitante.\n",
        "* Historial crediticio: El solicitante debe tener un historial crediticio positivo. Esto se puede verificar en las centrales de riesgo.\n",
        "* Propósito del crédito: El propósito del crédito debe ser legítimo y estar respaldado por un plan de negocios o personal claro.\n",
        "* Garantías: El solicitante puede ofrecer garantías para respaldar el crédito. Esto puede incluir bienes inmuebles, vehículos o activos comerciales.\n"
      ]
    },
    {
      "cell_type": "markdown",
      "id": "goL32rZoVp0R",
      "metadata": {
        "id": "goL32rZoVp0R"
      },
      "source": [
        "# Fase II. Data Understanding\n",
        "Estudio y comprensión de los datos"
      ]
    },
    {
      "cell_type": "markdown",
      "id": "_ZOiqA63-pta",
      "metadata": {
        "id": "_ZOiqA63-pta"
      },
      "source": [
        "## Librerías y lectura del dataset"
      ]
    },
    {
      "cell_type": "code",
      "execution_count": null,
      "id": "j7NaUcrX8iH4",
      "metadata": {
        "id": "j7NaUcrX8iH4"
      },
      "outputs": [],
      "source": [
        "import numpy as np\n",
        "import pandas as pd\n",
        "import matplotlib.pyplot as plt\n",
        "import seaborn as sns\n",
        "import statistics\n",
        "import scipy.stats as stats\n",
        "from sklearn.metrics import *\n",
        "from sklearn.pipeline import Pipeline\n",
        "from sklearn.preprocessing import OrdinalEncoder, StandardScaler\n",
        "from sklearn.model_selection import GridSearchCV\n",
        "from sklearn.preprocessing import label_binarize\n",
        "# Modelos\n",
        "from sklearn.linear_model import LogisticRegression\n",
        "from sklearn.neighbors import KNeighborsClassifier\n",
        "from sklearn.discriminant_analysis import LinearDiscriminantAnalysis, QuadraticDiscriminantAnalysis\n",
        "from sklearn.naive_bayes import GaussianNB\n",
        "random_state = 42"
      ]
    },
    {
      "cell_type": "code",
      "execution_count": null,
      "id": "6BjPcdmF-AUt",
      "metadata": {
        "colab": {
          "base_uri": "https://localhost:8080/"
        },
        "id": "6BjPcdmF-AUt",
        "outputId": "85126467-88c4-4556-cc28-b783289e7344"
      },
      "outputs": [],
      "source": [
        "# # Access to Drive\n",
        "# from google.colab import drive\n",
        "# drive.mount('/content/drive')"
      ]
    },
    {
      "cell_type": "code",
      "execution_count": null,
      "id": "TXrvVwuL-B_f",
      "metadata": {
        "colab": {
          "base_uri": "https://localhost:8080/",
          "height": 0
        },
        "id": "TXrvVwuL-B_f",
        "outputId": "babc4114-e6c7-4a5e-ade6-0505db78b7bc"
      },
      "outputs": [],
      "source": [
        "# Read the dataset using Pandas\n",
        "df = pd.read_csv('train.csv')\n",
        "df"
      ]
    },
    {
      "cell_type": "markdown",
      "id": "aBv22tzf-lnU",
      "metadata": {
        "id": "aBv22tzf-lnU"
      },
      "source": [
        "## EDA"
      ]
    },
    {
      "cell_type": "markdown",
      "id": "HfBoV9pP_sNQ",
      "metadata": {
        "id": "HfBoV9pP_sNQ"
      },
      "source": [
        "### Exploring the dataset"
      ]
    },
    {
      "cell_type": "code",
      "execution_count": null,
      "id": "NAVKWuzJ_DjN",
      "metadata": {
        "colab": {
          "base_uri": "https://localhost:8080/"
        },
        "id": "NAVKWuzJ_DjN",
        "outputId": "ba5ed5dc-e752-4079-9249-cc2ac6c869ee"
      },
      "outputs": [],
      "source": [
        "df.columns"
      ]
    },
    {
      "cell_type": "code",
      "execution_count": null,
      "id": "GE7fwMTZ8ymd",
      "metadata": {
        "colab": {
          "base_uri": "https://localhost:8080/"
        },
        "id": "GE7fwMTZ8ymd",
        "outputId": "4f2cd18d-b68c-43f6-e293-55592ca8c408"
      },
      "outputs": [],
      "source": [
        "df.shape"
      ]
    },
    {
      "cell_type": "code",
      "execution_count": null,
      "id": "-QWTu1zQ_NYB",
      "metadata": {
        "colab": {
          "base_uri": "https://localhost:8080/"
        },
        "id": "-QWTu1zQ_NYB",
        "outputId": "f08f180a-a10d-4c28-ddeb-77ff85a49009"
      },
      "outputs": [],
      "source": [
        "df.dtypes"
      ]
    },
    {
      "cell_type": "code",
      "execution_count": null,
      "id": "NJhP7pI8_Px2",
      "metadata": {
        "colab": {
          "base_uri": "https://localhost:8080/"
        },
        "id": "NJhP7pI8_Px2",
        "outputId": "570aadc8-ac74-4449-e095-9805089ca237"
      },
      "outputs": [],
      "source": [
        "df.info()"
      ]
    },
    {
      "cell_type": "markdown",
      "id": "024MtCtx_T1A",
      "metadata": {
        "id": "024MtCtx_T1A"
      },
      "source": [
        "Observaciones:\n",
        "1. Existen valores nulos en el dataset.\n",
        "2. El dataset tiene variables numericas y strings."
      ]
    },
    {
      "cell_type": "code",
      "execution_count": null,
      "id": "889B9G4R_Xou",
      "metadata": {
        "colab": {
          "base_uri": "https://localhost:8080/",
          "height": 0
        },
        "id": "889B9G4R_Xou",
        "outputId": "12ed36e5-5872-4744-ee72-aba2f2c1e6e6"
      },
      "outputs": [],
      "source": [
        "df.describe().T"
      ]
    },
    {
      "cell_type": "code",
      "execution_count": null,
      "id": "0L_XJGIn_akQ",
      "metadata": {
        "colab": {
          "base_uri": "https://localhost:8080/",
          "height": 0
        },
        "id": "0L_XJGIn_akQ",
        "outputId": "56c737b8-0c9a-4c3d-9fa5-bc2b7d4f2743"
      },
      "outputs": [],
      "source": [
        "df.describe(exclude=np.number).T"
      ]
    },
    {
      "cell_type": "markdown",
      "id": "y1nvfQGX_fkB",
      "metadata": {
        "id": "y1nvfQGX_fkB"
      },
      "source": [
        "Observaciones:\n",
        "1.\tEl campo Customer_ID tiene 12500 valores únicos, lo que significa que tenemos datos de 12500 clientes.\n",
        "2. El campo Month tiene solo 8 valores únicos. Debemos analizar que meses están presentes.\n",
        "3. El campo Age tiene 1788 valores únicos. Esto es una anomalía ya que únicamente hay edades de 0-100\n",
        "4. El campo SSN tiene 12501 valores únicos, mientras que Customer_ID tiene solo 12500 valores únicos. Existe la posibilidad de que se haya ingresado un valor de SSN incorrecto para uno de los clientes, ya que la misma persona no puede tener múltiples SSN."
      ]
    },
    {
      "cell_type": "code",
      "execution_count": null,
      "id": "eSf0sffKNkiy",
      "metadata": {
        "colab": {
          "base_uri": "https://localhost:8080/"
        },
        "id": "eSf0sffKNkiy",
        "outputId": "a9e81ae4-9390-4980-e85e-8f08c5748891"
      },
      "outputs": [],
      "source": [
        "# Check missing value or incorrect data\n",
        "for i in df:\n",
        "  print('\\n', i, df[i].unique())"
      ]
    },
    {
      "cell_type": "markdown",
      "id": "q5T_M-NlNz99",
      "metadata": {
        "id": "q5T_M-NlNz99"
      },
      "source": [
        "Observaciones:\n",
        "1. Existen valores nulos.\n",
        "2. Existen valores con caracteres incorrectos, por ejemplo, el valor 28_ en el campo Age."
      ]
    },
    {
      "cell_type": "markdown",
      "id": "FE_1_vFH_xOy",
      "metadata": {
        "id": "FE_1_vFH_xOy"
      },
      "source": [
        "### Visualizing missing values"
      ]
    },
    {
      "cell_type": "code",
      "execution_count": null,
      "id": "asBeYtZ3oqKP",
      "metadata": {
        "id": "asBeYtZ3oqKP"
      },
      "outputs": [],
      "source": [
        "df = df.replace(['None', 'nan', 'NaN'], np.nan)"
      ]
    },
    {
      "cell_type": "code",
      "execution_count": null,
      "id": "rTzFGdNm88Tr",
      "metadata": {
        "colab": {
          "base_uri": "https://localhost:8080/"
        },
        "id": "rTzFGdNm88Tr",
        "outputId": "acce2da5-32cc-41ca-9190-3688e08b6973"
      },
      "outputs": [],
      "source": [
        "# Missing values from each row\n",
        "df.isna().sum()"
      ]
    },
    {
      "cell_type": "code",
      "execution_count": null,
      "id": "XHDrRpsdAAdH",
      "metadata": {
        "colab": {
          "base_uri": "https://localhost:8080/",
          "height": 0
        },
        "id": "XHDrRpsdAAdH",
        "outputId": "15301963-5ab6-406c-b6ea-7678a7053035"
      },
      "outputs": [],
      "source": [
        "# Visualize the missing values\n",
        "plt.bar(df.columns, list(df.isna().sum()))\n",
        "plt.xticks(rotation = 90)\n",
        "plt.show()"
      ]
    },
    {
      "cell_type": "code",
      "execution_count": null,
      "id": "TWMjIrLL9EwZ",
      "metadata": {
        "colab": {
          "base_uri": "https://localhost:8080/"
        },
        "id": "TWMjIrLL9EwZ",
        "outputId": "28d5c43b-fbea-46f1-f614-66736d8a9048"
      },
      "outputs": [],
      "source": [
        "# Percentage of missing values\n",
        "df.isnull().mean()*100"
      ]
    },
    {
      "cell_type": "markdown",
      "metadata": {},
      "source": [
        "# Fase III. Data Preparation\n",
        "Análisis de los datos y selección de características"
      ]
    },
    {
      "cell_type": "markdown",
      "id": "wtDTVggS7wlW",
      "metadata": {
        "id": "wtDTVggS7wlW"
      },
      "source": [
        "## Transformación de los datos"
      ]
    },
    {
      "cell_type": "markdown",
      "id": "EOGyU_vDRQlR",
      "metadata": {
        "id": "EOGyU_vDRQlR"
      },
      "source": [
        "### Borrar columnas y datos innecesarios"
      ]
    },
    {
      "cell_type": "code",
      "execution_count": null,
      "id": "Jd4TDD9JMQ0A",
      "metadata": {
        "id": "Jd4TDD9JMQ0A"
      },
      "outputs": [],
      "source": [
        "# Drop unnecesary columns\n",
        "df = df.drop(df[['ID', 'Name', 'SSN', 'Type_of_Loan']], axis=1)"
      ]
    },
    {
      "cell_type": "code",
      "execution_count": null,
      "id": "WdM8jUvFLp-i",
      "metadata": {
        "id": "WdM8jUvFLp-i"
      },
      "outputs": [],
      "source": [
        "# Convert ID from hexadecimal to integer\n",
        "df['Customer_ID'] = df['Customer_ID'].apply(lambda x: int(x[4:], 16))"
      ]
    },
    {
      "cell_type": "code",
      "execution_count": null,
      "id": "LJ3R26opdjhu",
      "metadata": {
        "colab": {
          "base_uri": "https://localhost:8080/"
        },
        "id": "LJ3R26opdjhu",
        "outputId": "3412ef0f-03a5-4722-8899-8a1b6a38f384"
      },
      "outputs": [],
      "source": [
        "# Replace character _ to blank in Payment_Behaviour\n",
        "df['Payment_Behaviour'] = df['Payment_Behaviour'].astype(str).str.replace('_',' ')\n",
        "# Remove invalid characters\n",
        "sym = \"\\\\`*_{}[]()>#@+!$:;%\"\n",
        "for i in df.columns:\n",
        "    for c in sym:\n",
        "        df[i] = df[i].astype(str).str.replace(c,'')"
      ]
    },
    {
      "cell_type": "code",
      "execution_count": null,
      "id": "Sfn1s7zPomNg",
      "metadata": {
        "id": "Sfn1s7zPomNg"
      },
      "outputs": [],
      "source": [
        "df = df.replace(['None', 'nan', 'NaN'], np.nan)"
      ]
    },
    {
      "cell_type": "code",
      "execution_count": null,
      "id": "9ITftRR5icWq",
      "metadata": {
        "id": "9ITftRR5icWq"
      },
      "outputs": [],
      "source": [
        "# Replace empty strings with nan values\n",
        "df = df.replace('', np.nan)"
      ]
    },
    {
      "cell_type": "markdown",
      "id": "5bxZpCmOpJ90",
      "metadata": {
        "id": "5bxZpCmOpJ90"
      },
      "source": [
        "### Cambiar tipos de datos"
      ]
    },
    {
      "cell_type": "code",
      "execution_count": null,
      "id": "1y-OYh5MMxSr",
      "metadata": {
        "id": "1y-OYh5MMxSr"
      },
      "outputs": [],
      "source": [
        "# Transform the values in Payment_of_Min_Amount to numbers\n",
        "df['Month'] = pd.to_datetime(df['Month'], format='%B').dt.month"
      ]
    },
    {
      "cell_type": "code",
      "execution_count": null,
      "id": "gskUgeJ0J0tM",
      "metadata": {
        "id": "gskUgeJ0J0tM"
      },
      "outputs": [],
      "source": [
        "# Transform the values in Credit_Mix to numbers\n",
        "df['Credit_Mix'] = df['Credit_Mix'].astype(str).str.replace('Bad','1')\n",
        "df['Credit_Mix'] = df['Credit_Mix'].astype(str).str.replace('Standard','2')\n",
        "df['Credit_Mix'] = df['Credit_Mix'].astype(str).str.replace('Good','3')"
      ]
    },
    {
      "cell_type": "code",
      "execution_count": null,
      "id": "eeef8e9f",
      "metadata": {
        "id": "eeef8e9f"
      },
      "outputs": [],
      "source": [
        "# Transform the values in Credit_History_Age to numbers\n",
        "def str_to_int(string):\n",
        "    if string != 'nan':\n",
        "        years = int(string[:string.index('.')])\n",
        "        months = int(string[string.index('.')+1:])/12\n",
        "        return(years + months)\n",
        "    else:\n",
        "        return np.nan\n",
        "\n",
        "df['Credit_History_Age'] = df['Credit_History_Age'].astype(str).str.replace(' Years and ','.')\n",
        "df['Credit_History_Age'] = df['Credit_History_Age'].astype(str).str.replace('Months','')\n",
        "df['Credit_History_Age'] = df['Credit_History_Age'].apply(lambda x: str_to_int(x))"
      ]
    },
    {
      "cell_type": "code",
      "execution_count": null,
      "id": "EDMgZ8KCvhmD",
      "metadata": {
        "id": "EDMgZ8KCvhmD"
      },
      "outputs": [],
      "source": [
        "# Transform the values in Payment_of_Min_Amount to numbers\n",
        "df['Payment_of_Min_Amount'] = df['Payment_of_Min_Amount'].str.replace('NM', '0')\n",
        "df['Payment_of_Min_Amount'] = df['Payment_of_Min_Amount'].str.replace('No', '1')\n",
        "df['Payment_of_Min_Amount'] = df['Payment_of_Min_Amount'].str.replace('Yes', '2')"
      ]
    },
    {
      "cell_type": "code",
      "execution_count": null,
      "id": "zqT6MVpnttwn",
      "metadata": {
        "id": "zqT6MVpnttwn"
      },
      "outputs": [],
      "source": [
        "# Transform the values in Payment_Behaviour to numbers\n",
        "df['Payment_Behaviour'] = df['Payment_Behaviour'].astype(str).str.replace('Low spent Small value payments','1')\n",
        "df['Payment_Behaviour'] = df['Payment_Behaviour'].astype(str).str.replace('Low spent Medium value payments','2')\n",
        "df['Payment_Behaviour'] = df['Payment_Behaviour'].astype(str).str.replace('Low spent Large value payments','3')\n",
        "df['Payment_Behaviour'] = df['Payment_Behaviour'].astype(str).str.replace('High spent Small value payments','4')\n",
        "df['Payment_Behaviour'] = df['Payment_Behaviour'].astype(str).str.replace('High spent Medium value payments','5')\n",
        "df['Payment_Behaviour'] = df['Payment_Behaviour'].astype(str).str.replace('High spent Large value payments','6')"
      ]
    },
    {
      "cell_type": "code",
      "execution_count": null,
      "id": "jBkHd51wuLBb",
      "metadata": {
        "id": "jBkHd51wuLBb"
      },
      "outputs": [],
      "source": [
        "# Transform the values in Credit_Score to numbers\n",
        "df['Credit_Score'] = df['Credit_Score'].astype(str).str.replace('Poor','1')\n",
        "df['Credit_Score'] = df['Credit_Score'].astype(str).str.replace('Standard','2')\n",
        "df['Credit_Score'] = df['Credit_Score'].astype(str).str.replace('Good','3')"
      ]
    },
    {
      "cell_type": "code",
      "execution_count": null,
      "id": "RpFA190z-tFX",
      "metadata": {
        "id": "RpFA190z-tFX"
      },
      "outputs": [],
      "source": [
        "df = df.replace(['None', 'nan', 'NaN'], np.nan)"
      ]
    },
    {
      "cell_type": "code",
      "execution_count": null,
      "id": "Ew7VPtN6i1h5",
      "metadata": {
        "colab": {
          "base_uri": "https://localhost:8080/"
        },
        "id": "Ew7VPtN6i1h5",
        "outputId": "161f29cd-92c7-421d-e50b-7d4552897bf1"
      },
      "outputs": [],
      "source": [
        "# Missing values from each row\n",
        "df.isna().sum()"
      ]
    },
    {
      "cell_type": "code",
      "execution_count": null,
      "id": "ZUBB8gDXe-uC",
      "metadata": {
        "id": "ZUBB8gDXe-uC"
      },
      "outputs": [],
      "source": [
        "# Convert datatypes\n",
        "# Do not include data with missing values in int_cols\n",
        "int_cols = ['Customer_ID', 'Month', 'Age', 'Num_Bank_Accounts', 'Num_Credit_Card', 'Interest_Rate', 'Num_of_Loan',\n",
        "            'Delay_from_due_date', 'Payment_of_Min_Amount', 'Payment_Behaviour', 'Credit_Score']\n",
        "float_cols = ['Annual_Income', 'Monthly_Inhand_Salary', 'Changed_Credit_Limit', 'Outstanding_Debt',\n",
        "              'Credit_Utilization_Ratio', 'Total_EMI_per_month', 'Amount_invested_monthly', 'Monthly_Balance']\n",
        "\n",
        "for i in int_cols:\n",
        "    df[i] = df[i].astype(int)\n",
        "for i in float_cols:\n",
        "    df[i] = df[i].astype(float)"
      ]
    },
    {
      "cell_type": "code",
      "execution_count": null,
      "id": "X9_PLpPLLgEp",
      "metadata": {
        "colab": {
          "base_uri": "https://localhost:8080/"
        },
        "id": "X9_PLpPLLgEp",
        "outputId": "da976900-8a32-410d-e165-499d396c49ec"
      },
      "outputs": [],
      "source": [
        "# Missing values from each row\n",
        "df.isna().sum()"
      ]
    },
    {
      "cell_type": "markdown",
      "id": "3byiJJcPRfTd",
      "metadata": {
        "id": "3byiJJcPRfTd"
      },
      "source": [
        "### Reemplazar valores nulos de columnas de datos discretos/categoricos"
      ]
    },
    {
      "cell_type": "code",
      "execution_count": null,
      "id": "okkRxoKlWpxS",
      "metadata": {
        "colab": {
          "base_uri": "https://localhost:8080/"
        },
        "id": "okkRxoKlWpxS",
        "outputId": "113e63e3-c9ff-4b7c-9c73-3ef7820768be"
      },
      "outputs": [],
      "source": [
        "df['Month'].value_counts()"
      ]
    },
    {
      "cell_type": "code",
      "execution_count": null,
      "id": "E7QjQxGXLkg0",
      "metadata": {
        "colab": {
          "base_uri": "https://localhost:8080/"
        },
        "id": "E7QjQxGXLkg0",
        "outputId": "5d7aeb4d-f07d-44a9-ef28-c5cd06301636"
      },
      "outputs": [],
      "source": [
        "df['Age'].unique()"
      ]
    },
    {
      "cell_type": "code",
      "execution_count": null,
      "id": "FjhTSOeFMfns",
      "metadata": {
        "colab": {
          "base_uri": "https://localhost:8080/"
        },
        "id": "FjhTSOeFMfns",
        "outputId": "b7632257-da57-4473-b81c-3d20ec1436c1"
      },
      "outputs": [],
      "source": [
        "for i in df['Customer_ID'].unique():\n",
        "    mode = df[df['Customer_ID'] == i]['Age'].mode()[0]\n",
        "    df.loc[df[\"Customer_ID\"] == i, \"Age\"] = mode\n",
        "df['Age'].unique()"
      ]
    },
    {
      "cell_type": "code",
      "execution_count": null,
      "id": "gM4F-6yPC6YJ",
      "metadata": {
        "id": "gM4F-6yPC6YJ"
      },
      "outputs": [],
      "source": [
        "def fill_nan_with_mode(df, groupby, column):\n",
        "    # Fill with local mode\n",
        "    fill_mode = lambda x: x.fillna(pd.Series.mode(x).iat[0])\n",
        "    result = df.groupby(groupby)[column].transform(fill_mode)\n",
        "    df[column] = result"
      ]
    },
    {
      "cell_type": "code",
      "execution_count": null,
      "id": "TsjQfmo3NbMA",
      "metadata": {
        "colab": {
          "base_uri": "https://localhost:8080/"
        },
        "id": "TsjQfmo3NbMA",
        "outputId": "049f97f2-7be1-4a3d-f1d4-c67ec528a2b9"
      },
      "outputs": [],
      "source": [
        "df['Occupation'].unique()"
      ]
    },
    {
      "cell_type": "code",
      "execution_count": null,
      "id": "O6sy5wTANiJ1",
      "metadata": {
        "colab": {
          "base_uri": "https://localhost:8080/"
        },
        "id": "O6sy5wTANiJ1",
        "outputId": "0cf2f694-b3ae-4cbb-dd30-e26d11a92493"
      },
      "outputs": [],
      "source": [
        "fill_nan_with_mode(df, 'Customer_ID', 'Occupation')\n",
        "df['Occupation'].unique()"
      ]
    },
    {
      "cell_type": "code",
      "execution_count": null,
      "id": "fX53NW86JElH",
      "metadata": {
        "colab": {
          "base_uri": "https://localhost:8080/"
        },
        "id": "fX53NW86JElH",
        "outputId": "4d6c906b-9326-4073-db4d-8fef0c9081c0"
      },
      "outputs": [],
      "source": [
        "df['Credit_Mix'].unique()"
      ]
    },
    {
      "cell_type": "code",
      "execution_count": null,
      "id": "2NhpEo5IJK9d",
      "metadata": {
        "colab": {
          "base_uri": "https://localhost:8080/"
        },
        "id": "2NhpEo5IJK9d",
        "outputId": "9d71b8c6-50e9-4f1c-a0f0-454cd145400a"
      },
      "outputs": [],
      "source": [
        "fill_nan_with_mode(df, 'Customer_ID', 'Credit_Mix')\n",
        "df['Credit_Mix'] = df['Credit_Mix'].astype(int)\n",
        "df['Credit_Mix'].unique()"
      ]
    },
    {
      "cell_type": "code",
      "execution_count": null,
      "id": "OVc3MdTNO7jC",
      "metadata": {
        "colab": {
          "base_uri": "https://localhost:8080/"
        },
        "id": "OVc3MdTNO7jC",
        "outputId": "1ee5ca19-a58a-4da4-d179-82939d184f7b"
      },
      "outputs": [],
      "source": [
        "df['Payment_of_Min_Amount'].unique()"
      ]
    },
    {
      "cell_type": "code",
      "execution_count": null,
      "id": "Fs_EIQ2sPKKa",
      "metadata": {
        "colab": {
          "base_uri": "https://localhost:8080/"
        },
        "id": "Fs_EIQ2sPKKa",
        "outputId": "f9b3bce9-e022-4fc3-a328-1fc26adc2322"
      },
      "outputs": [],
      "source": [
        "df['Payment_Behaviour'].unique()"
      ]
    },
    {
      "cell_type": "code",
      "execution_count": null,
      "id": "1e-A_RyaRxuO",
      "metadata": {
        "colab": {
          "base_uri": "https://localhost:8080/"
        },
        "id": "1e-A_RyaRxuO",
        "outputId": "6c8f95bd-0ea2-46b9-ab04-8eff6d9fb99a"
      },
      "outputs": [],
      "source": [
        "df['Payment_Behaviour'] = df['Payment_Behaviour'].replace(98,np.nan)\n",
        "fill_nan_with_mode(df, 'Customer_ID', 'Payment_Behaviour')\n",
        "df['Payment_Behaviour'] = df['Payment_Behaviour'].astype(int)\n",
        "df['Payment_Behaviour'].unique()"
      ]
    },
    {
      "cell_type": "code",
      "execution_count": null,
      "id": "8-2QrlUPTYKn",
      "metadata": {
        "colab": {
          "base_uri": "https://localhost:8080/"
        },
        "id": "8-2QrlUPTYKn",
        "outputId": "20d0a933-a3e9-4274-af40-fdc6a5ed2948"
      },
      "outputs": [],
      "source": [
        "df['Credit_Score'].unique()"
      ]
    },
    {
      "cell_type": "code",
      "execution_count": null,
      "id": "B7ZAQdDyV4zP",
      "metadata": {
        "colab": {
          "base_uri": "https://localhost:8080/"
        },
        "id": "B7ZAQdDyV4zP",
        "outputId": "bb11f8bf-eb35-4b26-b78b-b312b99e6719"
      },
      "outputs": [],
      "source": [
        "# Missing values from each row\n",
        "df.isna().sum()"
      ]
    },
    {
      "cell_type": "markdown",
      "id": "8-9Wh0EWYCfb",
      "metadata": {
        "id": "8-9Wh0EWYCfb"
      },
      "source": [
        "### Reemplazar valores nulos y outliers de columnas de datos continuos"
      ]
    },
    {
      "cell_type": "code",
      "execution_count": null,
      "id": "m2OMGGcVaZ36",
      "metadata": {
        "id": "m2OMGGcVaZ36"
      },
      "outputs": [],
      "source": [
        "# Define Outlier Range\n",
        "def get_iqr_lower_upper(df, column, multiply=1.5):\n",
        "    q1 = df[column].quantile(0.25)\n",
        "    q3 = df[column].quantile(0.75)\n",
        "    iqr = q3 -q1\n",
        "\n",
        "    lower = q1-iqr*multiply\n",
        "    upper = q3+iqr*multiply\n",
        "    affect = df.loc[(df[column]<lower)|(df[column]>upper)].shape\n",
        "    print('Outliers:', affect)\n",
        "    return lower, upper"
      ]
    },
    {
      "cell_type": "code",
      "execution_count": null,
      "id": "qQQqYqqlYxUM",
      "metadata": {
        "id": "qQQqYqqlYxUM"
      },
      "outputs": [],
      "source": [
        "def Numeric_Wrong_Values_Reassign_Group_Min_Max(df, groupby, column, inplace=True):\n",
        "    # Identify Wrong values Range\n",
        "    def get_group_min_max(df, groupby, column):\n",
        "          cur = df[df[column].notna()].groupby(groupby)[column].apply(list)\n",
        "          mode_result = cur.apply(lambda x: stats.mode(x))\n",
        "\n",
        "          if mode_result.empty:\n",
        "              return np.nan, np.nan\n",
        "\n",
        "          return mode_result.apply([min, max])\n",
        "\n",
        "# Assigning Wrong values\n",
        "    def make_group_NaN_and_fill_mode(df, groupby, column, inplace=True):\n",
        "        # Filtrar y agrupar por el valor de la columna\n",
        "        grouped_data = df.groupby(groupby)[column]\n",
        "\n",
        "        # Calcular la moda para cada grupo\n",
        "        mode_result = grouped_data.apply(lambda x: custom_mode(x))\n",
        "\n",
        "        # Verificar si no hay cambios necesarios\n",
        "        if mode_result.dropna().empty:\n",
        "            return df[column] if inplace else mode_result\n",
        "\n",
        "        # Obtener el valor mínimo y máximo de la moda para cada grupo\n",
        "        mini_value = mode_result.min()\n",
        "        maxi_value = mode_result.max()\n",
        "\n",
        "        # Crear una copia del DataFrame original\n",
        "        col = df[column].copy()\n",
        "\n",
        "        # Asignar valores incorrectos a NaN\n",
        "        col[(col < mini_value) | (col > maxi_value)] = np.nan\n",
        "\n",
        "        # Llenar con la moda local\n",
        "        mode_by_group = grouped_data.transform(lambda x: x.mode().iloc[0] if not x.mode().empty else np.NaN)\n",
        "        result = col.fillna(mode_by_group)\n",
        "\n",
        "        # En su lugar si se especifica\n",
        "        if inplace:\n",
        "            df[column] = result\n",
        "        else:\n",
        "            return result\n",
        "\n",
        "    # Custom mode function to handle NaN and multiple modes\n",
        "    def custom_mode(x):\n",
        "        mode_result = x.mode()\n",
        "        return mode_result.iloc[0] if not mode_result.empty else np.nan\n",
        "\n",
        "    # Run\n",
        "    if inplace:\n",
        "        # Before Assigning NaN values\n",
        "        nan_count_before = df[column].isna().sum()\n",
        "        if nan_count_before > 0:\n",
        "            print(f'\\nBefore Assigning: {column}: have {nan_count_before} NaN Values', end='\\n')\n",
        "\n",
        "        print(\"\\nExisting Min, Max Values:\", df[column].apply([min, max]), sep='\\n', end='\\n')\n",
        "        mini, maxi = get_group_min_max(df, groupby, column)\n",
        "        print(f\"\\nGroupby by {groupby}'s Actual min, max Values:\", f'min:\\t{mini},\\nmax:\\t{maxi}', sep='\\n', end='\\n')\n",
        "\n",
        "        a = df.groupby(groupby)[column].apply(list)\n",
        "        print(f'\\nBefore Assigning Example {column}:\\n', *a.head().values, sep='\\n', end='\\n')\n",
        "\n",
        "        # Assigning\n",
        "        make_group_NaN_and_fill_mode(df, groupby, column)\n",
        "\n",
        "        # After Assigning NaN values\n",
        "        nan_count_after = df[column].isna().sum()\n",
        "        if nan_count_after > 0:\n",
        "            print(f'\\nAfter Assigning: {column}: have {nan_count_after} NaN Values', end='\\n')\n",
        "\n",
        "        b = df.groupby(groupby)[column].apply(list)\n",
        "        print(f'\\nAfter Assigning Example {column}:\\n', *b.head().values, sep='\\n', end='\\n')\n",
        "    else:\n",
        "        # Show\n",
        "        return make_group_NaN_and_fill_mode(df, groupby, column)"
      ]
    },
    {
      "cell_type": "code",
      "execution_count": null,
      "id": "r3ENnb6wbJwJ",
      "metadata": {
        "colab": {
          "base_uri": "https://localhost:8080/"
        },
        "id": "r3ENnb6wbJwJ",
        "outputId": "d0e0ddf3-d402-4061-adec-c0f5f7651f3a"
      },
      "outputs": [],
      "source": [
        "df.Annual_Income.value_counts(dropna=False)"
      ]
    },
    {
      "cell_type": "code",
      "execution_count": null,
      "id": "S7qfIDOMbQaE",
      "metadata": {
        "colab": {
          "base_uri": "https://localhost:8080/"
        },
        "id": "S7qfIDOMbQaE",
        "outputId": "8cb232c7-086d-4e2e-ef42-ccfa7923e503"
      },
      "outputs": [],
      "source": [
        "Numeric_Wrong_Values_Reassign_Group_Min_Max(df, 'Customer_ID', 'Annual_Income')"
      ]
    },
    {
      "cell_type": "code",
      "execution_count": null,
      "id": "CA3QDl1i3HKA",
      "metadata": {
        "colab": {
          "base_uri": "https://localhost:8080/"
        },
        "id": "CA3QDl1i3HKA",
        "outputId": "6a9b51f6-d70e-4625-d857-2a3370798470"
      },
      "outputs": [],
      "source": [
        "df.Monthly_Inhand_Salary.value_counts(dropna=False)"
      ]
    },
    {
      "cell_type": "code",
      "execution_count": null,
      "id": "uD6InxkRt99c",
      "metadata": {
        "colab": {
          "base_uri": "https://localhost:8080/"
        },
        "id": "uD6InxkRt99c",
        "outputId": "a68a990c-af01-497f-bd56-b625e9bdb3c9"
      },
      "outputs": [],
      "source": [
        "Numeric_Wrong_Values_Reassign_Group_Min_Max(df, 'Customer_ID', 'Monthly_Inhand_Salary')"
      ]
    },
    {
      "cell_type": "code",
      "execution_count": null,
      "id": "uwCImWdB2S0H",
      "metadata": {
        "colab": {
          "base_uri": "https://localhost:8080/"
        },
        "id": "uwCImWdB2S0H",
        "outputId": "cb67d99a-c6c8-4181-a7b3-949eca00ed6e"
      },
      "outputs": [],
      "source": [
        "df.Monthly_Inhand_Salary.value_counts(dropna=False)"
      ]
    },
    {
      "cell_type": "code",
      "execution_count": null,
      "id": "1SJjOcsY1Q3i",
      "metadata": {
        "colab": {
          "base_uri": "https://localhost:8080/"
        },
        "id": "1SJjOcsY1Q3i",
        "outputId": "25aff41f-e6df-45e4-d9cd-6fe6a4de0f5c"
      },
      "outputs": [],
      "source": [
        "Numeric_Wrong_Values_Reassign_Group_Min_Max(df, 'Customer_ID', 'Num_Bank_Accounts')"
      ]
    },
    {
      "cell_type": "code",
      "execution_count": null,
      "id": "rphI85mr3SqI",
      "metadata": {
        "colab": {
          "base_uri": "https://localhost:8080/"
        },
        "id": "rphI85mr3SqI",
        "outputId": "a32d7b21-e365-4f4c-f970-3d1d43a89d7a"
      },
      "outputs": [],
      "source": [
        "df.Num_Credit_Card.value_counts(dropna=False)"
      ]
    },
    {
      "cell_type": "code",
      "execution_count": null,
      "id": "HYzPauqX3ebF",
      "metadata": {
        "colab": {
          "base_uri": "https://localhost:8080/"
        },
        "id": "HYzPauqX3ebF",
        "outputId": "490afaf5-2346-4e0f-ef0b-54180e518469"
      },
      "outputs": [],
      "source": [
        "Numeric_Wrong_Values_Reassign_Group_Min_Max(df, 'Customer_ID', 'Num_Credit_Card')"
      ]
    },
    {
      "cell_type": "code",
      "execution_count": null,
      "id": "NEuGdBIY3oJt",
      "metadata": {
        "id": "NEuGdBIY3oJt"
      },
      "outputs": [],
      "source": [
        "df.Interest_Rate.value_counts(dropna=False)"
      ]
    },
    {
      "cell_type": "code",
      "execution_count": null,
      "id": "3Hz7_WbC3s2D",
      "metadata": {
        "id": "3Hz7_WbC3s2D"
      },
      "outputs": [],
      "source": [
        "Numeric_Wrong_Values_Reassign_Group_Min_Max(df, 'Customer_ID', 'Interest_Rate')"
      ]
    },
    {
      "cell_type": "code",
      "execution_count": null,
      "id": "NvAa6Uik3z2w",
      "metadata": {
        "id": "NvAa6Uik3z2w"
      },
      "outputs": [],
      "source": [
        "df.Num_of_Loan.value_counts(dropna=False)"
      ]
    },
    {
      "cell_type": "code",
      "execution_count": null,
      "id": "5MK73YB331Rg",
      "metadata": {
        "id": "5MK73YB331Rg"
      },
      "outputs": [],
      "source": [
        "Numeric_Wrong_Values_Reassign_Group_Min_Max(df, 'Customer_ID', 'Num_of_Loan')"
      ]
    },
    {
      "cell_type": "code",
      "execution_count": null,
      "id": "NCkKYkcB3-Vo",
      "metadata": {
        "id": "NCkKYkcB3-Vo"
      },
      "outputs": [],
      "source": [
        "df.Delay_from_due_date.value_counts(dropna=False)"
      ]
    },
    {
      "cell_type": "code",
      "execution_count": null,
      "id": "KD4iR6LB3_jp",
      "metadata": {
        "id": "KD4iR6LB3_jp"
      },
      "outputs": [],
      "source": [
        "Numeric_Wrong_Values_Reassign_Group_Min_Max(df, 'Customer_ID', 'Delay_from_due_date')"
      ]
    },
    {
      "cell_type": "code",
      "execution_count": null,
      "id": "VSDwelct4G_A",
      "metadata": {
        "id": "VSDwelct4G_A"
      },
      "outputs": [],
      "source": [
        "# df.Num_of_Delayed_Payment.value_counts(dropna=False)"
      ]
    },
    {
      "cell_type": "code",
      "execution_count": null,
      "id": "H1eYxXMD4ITR",
      "metadata": {
        "id": "H1eYxXMD4ITR"
      },
      "outputs": [],
      "source": [
        "# Numeric_Wrong_Values_Reassign_Group_Min_Max(df, 'Customer_ID', 'Num_of_Delayed_Payment')"
      ]
    },
    {
      "cell_type": "code",
      "execution_count": null,
      "id": "WJ4UomGa5cha",
      "metadata": {
        "id": "WJ4UomGa5cha"
      },
      "outputs": [],
      "source": [
        "df.Changed_Credit_Limit.value_counts(dropna=False)"
      ]
    },
    {
      "cell_type": "code",
      "execution_count": null,
      "id": "X9pv4N235eHe",
      "metadata": {
        "id": "X9pv4N235eHe"
      },
      "outputs": [],
      "source": [
        "Numeric_Wrong_Values_Reassign_Group_Min_Max(df, 'Customer_ID', 'Changed_Credit_Limit')"
      ]
    },
    {
      "cell_type": "code",
      "execution_count": null,
      "id": "UfLtufMy5hgI",
      "metadata": {
        "id": "UfLtufMy5hgI"
      },
      "outputs": [],
      "source": [
        "# df.Num_Credit_Inquiries.value_counts(dropna=False)"
      ]
    },
    {
      "cell_type": "code",
      "execution_count": null,
      "id": "BdroI8xd5jq5",
      "metadata": {
        "id": "BdroI8xd5jq5"
      },
      "outputs": [],
      "source": [
        "# Numeric_Wrong_Values_Reassign_Group_Min_Max(df, 'Customer_ID', 'Num_Credit_Inquiries')"
      ]
    },
    {
      "cell_type": "code",
      "execution_count": null,
      "id": "VBpLiNmX5ofK",
      "metadata": {
        "id": "VBpLiNmX5ofK"
      },
      "outputs": [],
      "source": [
        "df.Outstanding_Debt.value_counts(dropna=False)"
      ]
    },
    {
      "cell_type": "code",
      "execution_count": null,
      "id": "hqmsORFZ5pmG",
      "metadata": {
        "id": "hqmsORFZ5pmG"
      },
      "outputs": [],
      "source": [
        "Numeric_Wrong_Values_Reassign_Group_Min_Max(df, 'Customer_ID', 'Outstanding_Debt')"
      ]
    },
    {
      "cell_type": "code",
      "execution_count": null,
      "id": "_YclXKAl5trf",
      "metadata": {
        "id": "_YclXKAl5trf"
      },
      "outputs": [],
      "source": [
        "df.Credit_Utilization_Ratio.value_counts(dropna=False)"
      ]
    },
    {
      "cell_type": "code",
      "execution_count": null,
      "id": "X_jLgFvZ5uni",
      "metadata": {
        "id": "X_jLgFvZ5uni"
      },
      "outputs": [],
      "source": [
        "df.Credit_Utilization_Ratio.isna().sum()"
      ]
    },
    {
      "cell_type": "code",
      "execution_count": null,
      "id": "vumjJmO_5yZj",
      "metadata": {
        "id": "vumjJmO_5yZj"
      },
      "outputs": [],
      "source": [
        "df.Credit_History_Age.value_counts(dropna=False)"
      ]
    },
    {
      "cell_type": "code",
      "execution_count": null,
      "id": "_DKa1n7E50co",
      "metadata": {
        "id": "_DKa1n7E50co"
      },
      "outputs": [],
      "source": [
        "df['Credit_History_Age'] = df.groupby('Customer_ID', group_keys=False)['Credit_History_Age'].apply(lambda x: x.interpolate().bfill().ffill())"
      ]
    },
    {
      "cell_type": "code",
      "execution_count": null,
      "id": "I_VgDOlP53kX",
      "metadata": {
        "id": "I_VgDOlP53kX"
      },
      "outputs": [],
      "source": [
        "df.Total_EMI_per_month.value_counts(dropna=False)"
      ]
    },
    {
      "cell_type": "code",
      "execution_count": null,
      "id": "Twuv_voO54xP",
      "metadata": {
        "id": "Twuv_voO54xP"
      },
      "outputs": [],
      "source": [
        "Numeric_Wrong_Values_Reassign_Group_Min_Max(df, 'Customer_ID', 'Total_EMI_per_month')"
      ]
    },
    {
      "cell_type": "code",
      "execution_count": null,
      "id": "tfZbyHMi578l",
      "metadata": {
        "id": "tfZbyHMi578l"
      },
      "outputs": [],
      "source": [
        "df.Amount_invested_monthly.value_counts(dropna=False)"
      ]
    },
    {
      "cell_type": "code",
      "execution_count": null,
      "id": "k7mFua5P589d",
      "metadata": {
        "id": "k7mFua5P589d"
      },
      "outputs": [],
      "source": [
        "Numeric_Wrong_Values_Reassign_Group_Min_Max(df, 'Customer_ID', 'Amount_invested_monthly')"
      ]
    },
    {
      "cell_type": "code",
      "execution_count": null,
      "id": "zEjSp9kH5_-v",
      "metadata": {
        "id": "zEjSp9kH5_-v"
      },
      "outputs": [],
      "source": [
        "df.Monthly_Balance.value_counts(dropna=False)"
      ]
    },
    {
      "cell_type": "code",
      "execution_count": null,
      "id": "syu3d4nf6BBm",
      "metadata": {
        "id": "syu3d4nf6BBm"
      },
      "outputs": [],
      "source": [
        "Numeric_Wrong_Values_Reassign_Group_Min_Max(df, 'Customer_ID', 'Monthly_Balance')"
      ]
    },
    {
      "cell_type": "markdown",
      "metadata": {},
      "source": [
        "### Change datatypes"
      ]
    },
    {
      "cell_type": "code",
      "execution_count": null,
      "id": "cmBOuzlagHCP",
      "metadata": {
        "id": "cmBOuzlagHCP"
      },
      "outputs": [],
      "source": [
        "# Convert datatypes\n",
        "int_cols = ['Customer_ID', 'Month', 'Age', 'Num_Bank_Accounts', 'Num_Credit_Card', 'Interest_Rate', 'Num_of_Loan',\n",
        "            'Delay_from_due_date', 'Payment_of_Min_Amount', 'Payment_Behaviour', 'Credit_Score']\n",
        "float_cols = ['Annual_Income', 'Monthly_Inhand_Salary', 'Changed_Credit_Limit', 'Outstanding_Debt',\n",
        "              'Credit_Utilization_Ratio', 'Total_EMI_per_month', 'Amount_invested_monthly', 'Monthly_Balance']\n",
        "\n",
        "for i in int_cols:\n",
        "    df[i] = df[i].astype(int)\n",
        "for i in float_cols:\n",
        "    df[i] = df[i].astype(float)"
      ]
    },
    {
      "cell_type": "markdown",
      "metadata": {},
      "source": [
        "# Fase IV. Modeling"
      ]
    },
    {
      "cell_type": "markdown",
      "id": "bSjaUs5Lf-lL",
      "metadata": {
        "id": "bSjaUs5Lf-lL"
      },
      "source": [
        "## Funciones de ayuda"
      ]
    },
    {
      "cell_type": "code",
      "execution_count": null,
      "id": "2BIa28jTYp7S",
      "metadata": {
        "id": "2BIa28jTYp7S"
      },
      "outputs": [],
      "source": [
        "def calculate_mode(lst):\n",
        "    if not lst:\n",
        "        return None\n",
        "    return statistics.mode(lst)"
      ]
    },
    {
      "cell_type": "code",
      "execution_count": null,
      "id": "ZFCvYP_whLGp",
      "metadata": {
        "id": "ZFCvYP_whLGp"
      },
      "outputs": [],
      "source": [
        "def preprocessor(data):\n",
        "    # Step 1: Data Preprocessing\n",
        "    data = data.sort_values(by=['Customer_ID', 'Month'])\n",
        "\n",
        "    # Encoding categorical values\n",
        "    categorical_columns = [cname for cname in data.columns if data[cname].nunique() and data[cname].dtype == \"object\"]\n",
        "\n",
        "    ordinal_encoder = OrdinalEncoder()\n",
        "    data[categorical_columns] = ordinal_encoder.fit_transform(data[categorical_columns])\n",
        "    return data"
      ]
    },
    {
      "cell_type": "code",
      "execution_count": null,
      "id": "Z8-4WyFUhOuD",
      "metadata": {
        "id": "Z8-4WyFUhOuD"
      },
      "outputs": [],
      "source": [
        "def client_summary(data, target_month, num_prev_months):\n",
        "    months = [1, 2, 3, 4, 5, 6, 7, 8]\n",
        "    start_index = months.index(target_month) - num_prev_months\n",
        "    start_index = max(0, start_index)\n",
        "    previous_months = months[start_index:months.index(target_month)]\n",
        "\n",
        "    agg_data = data[data['Month'].between(previous_months[0], previous_months[-1], inclusive='both')].groupby('Customer_ID').agg({\n",
        "        'Age'                      :'mean',\n",
        "        'Occupation'               : list,\n",
        "        'Annual_Income'            :'mean',\n",
        "        'Monthly_Inhand_Salary'    :'mean',\n",
        "        'Num_Bank_Accounts'        :'mean',\n",
        "        'Num_Credit_Card'          :'mean',\n",
        "        'Interest_Rate'            :'mean',\n",
        "        'Num_of_Loan'              :'mean',\n",
        "        'Delay_from_due_date'      :'mean',\n",
        "        #'Num_of_Delayed_Payment'   :'mean',\n",
        "        'Changed_Credit_Limit'     :'mean',\n",
        "        #'Num_Credit_Inquiries'     :'mean',\n",
        "        'Credit_Mix'               :'first',\n",
        "        'Outstanding_Debt'         :'mean',\n",
        "        'Credit_Utilization_Ratio' :'mean',\n",
        "        'Credit_History_Age'       :'mean',\n",
        "        'Payment_of_Min_Amount'    :list,\n",
        "        'Total_EMI_per_month'      :'mean',\n",
        "        'Amount_invested_monthly'  :'mean',\n",
        "        'Payment_Behaviour'        :'mean',\n",
        "        'Monthly_Balance'          :'mean',\n",
        "        'Credit_Score'             : list   # List of credit scores for months 1 to 7\n",
        "    }).reset_index()\n",
        "\n",
        "\n",
        "    # Expand the list of credit scores into separate columns\n",
        "    expanded_scores = agg_data['Credit_Score'].apply(pd.Series)\n",
        "    expanded_scores.columns = [f'Credit_Score_{i}' for i in range(num_prev_months)]\n",
        "    agg_data = pd.concat([agg_data, expanded_scores], axis=1)\n",
        "    agg_data.drop('Credit_Score', axis=1, inplace=True)\n",
        "\n",
        "    # Calculate mode for categorical variables\n",
        "    agg_data['Occupation'] = agg_data['Occupation'].apply(calculate_mode)\n",
        "    agg_data['Payment_of_Min_Amount'] = agg_data['Payment_of_Min_Amount'].apply(calculate_mode)\n",
        "\n",
        "    # Target variable\n",
        "    target_month_data = data[data['Month'] == target_month]\n",
        "    target_month_data = target_month_data[[\"Customer_ID\", \"Credit_Score\"]].rename(columns={'Credit_Score': 'Target_Score'})\n",
        "\n",
        "    # Merge data and target\n",
        "    agg_data = agg_data.merge(target_month_data, on=\"Customer_ID\", how=\"inner\")\n",
        "\n",
        "    agg_data = agg_data.drop(['Customer_ID'], axis=1)\n",
        "\n",
        "    return agg_data"
      ]
    },
    {
      "cell_type": "code",
      "execution_count": null,
      "id": "IpDxLqwyVGdB",
      "metadata": {
        "id": "IpDxLqwyVGdB"
      },
      "outputs": [],
      "source": [
        "def train_valid_test(data, test_month, prev_months):\n",
        "    df_train = client_summary(data, prev_months+1, prev_months)\n",
        "    for month in range(prev_months+2, test_month-1):\n",
        "        summary = client_summary(data, month, prev_months)\n",
        "        df_train = pd.merge(df_train, summary, how='outer')\n",
        "    df_val = client_summary(data, test_month-1, prev_months)\n",
        "    df_test = client_summary(data, test_month, prev_months)\n",
        "\n",
        "    X_train, y_train = df_train.drop(['Target_Score'], axis=1), df_train['Target_Score']\n",
        "    X_val, y_val = df_val.drop(['Target_Score'], axis=1), df_val['Target_Score']\n",
        "    X_test, y_test = df_test.drop(['Target_Score'], axis=1), df_test['Target_Score']\n",
        "\n",
        "    return X_train, X_val, X_test, y_train, y_val, y_test"
      ]
    },
    {
      "cell_type": "markdown",
      "id": "wQCvPNMdW_x8",
      "metadata": {
        "id": "wQCvPNMdW_x8"
      },
      "source": [
        "## Validación de los modelos usando distintas cantidades de meses"
      ]
    },
    {
      "cell_type": "markdown",
      "metadata": {},
      "source": [
        "### Funciones de prueba de modelos"
      ]
    },
    {
      "cell_type": "code",
      "execution_count": null,
      "id": "Ek4_zUeblYCg",
      "metadata": {
        "id": "Ek4_zUeblYCg"
      },
      "outputs": [],
      "source": [
        "def train_lr(X_train, y_train):\n",
        "    # Parametros para ser evaluados\n",
        "    param_grid = {\n",
        "        'classifier__C': np.logspace(-4, 4, 50),\n",
        "        'classifier__max_iter': [100, 1000],\n",
        "    }\n",
        "    # Modelo a usar\n",
        "    model = LogisticRegression(random_state=random_state, class_weight='balanced')\n",
        "    # Pipeline a usar\n",
        "    pipeline = Pipeline([\n",
        "        ('scaler', StandardScaler()),\n",
        "        ('classifier', model),\n",
        "    ])\n",
        "    # Buscar los mejores parámetros\n",
        "    lr = GridSearchCV(pipeline, cv=5, param_grid=param_grid, n_jobs=-1, scoring = 'f1', verbose=0)\n",
        "    lr.fit(X_train, y_train)\n",
        "    return lr"
      ]
    },
    {
      "cell_type": "code",
      "execution_count": null,
      "id": "-uN1peF-Wx_X",
      "metadata": {
        "id": "-uN1peF-Wx_X"
      },
      "outputs": [],
      "source": [
        "def train_lr_ridge(X_train, y_train):\n",
        "    # Parametros para ser evaluados\n",
        "    param_grid = {\n",
        "        'classifier__C': np.logspace(-4, 4, 50),\n",
        "        'classifier__max_iter': [100, 1000],\n",
        "    }\n",
        "    # Modelo a usar\n",
        "    model = LogisticRegression(random_state=random_state, class_weight='balanced', penalty='l2', solver='lbfgs')\n",
        "    # Pipeline a usar\n",
        "    pipeline = Pipeline([\n",
        "        ('scaler', StandardScaler()),\n",
        "        ('classifier', model),\n",
        "    ])\n",
        "    # Buscar los mejores parámetros\n",
        "    lr = GridSearchCV(pipeline, cv=5, param_grid=param_grid, n_jobs=-1, scoring = 'f1', verbose=0)\n",
        "    lr.fit(X_train, y_train)\n",
        "    return lr"
      ]
    },
    {
      "cell_type": "code",
      "execution_count": null,
      "id": "ISEI1nzGXctg",
      "metadata": {
        "id": "ISEI1nzGXctg"
      },
      "outputs": [],
      "source": [
        "def train_lr_lasso(X_train, y_train):\n",
        "    # Parametros para ser evaluados\n",
        "    param_grid = {\n",
        "        'classifier__C': np.logspace(-4, 4, 50),\n",
        "        'classifier__max_iter': [100, 1000],\n",
        "    }\n",
        "    # Modelo a usar\n",
        "    model = LogisticRegression(random_state=random_state, class_weight='balanced', penalty='l1', solver='liblinear')\n",
        "    # Pipeline a usar\n",
        "    pipeline = Pipeline([\n",
        "        ('scaler', StandardScaler()),\n",
        "        ('classifier', model),\n",
        "    ])\n",
        "    # Buscar los mejores parámetros\n",
        "    lr = GridSearchCV(pipeline, cv=5, param_grid=param_grid, n_jobs=-1, scoring = 'f1', verbose=0)\n",
        "    lr.fit(X_train, y_train)\n",
        "    return lr"
      ]
    },
    {
      "cell_type": "code",
      "execution_count": null,
      "id": "7neGRJlSllYI",
      "metadata": {
        "id": "7neGRJlSllYI"
      },
      "outputs": [],
      "source": [
        "def train_knn(X_train, y_train):\n",
        "    param_grid = {\n",
        "      'classifier__n_neighbors': [3, 5, 7, 9, 11, 15],\n",
        "    }\n",
        "    model = KNeighborsClassifier()\n",
        "    pipeline = Pipeline([\n",
        "        ('scaler', StandardScaler()),\n",
        "        ('classifier', model),\n",
        "    ])\n",
        "    knn = GridSearchCV(pipeline, cv=5, param_grid=param_grid, n_jobs=-1, scoring = 'f1')\n",
        "    knn.fit(X_train, y_train)\n",
        "    return knn"
      ]
    },
    {
      "cell_type": "code",
      "execution_count": null,
      "id": "zzAdGnmjluOF",
      "metadata": {
        "id": "zzAdGnmjluOF"
      },
      "outputs": [],
      "source": [
        "def train_lda(X_train, y_train):\n",
        "    param_grid = {\n",
        "        'classifier__solver': ['svd', 'lsqr', 'eigen'],\n",
        "    }\n",
        "    model = LinearDiscriminantAnalysis()\n",
        "    pipeline = Pipeline([\n",
        "        ('scaler', StandardScaler()),\n",
        "        ('classifier', model),\n",
        "    ])\n",
        "    lda = GridSearchCV(pipeline, cv=5, param_grid=param_grid, n_jobs=-1, scoring = 'f1')\n",
        "    lda.fit(X_train, y_train)\n",
        "    return lda"
      ]
    },
    {
      "cell_type": "code",
      "execution_count": null,
      "id": "aiGo2EJRlzPt",
      "metadata": {
        "id": "aiGo2EJRlzPt"
      },
      "outputs": [],
      "source": [
        "def train_qda(X_train, y_train):\n",
        "    param_grid = {\n",
        "        'classifier__reg_param': [0.1, 0.2, 0.3, 0.4, 0.5]\n",
        "    }\n",
        "    model = QuadraticDiscriminantAnalysis()\n",
        "    pipeline = Pipeline([\n",
        "        ('scaler', StandardScaler()),\n",
        "        ('classifier', model),\n",
        "    ])\n",
        "    qda = GridSearchCV(pipeline, cv=5, param_grid=param_grid, n_jobs=-1, scoring = 'f1')\n",
        "    qda.fit(X_train, y_train)\n",
        "    return qda"
      ]
    },
    {
      "cell_type": "code",
      "execution_count": null,
      "id": "uGCsS-jtl37p",
      "metadata": {
        "id": "uGCsS-jtl37p"
      },
      "outputs": [],
      "source": [
        "def train_nb(X_train, y_train):\n",
        "    param_grid = {\n",
        "        'classifier__var_smoothing': np.logspace(0,-9, num=100)\n",
        "    }\n",
        "    model = GaussianNB()\n",
        "    pipeline = Pipeline([\n",
        "        ('scaler', StandardScaler()),\n",
        "        ('classifier', model),\n",
        "    ])\n",
        "    nb = GridSearchCV(pipeline, cv=5, param_grid=param_grid, n_jobs=-1, scoring = 'f1')\n",
        "    nb.fit(X_train, y_train)\n",
        "    return nb"
      ]
    },
    {
      "cell_type": "markdown",
      "metadata": {},
      "source": [
        "### Funciones para imprimir métricas"
      ]
    },
    {
      "cell_type": "code",
      "execution_count": null,
      "metadata": {},
      "outputs": [],
      "source": [
        "def clf_report_models(lr, lr_ridge, lr_lasso, knn, lda, qda, nb, X_val, y_val, months):\n",
        "    for i in range(6):\n",
        "        if i == 0:\n",
        "            print(f'Logistic Regression - {months} prev months')\n",
        "            y_pred = lr.predict(X_val)\n",
        "        elif i == 1:\n",
        "            print(f'\\nLogistic Regression Ridge - {months} prev months')\n",
        "            y_pred = lr_ridge.predict(X_val)\n",
        "        elif i == 2:\n",
        "            print(f'\\nLogistic Regression Lasso - {months} prev months')\n",
        "            y_pred = lr_lasso.predict(X_val)\n",
        "        elif i == 3:\n",
        "            print(f'\\nKNN - {months} prev months')\n",
        "            y_pred = knn.predict(X_val)\n",
        "        elif i == 4:\n",
        "            print(f'\\nLDA - {months} prev months')\n",
        "            y_pred = lda.predict(X_val)\n",
        "        elif i == 5:\n",
        "            print(f'\\nQDA - {months} prev months')\n",
        "            y_pred = qda.predict(X_val)\n",
        "        elif i == 6:\n",
        "            print(f'\\nNaive Bayes - {months} prev months')\n",
        "            y_pred = nb.predict(X_val)\n",
        "        print(classification_report(y_val, y_pred))"
      ]
    },
    {
      "cell_type": "code",
      "execution_count": null,
      "metadata": {},
      "outputs": [],
      "source": [
        "# Obtener las puntuaciones de decisión para el conjunto de prueba\n",
        "y_score = qda.decision_function(X_val)\n",
        "\n",
        "# Binarizar las etiquetas\n",
        "y_val_bin = label_binarize(y_val, classes=np.unique(y_val))\n",
        "\n",
        "# Calcular la curva ROC para cada clase\n",
        "fpr = dict()\n",
        "tpr = dict()\n",
        "roc_auc = dict()\n",
        "\n",
        "for i in range(len(np.unique(y_val))):\n",
        "    fpr[i], tpr[i], _ = roc_curve(y_val_bin[:, i], y_score[:, i])\n",
        "    roc_auc[i] = auc(fpr[i], tpr[i])\n",
        "\n",
        "# Calcular el micro-average ROC curve y AUC\n",
        "fpr[\"micro\"], tpr[\"micro\"], _ = roc_curve(y_val_bin.ravel(), y_score.ravel())\n",
        "roc_auc[\"micro\"] = auc(fpr[\"micro\"], tpr[\"micro\"])\n",
        "\n",
        "# Plot the ROC curves\n",
        "plt.figure(figsize=(10, 6))\n",
        "plt.plot(fpr[\"micro\"], tpr[\"micro\"],\n",
        "         label=f'Micro-average ROC curve (AUC = {roc_auc[\"micro\"]:0.2f})',\n",
        "         color='deeppink', linestyle=':', linewidth=4)\n",
        "\n",
        "colors = ['aqua', 'darkorange', 'cornflowerblue']\n",
        "for i, color in zip(range(len(np.unique(y_val))), colors):\n",
        "    plt.plot(fpr[i], tpr[i], color=color, lw=2,\n",
        "             label=f'ROC curve (class {i+1}, AUC = {roc_auc[i]:0.2f})')\n",
        "\n",
        "plt.plot([0, 1], [0, 1], 'k--', lw=2)\n",
        "plt.xlim([0.0, 1.0])\n",
        "plt.ylim([0.0, 1.05])\n",
        "plt.xlabel('False Positive Rate')\n",
        "plt.ylabel('True Positive Rate')\n",
        "plt.title('Receiver Operating Characteristic (ROC) Curve for QDA')\n",
        "plt.legend(loc=\"lower right\")\n",
        "plt.show()\n"
      ]
    },
    {
      "cell_type": "markdown",
      "metadata": {},
      "source": [
        "### Validación de modelos"
      ]
    },
    {
      "cell_type": "code",
      "execution_count": null,
      "id": "tB1nLPnKiQFH",
      "metadata": {
        "id": "tB1nLPnKiQFH"
      },
      "outputs": [],
      "source": [
        "# Data processing\n",
        "df = preprocessor(data=df)"
      ]
    },
    {
      "cell_type": "code",
      "execution_count": null,
      "metadata": {},
      "outputs": [],
      "source": [
        "month_to_pred = 8\n",
        "prev_months_to_pred = 3\n",
        "\n",
        "X_train, X_val, X_test, y_train, y_val, y_test = train_valid_test(df, month_to_pred, prev_months_to_pred)\n",
        "lr_3 = train_lr(X_train, y_train)\n",
        "lr_ridge_3 = train_lr_ridge(X_train, y_train)\n",
        "lr_lasso_3 = train_lr_lasso(X_train, y_train)\n",
        "knn_3 = train_knn(X_train, y_train)\n",
        "lda_3 = train_lda(X_train, y_train)\n",
        "qda_3 = train_qda(X_train, y_train)\n",
        "nb_3 = train_nb(X_train, y_train)"
      ]
    },
    {
      "cell_type": "code",
      "execution_count": null,
      "metadata": {},
      "outputs": [],
      "source": [
        "month_to_pred = 8\n",
        "prev_months_to_pred = 4\n",
        "\n",
        "X_train, X_val, X_test, y_train, y_val, y_test = train_valid_test(df, month_to_pred, prev_months_to_pred)\n",
        "lr_4 = train_lr(X_train, y_train)\n",
        "lr_ridge_4 = train_lr_ridge(X_train, y_train)\n",
        "lr_lasso_4 = train_lr_lasso(X_train, y_train)\n",
        "knn_4 = train_knn(X_train, y_train)\n",
        "lda_4 = train_lda(X_train, y_train)\n",
        "qda_4 = train_qda(X_train, y_train)\n",
        "nb_4 = train_nb(X_train, y_train)"
      ]
    },
    {
      "cell_type": "code",
      "execution_count": null,
      "metadata": {},
      "outputs": [],
      "source": [
        "month_to_pred = 8\n",
        "prev_months_to_pred = 5\n",
        "\n",
        "X_train, X_val, X_test, y_train, y_val, y_test = train_valid_test(df, month_to_pred, prev_months_to_pred)\n",
        "lr_5 = train_lr(X_train, y_train)\n",
        "lr_ridge_5 = train_lr_ridge(X_train, y_train)\n",
        "lr_lasso_5 = train_lr_lasso(X_train, y_train)\n",
        "knn_5 = train_knn(X_train, y_train)\n",
        "lda_5 = train_lda(X_train, y_train)\n",
        "qda_5 = train_qda(X_train, y_train)\n",
        "nb_5 = train_nb(X_train, y_train)"
      ]
    },
    {
      "cell_type": "code",
      "execution_count": null,
      "metadata": {},
      "outputs": [],
      "source": [
        "month_to_pred = 8\n",
        "prev_months_to_pred = 6\n",
        "\n",
        "X_train, X_val, X_test, y_train, y_val, y_test = train_valid_test(df, month_to_pred, prev_months_to_pred)\n",
        "lr_6 = train_lr(X_train, y_train)\n",
        "lr_ridge_6 = train_lr_ridge(X_train, y_train)\n",
        "lr_lasso_6 = train_lr_lasso(X_train, y_train)\n",
        "knn_6 = train_knn(X_train, y_train)\n",
        "lda_6 = train_lda(X_train, y_train)\n",
        "qda_6 = train_qda(X_train, y_train)\n",
        "nb_6 = train_nb(X_train, y_train)"
      ]
    }
  ],
  "metadata": {
    "colab": {
      "collapsed_sections": [
        "4Q_sHZvFlhzj",
        "6Vq3QJ2UhRNk",
        "CujszEFAxftS",
        "7jz0Y08lxmMz",
        "y4g4nxsbxqa6"
      ],
      "machine_shape": "hm",
      "provenance": []
    },
    "kernelspec": {
      "display_name": "Python 3",
      "name": "python3"
    },
    "language_info": {
      "codemirror_mode": {
        "name": "ipython",
        "version": 3
      },
      "file_extension": ".py",
      "mimetype": "text/x-python",
      "name": "python",
      "nbconvert_exporter": "python",
      "pygments_lexer": "ipython3",
      "version": "3.10.2"
    },
    "papermill": {
      "default_parameters": {},
      "duration": 67.651381,
      "end_time": "2023-09-03T06:32:32.738787",
      "environment_variables": {},
      "exception": null,
      "input_path": "__notebook__.ipynb",
      "output_path": "__notebook__.ipynb",
      "parameters": {},
      "start_time": "2023-09-03T06:31:25.087406",
      "version": "2.3.4"
    }
  },
  "nbformat": 4,
  "nbformat_minor": 5
}
